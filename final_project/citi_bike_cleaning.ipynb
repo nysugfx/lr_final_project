{
 "cells": [
  {
   "cell_type": "code",
   "execution_count": null,
   "id": "initial_id",
   "metadata": {
    "collapsed": true
   },
   "outputs": [],
   "source": [
    "import pandas as pd\n",
    "import os\n",
    "import gzip\n",
    "import numpy as np\n",
    "\n",
    "datafiles = sorted(list(os.listdir('data')))\n",
    "\n",
    "def adjust_colnames(df: pd.DataFrame) -> pd.DataFrame:\n",
    "    if 'tripduration' in df.columns:\n",
    "        df = df.rename(\n",
    "            columns={\n",
    "                'starttime': 'started_at',\n",
    "                'stoptime': 'ended_at',\n",
    "                'start station id': 'start_station_id',\n",
    "                'start station name': 'start_station_name',\n",
    "                'start station latitude': 'start_lat',\n",
    "                'start station longitude': 'start_lng',\n",
    "                'end station id': 'end_station_id',\n",
    "                'end station name': 'end_station_name',\n",
    "                'end station latitude': 'end_lat',\n",
    "                'end station longitude': 'end_lng',\n",
    "                'usertype': 'member_casual',\n",
    "            })\n",
    "        df = df.drop(columns=['tripduration', 'birth year', 'bikeid', 'gender'])\n",
    "        df['rideable_type'] = np.nan\n",
    "        df['member_casual'] = df['member_casual'].replace({'Subscriber': 'member', 'Customer': 'casual'})\n",
    "    else:\n",
    "        df = df.drop(columns=['ride_id'])\n",
    "\n",
    "    return df\n",
    "\n",
    "all_data = []   \n",
    "\n",
    "for file in datafiles:\n",
    "    if file.endswith('.csv'):\n",
    "        data = adjust_colnames(pd.read_csv('data/' + file, low_memory=False))\n",
    "        all_data.append(data)\n",
    "        \n",
    "all_data = pd.concat(all_data)\n"
   ]
  },
  {
   "cell_type": "code",
   "execution_count": 16,
   "outputs": [],
   "source": [
    "all_data['started_at'] = pd.to_datetime(all_data['started_at'], format='mixed')\n",
    "all_data['ended_at'] = pd.to_datetime(all_data['ended_at'], format='mixed')\n",
    "all_data['ride_duration_secs'] = (all_data['ended_at'] - all_data['started_at']).dt.total_seconds()"
   ],
   "metadata": {
    "collapsed": false,
    "ExecuteTime": {
     "end_time": "2023-11-20T01:02:58.897469Z",
     "start_time": "2023-11-20T01:02:52.045041Z"
    }
   },
   "id": "1d6dcadee5580445"
  },
  {
   "cell_type": "code",
   "execution_count": 21,
   "outputs": [],
   "source": [
    "def get_euclidean_distance(row):\n",
    "    return np.sqrt((row['start_lat'] - row['end_lat'])**2 + (row['start_lng'] - row['end_lng'])**2)\n",
    "\n",
    "all_data['distance_traveled'] = all_data.apply(get_euclidean_distance, axis=1)"
   ],
   "metadata": {
    "collapsed": false,
    "ExecuteTime": {
     "end_time": "2023-11-20T02:24:50.940437Z",
     "start_time": "2023-11-20T02:20:55.340241Z"
    }
   },
   "id": "b4aefc4af128a027"
  },
  {
   "cell_type": "code",
   "execution_count": 36,
   "outputs": [
    {
     "data": {
      "text/plain": "  start_station_id end_station_id  distance_traveled_Customer  \\\n0               72             72                    0.000000   \n1               72             79                    0.049813   \n2               72            116                    0.000000   \n3               72            127                    0.037787   \n4               72            128                    0.041175   \n\n   distance_traveled_Subscriber  distance_traveled_casual  \\\n0                      0.000000                       0.0   \n1                      0.000000                       0.0   \n2                      0.026596                       0.0   \n3                      0.000000                       0.0   \n4                      0.041175                       0.0   \n\n   distance_traveled_member  ride_duration_secs_Customer  \\\n0                       0.0                     2200.540   \n1                       0.0                     1747.900   \n2                       0.0                        0.000   \n3                       0.0                     1399.094   \n4                       0.0                     1252.312   \n\n   ride_duration_secs_Subscriber  ride_duration_secs_casual  \\\n0                     792.102843                        0.0   \n1                       0.000000                        0.0   \n2                     840.623000                        0.0   \n3                       0.000000                        0.0   \n4                    1468.311000                        0.0   \n\n   ride_duration_secs_member  trip_count  \n0                        0.0          62  \n1                        0.0           1  \n2                        0.0           1  \n3                        0.0           1  \n4                        0.0           2  ",
      "text/html": "<div>\n<style scoped>\n    .dataframe tbody tr th:only-of-type {\n        vertical-align: middle;\n    }\n\n    .dataframe tbody tr th {\n        vertical-align: top;\n    }\n\n    .dataframe thead th {\n        text-align: right;\n    }\n</style>\n<table border=\"1\" class=\"dataframe\">\n  <thead>\n    <tr style=\"text-align: right;\">\n      <th></th>\n      <th>start_station_id</th>\n      <th>end_station_id</th>\n      <th>distance_traveled_Customer</th>\n      <th>distance_traveled_Subscriber</th>\n      <th>distance_traveled_casual</th>\n      <th>distance_traveled_member</th>\n      <th>ride_duration_secs_Customer</th>\n      <th>ride_duration_secs_Subscriber</th>\n      <th>ride_duration_secs_casual</th>\n      <th>ride_duration_secs_member</th>\n      <th>trip_count</th>\n    </tr>\n  </thead>\n  <tbody>\n    <tr>\n      <th>0</th>\n      <td>72</td>\n      <td>72</td>\n      <td>0.000000</td>\n      <td>0.000000</td>\n      <td>0.0</td>\n      <td>0.0</td>\n      <td>2200.540</td>\n      <td>792.102843</td>\n      <td>0.0</td>\n      <td>0.0</td>\n      <td>62</td>\n    </tr>\n    <tr>\n      <th>1</th>\n      <td>72</td>\n      <td>79</td>\n      <td>0.049813</td>\n      <td>0.000000</td>\n      <td>0.0</td>\n      <td>0.0</td>\n      <td>1747.900</td>\n      <td>0.000000</td>\n      <td>0.0</td>\n      <td>0.0</td>\n      <td>1</td>\n    </tr>\n    <tr>\n      <th>2</th>\n      <td>72</td>\n      <td>116</td>\n      <td>0.000000</td>\n      <td>0.026596</td>\n      <td>0.0</td>\n      <td>0.0</td>\n      <td>0.000</td>\n      <td>840.623000</td>\n      <td>0.0</td>\n      <td>0.0</td>\n      <td>1</td>\n    </tr>\n    <tr>\n      <th>3</th>\n      <td>72</td>\n      <td>127</td>\n      <td>0.037787</td>\n      <td>0.000000</td>\n      <td>0.0</td>\n      <td>0.0</td>\n      <td>1399.094</td>\n      <td>0.000000</td>\n      <td>0.0</td>\n      <td>0.0</td>\n      <td>1</td>\n    </tr>\n    <tr>\n      <th>4</th>\n      <td>72</td>\n      <td>128</td>\n      <td>0.041175</td>\n      <td>0.041175</td>\n      <td>0.0</td>\n      <td>0.0</td>\n      <td>1252.312</td>\n      <td>1468.311000</td>\n      <td>0.0</td>\n      <td>0.0</td>\n      <td>2</td>\n    </tr>\n  </tbody>\n</table>\n</div>"
     },
     "execution_count": 36,
     "metadata": {},
     "output_type": "execute_result"
    }
   ],
   "source": [
    "def get_trip_matrix(df):\n",
    "    \"\"\"\n",
    "    returns a dataframe with the average trip duration and distance traveled between each station pair. Also the trip count between each station pair.\n",
    "    :param df: \n",
    "    :return: \n",
    "    \"\"\"\n",
    "    df = df[['start_station_id', 'end_station_id', 'ride_duration_secs', 'distance_traveled', 'member_casual', 'rideable_type']]\n",
    "    df2 = df[['start_station_id', 'end_station_id']]\n",
    "    df2 = df2.groupby(['start_station_id', 'end_station_id']).size().reset_index(name='trip_count')\n",
    "    df = df.groupby(['start_station_id', 'end_station_id', 'member_casual']).agg({'ride_duration_secs': 'mean', 'distance_traveled': 'mean'}).reset_index()\n",
    "    df = df.pivot_table(index=['start_station_id', 'end_station_id'], columns='member_casual', values=['ride_duration_secs', 'distance_traveled']).reset_index()\n",
    "    \n",
    "    df.columns = ['_'.join(col).strip() for col in df.columns.values]\n",
    "    df = df.rename(columns={'start_station_id_': 'start_station_id', 'end_station_id_': 'end_station_id'})\n",
    "    df = df.fillna(0)\n",
    "    df = pd.merge(df, df2, on=['start_station_id', 'end_station_id'], how='left')\n",
    "    return df\n",
    "\n",
    "def get_trip_count_matrix(df):\n",
    "    \"\"\"\n",
    "    returns a dataframe with the number of trips between each station pair\n",
    "    :param df: \n",
    "    :return: \n",
    "    \"\"\"\n",
    "    df = df[['start_station_id', 'end_station_id']]\n",
    "    df = df.groupby(['start_station_id', 'end_station_id']).size().reset_index(name='trip_count')\n",
    "    return df\n",
    "\n",
    "    \n",
    "    \n",
    "\n",
    "trip_matrix = get_trip_matrix(all_data)\n",
    "\n",
    "trip_matrix.head()"
   ],
   "metadata": {
    "collapsed": false,
    "ExecuteTime": {
     "end_time": "2023-11-20T02:48:05.536470Z",
     "start_time": "2023-11-20T02:47:55.374903Z"
    }
   },
   "id": "b8c45037f7646ae5"
  },
  {
   "cell_type": "code",
   "execution_count": 30,
   "outputs": [
    {
     "data": {
      "text/plain": "start_station_id    6876.04\nend_station_id      6876.04\ntrip_count             6631\nName: 679341, dtype: object"
     },
     "execution_count": 30,
     "metadata": {},
     "output_type": "execute_result"
    }
   ],
   "source": [
    "trip_matrix.iloc[trip_matrix.trip_count.idxmax()]"
   ],
   "metadata": {
    "collapsed": false,
    "ExecuteTime": {
     "end_time": "2023-11-20T02:38:10.224844Z",
     "start_time": "2023-11-20T02:38:10.218536Z"
    }
   },
   "id": "56268c62f7abb6ab"
  },
  {
   "cell_type": "code",
   "execution_count": null,
   "outputs": [],
   "source": [],
   "metadata": {
    "collapsed": false
   },
   "id": "7ea803eec248832b"
  }
 ],
 "metadata": {
  "kernelspec": {
   "display_name": "Python 3",
   "language": "python",
   "name": "python3"
  },
  "language_info": {
   "codemirror_mode": {
    "name": "ipython",
    "version": 2
   },
   "file_extension": ".py",
   "mimetype": "text/x-python",
   "name": "python",
   "nbconvert_exporter": "python",
   "pygments_lexer": "ipython2",
   "version": "2.7.6"
  }
 },
 "nbformat": 4,
 "nbformat_minor": 5
}
