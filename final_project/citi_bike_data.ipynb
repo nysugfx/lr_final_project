{
 "cells": [
  {
   "cell_type": "code",
   "execution_count": 37,
   "id": "initial_id",
   "metadata": {
    "collapsed": true,
    "ExecuteTime": {
     "end_time": "2023-11-20T00:47:49.810024Z",
     "start_time": "2023-11-20T00:47:49.385854Z"
    }
   },
   "outputs": [],
   "source": [
    "import boto3\n",
    "import pandas as pd\n",
    "import os\n",
    "import gzip\n",
    "import numpy as np\n",
    "\n",
    "keys = pd.read_csv('rootkey.csv')\n",
    "aws_access_key_id = keys['Access key ID'][0]\n",
    "secret_access = keys['Secret access key'][0]\n",
    "\n",
    "os.environ['AWS_ACCESS_KEY_ID'] = aws_access_key_id\n",
    "os.environ['AWS_SECRET_ACCESS_KEY'] = secret_access\n",
    "\n",
    "if not os.path.exists('data'):\n",
    "    os.mkdir('data')\n",
    "\n",
    "s3 = boto3.client('s3')\n",
    "bucket_name = 'tripdata'\n",
    "prefix = '2021'\n",
    "response = s3.list_objects_v2(Bucket=bucket_name, Prefix=prefix)"
   ]
  },
  {
   "cell_type": "code",
   "execution_count": 17,
   "outputs": [
    {
     "name": "stdout",
     "output_type": "stream",
     "text": [
      "Downloaded 202101-citibike-tripdata.csv.zip\n",
      "Extracted data/202101-citibike-tripdata.csv.zip\n",
      "Downloaded 202102-citibike-tripdata.csv.zip\n",
      "Extracted data/202102-citibike-tripdata.csv.zip\n",
      "Downloaded 202103-citibike-tripdata.csv.zip\n",
      "Extracted data/202103-citibike-tripdata.csv.zip\n",
      "Downloaded 202104-citibike-tripdata.csv.zip\n",
      "Extracted data/202104-citibike-tripdata.csv.zip\n",
      "Downloaded 202105-citibike-tripdata.csv.zip\n",
      "Extracted data/202105-citibike-tripdata.csv.zip\n",
      "Downloaded 202106-citibike-tripdata.csv.zip\n",
      "Extracted data/202106-citibike-tripdata.csv.zip\n",
      "Downloaded 202107-citibike-tripdata.csv.zip\n",
      "Extracted data/202107-citibike-tripdata.csv.zip\n",
      "Downloaded 202108-citibike-tripdata.csv.zip\n",
      "Extracted data/202108-citibike-tripdata.csv.zip\n",
      "Downloaded 202109-citibike-tripdata.csv.zip\n",
      "Extracted data/202109-citibike-tripdata.csv.zip\n",
      "Downloaded 202110-citibike-tripdata.csv.zip\n",
      "Extracted data/202110-citibike-tripdata.csv.zip\n",
      "Downloaded 202111-citibike-tripdata.csv.zip\n",
      "Extracted data/202111-citibike-tripdata.csv.zip\n",
      "Downloaded 202112-citibike-tripdata.csv.zip\n",
      "Extracted data/202112-citibike-tripdata.csv.zip\n"
     ]
    }
   ],
   "source": [
    "import zipfile\n",
    "\n",
    "# Function to download and extract zip files\n",
    "def download_and_extract_zip(s3_client, bucket, object_key, local_zip_file):\n",
    "    # Download the zip file\n",
    "    s3_client.download_file(bucket, object_key, local_zip_file)\n",
    "    print(f\"Downloaded {object_key}\")\n",
    "\n",
    "    # Extract the zip file\n",
    "    with zipfile.ZipFile(local_zip_file, 'r') as zip_ref:\n",
    "        zip_ref.extractall('./data/')\n",
    "        print(f\"Extracted {local_zip_file}\")\n",
    "\n",
    "# Initialize a boto3 S3 client\n",
    "s3 = boto3.client('s3')\n",
    "\n",
    "\n",
    "# Define the bucket name\n",
    "bucket_name = 'tripdata'\n",
    "\n",
    "# Define the prefix for 2021 data\n",
    "prefix = '2021'\n",
    "\n",
    "# List the objects in the bucket with the specified prefix\n",
    "response = s3.list_objects_v2(Bucket=bucket_name, Prefix=prefix)\n",
    "\n",
    "# Check if the bucket has contents with the specified prefix\n",
    "if 'Contents' in response:\n",
    "    # Iterate through the objects with the prefix of 2021\n",
    "    for item in response['Contents']:\n",
    "        file_name = item['Key']\n",
    "        # Check if the file name ends with '.zip'\n",
    "        if file_name.endswith('.zip'):\n",
    "            # Define a local path to save the zip file\n",
    "            local_zip_file = file_name.split('/')[-1]\n",
    "            # Download and extract the zip file\n",
    "            download_and_extract_zip(s3, bucket_name, file_name, 'data/' + local_zip_file)\n",
    "        else:\n",
    "            print(f\"Skipping {file_name}, not a ZIP file\")\n",
    "else:\n",
    "    print(\"No ZIP files found for the year 2021.\")"
   ],
   "metadata": {
    "collapsed": false,
    "ExecuteTime": {
     "end_time": "2023-11-20T00:19:39.785144Z",
     "start_time": "2023-11-20T00:18:55.977008Z"
    }
   },
   "id": "e1238e8380bef78f"
  },
  {
   "cell_type": "markdown",
   "source": [],
   "metadata": {
    "collapsed": false
   },
   "id": "a29f389a446ad1a1"
  },
  {
   "cell_type": "code",
   "execution_count": 38,
   "outputs": [
    {
     "name": "stdout",
     "output_type": "stream",
     "text": [
      "202101-citibike-tripdata.csv\n",
      "12\n",
      "202102-citibike-tripdata.csv\n",
      "13\n",
      "202103-citibike-tripdata.csv\n",
      "13\n"
     ]
    },
    {
     "ename": "KeyboardInterrupt",
     "evalue": "",
     "output_type": "error",
     "traceback": [
      "\u001B[0;31m---------------------------------------------------------------------------\u001B[0m",
      "\u001B[0;31mKeyboardInterrupt\u001B[0m                         Traceback (most recent call last)",
      "Cell \u001B[0;32mIn[38], line 25\u001B[0m\n\u001B[1;32m     23\u001B[0m \u001B[38;5;28;01mfor\u001B[39;00m file \u001B[38;5;129;01min\u001B[39;00m datafiles:\n\u001B[1;32m     24\u001B[0m     \u001B[38;5;28;01mif\u001B[39;00m file\u001B[38;5;241m.\u001B[39mendswith(\u001B[38;5;124m'\u001B[39m\u001B[38;5;124m.csv\u001B[39m\u001B[38;5;124m'\u001B[39m):\n\u001B[0;32m---> 25\u001B[0m         data \u001B[38;5;241m=\u001B[39m adjust_colnames(\u001B[43mpd\u001B[49m\u001B[38;5;241;43m.\u001B[39;49m\u001B[43mread_csv\u001B[49m\u001B[43m(\u001B[49m\u001B[38;5;124;43m'\u001B[39;49m\u001B[38;5;124;43mdata/\u001B[39;49m\u001B[38;5;124;43m'\u001B[39;49m\u001B[43m \u001B[49m\u001B[38;5;241;43m+\u001B[39;49m\u001B[43m \u001B[49m\u001B[43mfile\u001B[49m\u001B[43m,\u001B[49m\u001B[43m \u001B[49m\u001B[43mlow_memory\u001B[49m\u001B[38;5;241;43m=\u001B[39;49m\u001B[38;5;28;43;01mFalse\u001B[39;49;00m\u001B[43m)\u001B[49m)\n\u001B[1;32m     26\u001B[0m         \u001B[38;5;28mprint\u001B[39m(file)\n\u001B[1;32m     27\u001B[0m         \u001B[38;5;28mprint\u001B[39m(\u001B[38;5;28mlen\u001B[39m(data\u001B[38;5;241m.\u001B[39mcolumns))\n",
      "File \u001B[0;32m~/Documents/linearRegressionF23/venv/lib/python3.10/site-packages/pandas/io/parsers/readers.py:948\u001B[0m, in \u001B[0;36mread_csv\u001B[0;34m(filepath_or_buffer, sep, delimiter, header, names, index_col, usecols, dtype, engine, converters, true_values, false_values, skipinitialspace, skiprows, skipfooter, nrows, na_values, keep_default_na, na_filter, verbose, skip_blank_lines, parse_dates, infer_datetime_format, keep_date_col, date_parser, date_format, dayfirst, cache_dates, iterator, chunksize, compression, thousands, decimal, lineterminator, quotechar, quoting, doublequote, escapechar, comment, encoding, encoding_errors, dialect, on_bad_lines, delim_whitespace, low_memory, memory_map, float_precision, storage_options, dtype_backend)\u001B[0m\n\u001B[1;32m    935\u001B[0m kwds_defaults \u001B[38;5;241m=\u001B[39m _refine_defaults_read(\n\u001B[1;32m    936\u001B[0m     dialect,\n\u001B[1;32m    937\u001B[0m     delimiter,\n\u001B[0;32m   (...)\u001B[0m\n\u001B[1;32m    944\u001B[0m     dtype_backend\u001B[38;5;241m=\u001B[39mdtype_backend,\n\u001B[1;32m    945\u001B[0m )\n\u001B[1;32m    946\u001B[0m kwds\u001B[38;5;241m.\u001B[39mupdate(kwds_defaults)\n\u001B[0;32m--> 948\u001B[0m \u001B[38;5;28;01mreturn\u001B[39;00m \u001B[43m_read\u001B[49m\u001B[43m(\u001B[49m\u001B[43mfilepath_or_buffer\u001B[49m\u001B[43m,\u001B[49m\u001B[43m \u001B[49m\u001B[43mkwds\u001B[49m\u001B[43m)\u001B[49m\n",
      "File \u001B[0;32m~/Documents/linearRegressionF23/venv/lib/python3.10/site-packages/pandas/io/parsers/readers.py:617\u001B[0m, in \u001B[0;36m_read\u001B[0;34m(filepath_or_buffer, kwds)\u001B[0m\n\u001B[1;32m    614\u001B[0m     \u001B[38;5;28;01mreturn\u001B[39;00m parser\n\u001B[1;32m    616\u001B[0m \u001B[38;5;28;01mwith\u001B[39;00m parser:\n\u001B[0;32m--> 617\u001B[0m     \u001B[38;5;28;01mreturn\u001B[39;00m \u001B[43mparser\u001B[49m\u001B[38;5;241;43m.\u001B[39;49m\u001B[43mread\u001B[49m\u001B[43m(\u001B[49m\u001B[43mnrows\u001B[49m\u001B[43m)\u001B[49m\n",
      "File \u001B[0;32m~/Documents/linearRegressionF23/venv/lib/python3.10/site-packages/pandas/io/parsers/readers.py:1748\u001B[0m, in \u001B[0;36mTextFileReader.read\u001B[0;34m(self, nrows)\u001B[0m\n\u001B[1;32m   1741\u001B[0m nrows \u001B[38;5;241m=\u001B[39m validate_integer(\u001B[38;5;124m\"\u001B[39m\u001B[38;5;124mnrows\u001B[39m\u001B[38;5;124m\"\u001B[39m, nrows)\n\u001B[1;32m   1742\u001B[0m \u001B[38;5;28;01mtry\u001B[39;00m:\n\u001B[1;32m   1743\u001B[0m     \u001B[38;5;66;03m# error: \"ParserBase\" has no attribute \"read\"\u001B[39;00m\n\u001B[1;32m   1744\u001B[0m     (\n\u001B[1;32m   1745\u001B[0m         index,\n\u001B[1;32m   1746\u001B[0m         columns,\n\u001B[1;32m   1747\u001B[0m         col_dict,\n\u001B[0;32m-> 1748\u001B[0m     ) \u001B[38;5;241m=\u001B[39m \u001B[38;5;28;43mself\u001B[39;49m\u001B[38;5;241;43m.\u001B[39;49m\u001B[43m_engine\u001B[49m\u001B[38;5;241;43m.\u001B[39;49m\u001B[43mread\u001B[49m\u001B[43m(\u001B[49m\u001B[43m  \u001B[49m\u001B[38;5;66;43;03m# type: ignore[attr-defined]\u001B[39;49;00m\n\u001B[1;32m   1749\u001B[0m \u001B[43m        \u001B[49m\u001B[43mnrows\u001B[49m\n\u001B[1;32m   1750\u001B[0m \u001B[43m    \u001B[49m\u001B[43m)\u001B[49m\n\u001B[1;32m   1751\u001B[0m \u001B[38;5;28;01mexcept\u001B[39;00m \u001B[38;5;167;01mException\u001B[39;00m:\n\u001B[1;32m   1752\u001B[0m     \u001B[38;5;28mself\u001B[39m\u001B[38;5;241m.\u001B[39mclose()\n",
      "File \u001B[0;32m~/Documents/linearRegressionF23/venv/lib/python3.10/site-packages/pandas/io/parsers/c_parser_wrapper.py:239\u001B[0m, in \u001B[0;36mCParserWrapper.read\u001B[0;34m(self, nrows)\u001B[0m\n\u001B[1;32m    236\u001B[0m         data \u001B[38;5;241m=\u001B[39m _concatenate_chunks(chunks)\n\u001B[1;32m    238\u001B[0m     \u001B[38;5;28;01melse\u001B[39;00m:\n\u001B[0;32m--> 239\u001B[0m         data \u001B[38;5;241m=\u001B[39m \u001B[38;5;28;43mself\u001B[39;49m\u001B[38;5;241;43m.\u001B[39;49m\u001B[43m_reader\u001B[49m\u001B[38;5;241;43m.\u001B[39;49m\u001B[43mread\u001B[49m\u001B[43m(\u001B[49m\u001B[43mnrows\u001B[49m\u001B[43m)\u001B[49m\n\u001B[1;32m    240\u001B[0m \u001B[38;5;28;01mexcept\u001B[39;00m \u001B[38;5;167;01mStopIteration\u001B[39;00m:\n\u001B[1;32m    241\u001B[0m     \u001B[38;5;28;01mif\u001B[39;00m \u001B[38;5;28mself\u001B[39m\u001B[38;5;241m.\u001B[39m_first_chunk:\n",
      "\u001B[0;31mKeyboardInterrupt\u001B[0m: "
     ]
    }
   ],
   "source": [
    "datafiles = sorted(list(os.listdir('data')))\n",
    "\n",
    "def adjust_colnames(df: pd.DataFrame) -> pd.DataFrame:\n",
    "    if 'tripduration' in df.columns:\n",
    "        df = df.rename(\n",
    "            columns={\n",
    "                'starttime': 'started_at',\n",
    "                'stoptime': 'ended_at',\n",
    "                'start station id': 'start_station_id',\n",
    "                'start station name': 'start_station_name',\n",
    "                'start station latitude': 'start_lat',\n",
    "                'start station longitude': 'start_lng',\n",
    "                'end station id': 'end_station_id',\n",
    "                'end station name': 'end_station_name',\n",
    "                'end station latitude': 'end_lat',\n",
    "                'end station longitude': 'end_lng',\n",
    "                'usertype': 'member_casual',\n",
    "            })\n",
    "        df = df.drop(columns=['tripduration', 'birth year', 'bikeid', 'gender'])\n",
    "        df['rideable_type'] = np.nan\n",
    "        df['ride_id'] = np.nan\n",
    "    return df\n",
    "\n",
    "for file in datafiles:\n",
    "    if file.endswith('.csv'):\n",
    "        data = adjust_colnames(pd.read_csv('data/' + file, low_memory=False))\n",
    "        print(file)\n",
    "        print(len(data.columns))"
   ],
   "metadata": {
    "collapsed": false,
    "ExecuteTime": {
     "end_time": "2023-11-20T00:48:03.912795Z",
     "start_time": "2023-11-20T00:47:52.374580Z"
    }
   },
   "id": "77b23f8e65d4c35b"
  },
  {
   "cell_type": "code",
   "execution_count": 35,
   "outputs": [
    {
     "data": {
      "text/plain": "            ride_id  rideable_type           started_at             ended_at  \\\n0  72D1C9F1A2FEB359   classic_bike  2021-12-04 17:53:23  2021-12-04 18:05:37   \n1  8BE7469E1A90508C  electric_bike  2021-12-04 17:35:04  2021-12-04 17:52:55   \n2  AF9EDCC2A347E607  electric_bike  2021-12-13 23:59:41  2021-12-14 00:08:31   \n3  495CF3C8A1B7FED8   classic_bike  2021-12-22 12:22:38  2021-12-22 12:25:46   \n4  1C138E3D55FCC7C1   classic_bike  2021-12-16 10:15:22  2021-12-16 10:32:02   \n\n       start_station_name start_station_id  \\\n0  Irving Ave & Halsey St          4695.04   \n1         W 25 St & 6 Ave          6215.04   \n2  Irving Ave & Halsey St          4695.04   \n3    Lenox Ave & W 115 St          7627.10   \n4        W 26 St & 10 Ave          6382.05   \n\n                                end_station_name end_station_id  start_lat  \\\n0                        Central Ave & Himrod St        4713.01  40.694670   \n1                                W 29 St & 9 Ave        6416.06  40.743954   \n2                         Harman St & Seneca Ave        5002.09  40.694670   \n3  Central Park North & Adam Clayton Powell Blvd        7617.07  40.801194   \n4                         W Broadway & Spring St        5569.06  40.749718   \n\n   start_lng    end_lat    end_lng member_casual  \n0 -73.906630  40.696760 -73.923020        casual  \n1 -73.991449  40.750073 -73.998393        casual  \n2 -73.906630  40.705770 -73.912920        casual  \n3 -73.950074  40.799484 -73.955613        member  \n4 -74.002950  40.724947 -74.001659        member  ",
      "text/html": "<div>\n<style scoped>\n    .dataframe tbody tr th:only-of-type {\n        vertical-align: middle;\n    }\n\n    .dataframe tbody tr th {\n        vertical-align: top;\n    }\n\n    .dataframe thead th {\n        text-align: right;\n    }\n</style>\n<table border=\"1\" class=\"dataframe\">\n  <thead>\n    <tr style=\"text-align: right;\">\n      <th></th>\n      <th>ride_id</th>\n      <th>rideable_type</th>\n      <th>started_at</th>\n      <th>ended_at</th>\n      <th>start_station_name</th>\n      <th>start_station_id</th>\n      <th>end_station_name</th>\n      <th>end_station_id</th>\n      <th>start_lat</th>\n      <th>start_lng</th>\n      <th>end_lat</th>\n      <th>end_lng</th>\n      <th>member_casual</th>\n    </tr>\n  </thead>\n  <tbody>\n    <tr>\n      <th>0</th>\n      <td>72D1C9F1A2FEB359</td>\n      <td>classic_bike</td>\n      <td>2021-12-04 17:53:23</td>\n      <td>2021-12-04 18:05:37</td>\n      <td>Irving Ave &amp; Halsey St</td>\n      <td>4695.04</td>\n      <td>Central Ave &amp; Himrod St</td>\n      <td>4713.01</td>\n      <td>40.694670</td>\n      <td>-73.906630</td>\n      <td>40.696760</td>\n      <td>-73.923020</td>\n      <td>casual</td>\n    </tr>\n    <tr>\n      <th>1</th>\n      <td>8BE7469E1A90508C</td>\n      <td>electric_bike</td>\n      <td>2021-12-04 17:35:04</td>\n      <td>2021-12-04 17:52:55</td>\n      <td>W 25 St &amp; 6 Ave</td>\n      <td>6215.04</td>\n      <td>W 29 St &amp; 9 Ave</td>\n      <td>6416.06</td>\n      <td>40.743954</td>\n      <td>-73.991449</td>\n      <td>40.750073</td>\n      <td>-73.998393</td>\n      <td>casual</td>\n    </tr>\n    <tr>\n      <th>2</th>\n      <td>AF9EDCC2A347E607</td>\n      <td>electric_bike</td>\n      <td>2021-12-13 23:59:41</td>\n      <td>2021-12-14 00:08:31</td>\n      <td>Irving Ave &amp; Halsey St</td>\n      <td>4695.04</td>\n      <td>Harman St &amp; Seneca Ave</td>\n      <td>5002.09</td>\n      <td>40.694670</td>\n      <td>-73.906630</td>\n      <td>40.705770</td>\n      <td>-73.912920</td>\n      <td>casual</td>\n    </tr>\n    <tr>\n      <th>3</th>\n      <td>495CF3C8A1B7FED8</td>\n      <td>classic_bike</td>\n      <td>2021-12-22 12:22:38</td>\n      <td>2021-12-22 12:25:46</td>\n      <td>Lenox Ave &amp; W 115 St</td>\n      <td>7627.10</td>\n      <td>Central Park North &amp; Adam Clayton Powell Blvd</td>\n      <td>7617.07</td>\n      <td>40.801194</td>\n      <td>-73.950074</td>\n      <td>40.799484</td>\n      <td>-73.955613</td>\n      <td>member</td>\n    </tr>\n    <tr>\n      <th>4</th>\n      <td>1C138E3D55FCC7C1</td>\n      <td>classic_bike</td>\n      <td>2021-12-16 10:15:22</td>\n      <td>2021-12-16 10:32:02</td>\n      <td>W 26 St &amp; 10 Ave</td>\n      <td>6382.05</td>\n      <td>W Broadway &amp; Spring St</td>\n      <td>5569.06</td>\n      <td>40.749718</td>\n      <td>-74.002950</td>\n      <td>40.724947</td>\n      <td>-74.001659</td>\n      <td>member</td>\n    </tr>\n  </tbody>\n</table>\n</div>"
     },
     "execution_count": 35,
     "metadata": {},
     "output_type": "execute_result"
    }
   ],
   "source": [
    "data.head()"
   ],
   "metadata": {
    "collapsed": false,
    "ExecuteTime": {
     "end_time": "2023-11-20T00:44:13.014836Z",
     "start_time": "2023-11-20T00:44:13.006032Z"
    }
   },
   "id": "761db8629a64876"
  },
  {
   "cell_type": "code",
   "execution_count": null,
   "outputs": [],
   "source": [],
   "metadata": {
    "collapsed": false
   },
   "id": "2ddbbe5bc435f5ca"
  }
 ],
 "metadata": {
  "kernelspec": {
   "display_name": "Python 3",
   "language": "python",
   "name": "python3"
  },
  "language_info": {
   "codemirror_mode": {
    "name": "ipython",
    "version": 2
   },
   "file_extension": ".py",
   "mimetype": "text/x-python",
   "name": "python",
   "nbconvert_exporter": "python",
   "pygments_lexer": "ipython2",
   "version": "2.7.6"
  }
 },
 "nbformat": 4,
 "nbformat_minor": 5
}
