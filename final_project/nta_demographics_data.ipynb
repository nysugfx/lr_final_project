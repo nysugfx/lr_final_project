{
 "cells": [
  {
   "cell_type": "code",
   "execution_count": 1,
   "id": "initial_id",
   "metadata": {
    "collapsed": true,
    "ExecuteTime": {
     "end_time": "2023-11-29T21:33:55.411383Z",
     "start_time": "2023-11-29T21:33:52.867439Z"
    }
   },
   "outputs": [
    {
     "name": "stdout",
     "output_type": "stream",
     "text": [
      "data not exist, downloading...\n"
     ]
    }
   ],
   "source": [
    "import pandas as pd\n",
    "import numpy as np\n",
    "import requests\n",
    "import zipfile\n",
    "import io\n",
    "import os\n",
    "\n",
    "endpt = 'https://data.cityofnewyork.us/download/8cwr-7pqn/application%2Fzip'\n",
    "\n",
    "if not os.path.exists('data/nta'):\n",
    "    print('dir not exist, creating...')\n",
    "    os.mkdir('data/nta')\n",
    "    \n",
    "if len(os.listdir('data/nta')) < 2:\n",
    "    print('data not exist, downloading...')\n",
    "    res = requests.get(endpt, stream=True)\n",
    "    z = zipfile.ZipFile(io.BytesIO(res.content))\n",
    "    z.extractall('data/nta')\n",
    "    \n",
    "for file in os.listdir('data/nta'):\n",
    "    if file.endswith('.xlsx'):\n",
    "        nta = pd.read_excel('data/nta/' + file)\n",
    "    break\n",
    "\n",
    "\n",
    "\n",
    "\n"
   ]
  },
  {
   "cell_type": "code",
   "execution_count": 3,
   "outputs": [
    {
     "data": {
      "text/plain": "2       GeoID        BK27       BK31      BK75              BK29  \\\n0     GeoType     NTA2010    NTA2010   NTA2010           NTA2010   \n1    GeogName  Bath Beach  Bay Ridge   Bedford  Bensonhurst East   \n2       GeoID        BK27       BK31      BK75              BK29   \n3     Borough    Brooklyn   Brooklyn  Brooklyn          Brooklyn   \n4      Pop_1E       33163      79134     75318             64267   \n..        ...         ...        ...       ...               ...   \n479   Asn2plE         152         93        56               232   \n480   Asn2plM       103.0       61.0      52.0             175.0   \n481   Asn2plC        41.4       40.2      56.7              45.9   \n482   Asn2plP         1.3        0.8       2.4               0.9   \n483   Asn2plZ         0.8        0.5       2.2               0.7   \n\n2                BK28          BK88            BK19  \\\n0             NTA2010       NTA2010         NTA2010   \n1    Bensonhurst West  Borough Park  Brighton Beach   \n2                BK28          BK88            BK19   \n3            Brooklyn      Brooklyn        Brooklyn   \n4               91646        105913           34157   \n..                ...           ...             ...   \n479               428           155              62   \n480             202.0         100.0            77.0   \n481              28.7          39.2            75.7   \n482               1.1           1.1             1.2   \n483               0.5           0.7             1.5   \n\n2                            BK09         BK81  ...  \\\n0                         NTA2010      NTA2010  ...   \n1    Brooklyn Heights-Cobble Hill  Brownsville  ...   \n2                            BK09         BK81  ...   \n3                        Brooklyn     Brooklyn  ...   \n4                           24140        60124  ...   \n..                            ...          ...  ...   \n479                           109            8  ...   \n480                          77.0         14.0  ...   \n481                          43.1        106.4  ...   \n482                           4.6          0.8  ...   \n483                           3.2          1.4  ...   \n\n2                                               BX09  \\\n0                                            NTA2010   \n1    Soundview-Castle Hill-Clason Point-Harding Park   \n2                                               BX09   \n3                                          The Bronx   \n4                                              56552   \n..                                               ...   \n479                                               25   \n480                                             39.0   \n481                                             94.8   \n482                                              2.2   \n483                                              3.4   \n\n2                          BX29                               BX36  \\\n0                       NTA2010                            NTA2010   \n1    Spuyten Duyvil-Kingsbridge  University Heights-Morris Heights   \n2                          BX29                               BX36   \n3                     The Bronx                          The Bronx   \n4                         31508                              55575   \n..                          ...                                ...   \n479                          44                                 32   \n480                        56.0                               54.0   \n481                        77.1                              102.6   \n482                         2.6                                3.2   \n483                         3.3                                5.0   \n\n2                     BX28                                     BX37  \\\n0                  NTA2010                                  NTA2010   \n1    Van Cortlandt Village  Van Nest-Morris Park-Westchester Square   \n2                     BX28                                     BX37   \n3                The Bronx                                The Bronx   \n4                    51157                                    29509   \n..                     ...                                      ...   \n479                      0                                       26   \n480                    NaN                                     20.0   \n481                    NaN                                     47.5   \n482                    NaN                                      0.8   \n483                    NaN                                      0.6   \n\n2              BX63                    BX08                   BX59  \\\n0           NTA2010                 NTA2010                NTA2010   \n1    West Concourse  West Farms-Bronx River  Westchester-Unionport   \n2              BX63                    BX08                   BX59   \n3         The Bronx               The Bronx              The Bronx   \n4             37395                   35752                  28437   \n..              ...                     ...                    ...   \n479               0                       0                     67   \n480             NaN                     NaN                   97.0   \n481             NaN                     NaN                   88.4   \n482             NaN                     NaN                    1.9   \n483             NaN                     NaN                    2.7   \n\n2                        BX44                BX62  \n0                     NTA2010             NTA2010  \n1    Williamsbridge-Olinville  Woodlawn-Wakefield  \n2                        BX44                BX62  \n3                   The Bronx           The Bronx  \n4                       65043               44064  \n..                        ...                 ...  \n479                         0                  11  \n480                       NaN                17.0  \n481                       NaN                93.9  \n482                       NaN                 0.6  \n483                       NaN                 0.9  \n\n[484 rows x 196 columns]",
      "text/html": "<div>\n<style scoped>\n    .dataframe tbody tr th:only-of-type {\n        vertical-align: middle;\n    }\n\n    .dataframe tbody tr th {\n        vertical-align: top;\n    }\n\n    .dataframe thead th {\n        text-align: right;\n    }\n</style>\n<table border=\"1\" class=\"dataframe\">\n  <thead>\n    <tr style=\"text-align: right;\">\n      <th>2</th>\n      <th>GeoID</th>\n      <th>BK27</th>\n      <th>BK31</th>\n      <th>BK75</th>\n      <th>BK29</th>\n      <th>BK28</th>\n      <th>BK88</th>\n      <th>BK19</th>\n      <th>BK09</th>\n      <th>BK81</th>\n      <th>...</th>\n      <th>BX09</th>\n      <th>BX29</th>\n      <th>BX36</th>\n      <th>BX28</th>\n      <th>BX37</th>\n      <th>BX63</th>\n      <th>BX08</th>\n      <th>BX59</th>\n      <th>BX44</th>\n      <th>BX62</th>\n    </tr>\n  </thead>\n  <tbody>\n    <tr>\n      <th>0</th>\n      <td>GeoType</td>\n      <td>NTA2010</td>\n      <td>NTA2010</td>\n      <td>NTA2010</td>\n      <td>NTA2010</td>\n      <td>NTA2010</td>\n      <td>NTA2010</td>\n      <td>NTA2010</td>\n      <td>NTA2010</td>\n      <td>NTA2010</td>\n      <td>...</td>\n      <td>NTA2010</td>\n      <td>NTA2010</td>\n      <td>NTA2010</td>\n      <td>NTA2010</td>\n      <td>NTA2010</td>\n      <td>NTA2010</td>\n      <td>NTA2010</td>\n      <td>NTA2010</td>\n      <td>NTA2010</td>\n      <td>NTA2010</td>\n    </tr>\n    <tr>\n      <th>1</th>\n      <td>GeogName</td>\n      <td>Bath Beach</td>\n      <td>Bay Ridge</td>\n      <td>Bedford</td>\n      <td>Bensonhurst East</td>\n      <td>Bensonhurst West</td>\n      <td>Borough Park</td>\n      <td>Brighton Beach</td>\n      <td>Brooklyn Heights-Cobble Hill</td>\n      <td>Brownsville</td>\n      <td>...</td>\n      <td>Soundview-Castle Hill-Clason Point-Harding Park</td>\n      <td>Spuyten Duyvil-Kingsbridge</td>\n      <td>University Heights-Morris Heights</td>\n      <td>Van Cortlandt Village</td>\n      <td>Van Nest-Morris Park-Westchester Square</td>\n      <td>West Concourse</td>\n      <td>West Farms-Bronx River</td>\n      <td>Westchester-Unionport</td>\n      <td>Williamsbridge-Olinville</td>\n      <td>Woodlawn-Wakefield</td>\n    </tr>\n    <tr>\n      <th>2</th>\n      <td>GeoID</td>\n      <td>BK27</td>\n      <td>BK31</td>\n      <td>BK75</td>\n      <td>BK29</td>\n      <td>BK28</td>\n      <td>BK88</td>\n      <td>BK19</td>\n      <td>BK09</td>\n      <td>BK81</td>\n      <td>...</td>\n      <td>BX09</td>\n      <td>BX29</td>\n      <td>BX36</td>\n      <td>BX28</td>\n      <td>BX37</td>\n      <td>BX63</td>\n      <td>BX08</td>\n      <td>BX59</td>\n      <td>BX44</td>\n      <td>BX62</td>\n    </tr>\n    <tr>\n      <th>3</th>\n      <td>Borough</td>\n      <td>Brooklyn</td>\n      <td>Brooklyn</td>\n      <td>Brooklyn</td>\n      <td>Brooklyn</td>\n      <td>Brooklyn</td>\n      <td>Brooklyn</td>\n      <td>Brooklyn</td>\n      <td>Brooklyn</td>\n      <td>Brooklyn</td>\n      <td>...</td>\n      <td>The Bronx</td>\n      <td>The Bronx</td>\n      <td>The Bronx</td>\n      <td>The Bronx</td>\n      <td>The Bronx</td>\n      <td>The Bronx</td>\n      <td>The Bronx</td>\n      <td>The Bronx</td>\n      <td>The Bronx</td>\n      <td>The Bronx</td>\n    </tr>\n    <tr>\n      <th>4</th>\n      <td>Pop_1E</td>\n      <td>33163</td>\n      <td>79134</td>\n      <td>75318</td>\n      <td>64267</td>\n      <td>91646</td>\n      <td>105913</td>\n      <td>34157</td>\n      <td>24140</td>\n      <td>60124</td>\n      <td>...</td>\n      <td>56552</td>\n      <td>31508</td>\n      <td>55575</td>\n      <td>51157</td>\n      <td>29509</td>\n      <td>37395</td>\n      <td>35752</td>\n      <td>28437</td>\n      <td>65043</td>\n      <td>44064</td>\n    </tr>\n    <tr>\n      <th>...</th>\n      <td>...</td>\n      <td>...</td>\n      <td>...</td>\n      <td>...</td>\n      <td>...</td>\n      <td>...</td>\n      <td>...</td>\n      <td>...</td>\n      <td>...</td>\n      <td>...</td>\n      <td>...</td>\n      <td>...</td>\n      <td>...</td>\n      <td>...</td>\n      <td>...</td>\n      <td>...</td>\n      <td>...</td>\n      <td>...</td>\n      <td>...</td>\n      <td>...</td>\n      <td>...</td>\n    </tr>\n    <tr>\n      <th>479</th>\n      <td>Asn2plE</td>\n      <td>152</td>\n      <td>93</td>\n      <td>56</td>\n      <td>232</td>\n      <td>428</td>\n      <td>155</td>\n      <td>62</td>\n      <td>109</td>\n      <td>8</td>\n      <td>...</td>\n      <td>25</td>\n      <td>44</td>\n      <td>32</td>\n      <td>0</td>\n      <td>26</td>\n      <td>0</td>\n      <td>0</td>\n      <td>67</td>\n      <td>0</td>\n      <td>11</td>\n    </tr>\n    <tr>\n      <th>480</th>\n      <td>Asn2plM</td>\n      <td>103.0</td>\n      <td>61.0</td>\n      <td>52.0</td>\n      <td>175.0</td>\n      <td>202.0</td>\n      <td>100.0</td>\n      <td>77.0</td>\n      <td>77.0</td>\n      <td>14.0</td>\n      <td>...</td>\n      <td>39.0</td>\n      <td>56.0</td>\n      <td>54.0</td>\n      <td>NaN</td>\n      <td>20.0</td>\n      <td>NaN</td>\n      <td>NaN</td>\n      <td>97.0</td>\n      <td>NaN</td>\n      <td>17.0</td>\n    </tr>\n    <tr>\n      <th>481</th>\n      <td>Asn2plC</td>\n      <td>41.4</td>\n      <td>40.2</td>\n      <td>56.7</td>\n      <td>45.9</td>\n      <td>28.7</td>\n      <td>39.2</td>\n      <td>75.7</td>\n      <td>43.1</td>\n      <td>106.4</td>\n      <td>...</td>\n      <td>94.8</td>\n      <td>77.1</td>\n      <td>102.6</td>\n      <td>NaN</td>\n      <td>47.5</td>\n      <td>NaN</td>\n      <td>NaN</td>\n      <td>88.4</td>\n      <td>NaN</td>\n      <td>93.9</td>\n    </tr>\n    <tr>\n      <th>482</th>\n      <td>Asn2plP</td>\n      <td>1.3</td>\n      <td>0.8</td>\n      <td>2.4</td>\n      <td>0.9</td>\n      <td>1.1</td>\n      <td>1.1</td>\n      <td>1.2</td>\n      <td>4.6</td>\n      <td>0.8</td>\n      <td>...</td>\n      <td>2.2</td>\n      <td>2.6</td>\n      <td>3.2</td>\n      <td>NaN</td>\n      <td>0.8</td>\n      <td>NaN</td>\n      <td>NaN</td>\n      <td>1.9</td>\n      <td>NaN</td>\n      <td>0.6</td>\n    </tr>\n    <tr>\n      <th>483</th>\n      <td>Asn2plZ</td>\n      <td>0.8</td>\n      <td>0.5</td>\n      <td>2.2</td>\n      <td>0.7</td>\n      <td>0.5</td>\n      <td>0.7</td>\n      <td>1.5</td>\n      <td>3.2</td>\n      <td>1.4</td>\n      <td>...</td>\n      <td>3.4</td>\n      <td>3.3</td>\n      <td>5.0</td>\n      <td>NaN</td>\n      <td>0.6</td>\n      <td>NaN</td>\n      <td>NaN</td>\n      <td>2.7</td>\n      <td>NaN</td>\n      <td>0.9</td>\n    </tr>\n  </tbody>\n</table>\n<p>484 rows × 196 columns</p>\n</div>"
     },
     "execution_count": 3,
     "metadata": {},
     "output_type": "execute_result"
    }
   ],
   "source": [
    "nta_t = nta.transpose().reset_index()\n",
    "nta_t.columns = nta_t.iloc[2]\n",
    "nta_t"
   ],
   "metadata": {
    "collapsed": false,
    "ExecuteTime": {
     "end_time": "2023-11-29T21:35:00.262648Z",
     "start_time": "2023-11-29T21:35:00.229971Z"
    }
   },
   "id": "3cf0d07bd6b8663c"
  },
  {
   "cell_type": "code",
   "execution_count": 10,
   "outputs": [
    {
     "data": {
      "text/plain": "DP04 SELECTED HOUSING CHARACTERISTICS     Community Districts and Neighborhood Tabulatio...\nUnnamed: 1                                                                              NaN\nUnnamed: 2                                                                              NaN\nUnnamed: 3                                                                              NaN\nUnnamed: 4                                                                              NaN\n                                                                ...                        \nUnnamed: 776                                                                            NaN\nUnnamed: 777                                                                            NaN\nUnnamed: 778                                                                            NaN\nUnnamed: 779                                                                            NaN\nUnnamed: 780                                                                            NaN\nName: nan, Length: 781, dtype: object"
     },
     "execution_count": 10,
     "metadata": {},
     "output_type": "execute_result"
    }
   ],
   "source": [
    "nta_t.iloc[:, 1]"
   ],
   "metadata": {
    "collapsed": false,
    "ExecuteTime": {
     "end_time": "2023-11-28T18:52:02.690823Z",
     "start_time": "2023-11-28T18:52:02.685135Z"
    }
   },
   "id": "9ecd4acd78ad42b4"
  },
  {
   "cell_type": "code",
   "execution_count": null,
   "outputs": [],
   "source": [],
   "metadata": {
    "collapsed": false
   },
   "id": "238da43660779058"
  }
 ],
 "metadata": {
  "kernelspec": {
   "display_name": "Python 3",
   "language": "python",
   "name": "python3"
  },
  "language_info": {
   "codemirror_mode": {
    "name": "ipython",
    "version": 2
   },
   "file_extension": ".py",
   "mimetype": "text/x-python",
   "name": "python",
   "nbconvert_exporter": "python",
   "pygments_lexer": "ipython2",
   "version": "2.7.6"
  }
 },
 "nbformat": 4,
 "nbformat_minor": 5
}
