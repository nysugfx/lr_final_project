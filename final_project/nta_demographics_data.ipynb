{
 "cells": [
  {
   "cell_type": "code",
   "execution_count": 1,
   "id": "initial_id",
   "metadata": {
    "ExecuteTime": {
     "end_time": "2023-11-30T20:25:34.861548Z",
     "start_time": "2023-11-30T20:25:29.723778Z"
    }
   },
   "outputs": [
    {
     "name": "stdout",
     "output_type": "stream",
     "text": [
      "reading demo_2016acs5yr_nta.xlsx\n",
      "reading soc_2016acs5yr_nta.xlsx\n"
     ]
    },
    {
     "name": "stderr",
     "output_type": "stream",
     "text": [
      "/Users/jared/Desktop/Columbia/Semester1/LRM/Project/lr_final_project/new_env/lib/python3.10/site-packages/openpyxl/reader/workbook.py:118: UserWarning: Print area cannot be set to Defined name: #N/A.\n",
      "  warn(f\"Print area cannot be set to Defined name: {defn.value}.\")\n"
     ]
    },
    {
     "name": "stdout",
     "output_type": "stream",
     "text": [
      "reading econ_2016acs5yr_nta.xlsx\n",
      "reading hous_2016acs5yr_nta.xlsx\n"
     ]
    }
   ],
   "source": [
    "import pandas as pd\n",
    "import numpy as np\n",
    "import requests\n",
    "import zipfile\n",
    "import io\n",
    "import os\n",
    "\n",
    "endpt = 'https://data.cityofnewyork.us/download/8cwr-7pqn/application%2Fzip'\n",
    "\n",
    "if not os.path.exists('data/nta'):\n",
    "    print('dir not exist, creating...')\n",
    "    os.mkdir('data/nta')\n",
    "    \n",
    "if len(os.listdir('data/nta')) < 2:\n",
    "    print('data not exist, downloading...')\n",
    "    res = requests.get(endpt, stream=True)\n",
    "    z = zipfile.ZipFile(io.BytesIO(res.content))\n",
    "    z.extractall('data/nta')\n",
    "dfs = []\n",
    "for file in os.listdir('data/nta'):\n",
    "    if file.endswith('.xlsx'):\n",
    "        print('reading ' + file)\n",
    "        df = pd.read_excel('data/nta/' + file)\n",
    "        # df = df.transpose().reset_index()\n",
    "        # df.columns = df.loc[df['index'] == 'GeoID'].iloc[0]\n",
    "        # dfs[file.split('_')[0]] = df.iloc[3:, :]\n",
    "        dfs.append(df.sort_values(by='GeoID'))\n",
    "\n",
    "df = pd.concat(dfs, axis=1)\n",
    "df = df.loc[:,~df.columns.duplicated()].copy()\n",
    "\n",
    "\n",
    "\n"
   ]
  },
  {
   "cell_type": "code",
   "execution_count": 6,
   "id": "9f2ec064-b019-4e07-b583-aef04823e6bb",
   "metadata": {},
   "outputs": [],
   "source": [
    "df.head()\n",
    "# df.shape\n",
    "df.to_csv(\"nta_demo.csv\")"
   ]
  }
 ],
 "metadata": {
  "kernelspec": {
   "display_name": "Python 3 (ipykernel)",
   "language": "python",
   "name": "python3"
  },
  "language_info": {
   "codemirror_mode": {
    "name": "ipython",
    "version": 3
   },
   "file_extension": ".py",
   "mimetype": "text/x-python",
   "name": "python",
   "nbconvert_exporter": "python",
   "pygments_lexer": "ipython3",
   "version": "3.10.0"
  }
 },
 "nbformat": 4,
 "nbformat_minor": 5
}
