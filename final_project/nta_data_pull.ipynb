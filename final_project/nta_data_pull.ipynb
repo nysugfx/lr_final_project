{
 "cells": [
  {
   "cell_type": "code",
   "execution_count": 2,
   "id": "initial_id",
   "metadata": {
    "collapsed": true,
    "ExecuteTime": {
     "end_time": "2023-11-30T20:30:58.737383Z",
     "start_time": "2023-11-30T20:30:57.483069Z"
    }
   },
   "outputs": [
    {
     "data": {
      "text/plain": "                                              the_geom  BoroCode   BoroName  \\\n0    MULTIPOLYGON (((-73.75205066516907 40.70522802...         4     Queens   \n1    MULTIPOLYGON (((-73.8870514253612 40.884349575...         2      Bronx   \n2    MULTIPOLYGON (((-73.80576840191371 40.68293239...         4     Queens   \n3    MULTIPOLYGON (((-73.88833929256353 40.64671022...         3   Brooklyn   \n4    MULTIPOLYGON (((-73.8956088328007 40.854570369...         2      Bronx   \n..                                                 ...       ...        ...   \n190  MULTIPOLYGON (((-73.88828531356056 40.64672241...         3   Brooklyn   \n191  MULTIPOLYGON (((-73.95814292441024 40.72440428...         3   Brooklyn   \n192  MULTIPOLYGON (((-73.98237340505953 40.70554335...         1  Manhattan   \n193  MULTIPOLYGON (((-73.98017161103701 40.66115465...         3   Brooklyn   \n194  MULTIPOLYGON (((-73.91513331918196 40.58626938...         3   Brooklyn   \n\n     CountyFIPS NTACode                     NTAName     Shape_Leng  \\\n0            81    QN08                  St. Albans   45401.316803   \n1             5    BX28       Van Cortlandt Village   21945.719299   \n2            81    QN55            South Ozone Park   36708.169305   \n3            47    BK50                    Canarsie   43703.609666   \n4             5    BX41                  Mount Hope   18937.247819   \n..          ...     ...                         ...            ...   \n190          47    BK93               Starrett City   17414.782656   \n191          47    BK73       North Side-South Side   28099.984508   \n192          61    MN28             Lower East Side   26879.113421   \n193          47    BK40             Windsor Terrace   19033.671554   \n194          47    BK99  park-cemetery-etc-Brooklyn  385416.939727   \n\n       Shape_Area  \n0    7.741275e+07  \n1    2.566612e+07  \n2    8.246139e+07  \n3    8.208968e+07  \n4    1.471671e+07  \n..            ...  \n190  1.159895e+07  \n191  2.885436e+07  \n192  2.330069e+07  \n193  1.404167e+07  \n194  2.253711e+08  \n\n[195 rows x 8 columns]",
      "text/html": "<div>\n<style scoped>\n    .dataframe tbody tr th:only-of-type {\n        vertical-align: middle;\n    }\n\n    .dataframe tbody tr th {\n        vertical-align: top;\n    }\n\n    .dataframe thead th {\n        text-align: right;\n    }\n</style>\n<table border=\"1\" class=\"dataframe\">\n  <thead>\n    <tr style=\"text-align: right;\">\n      <th></th>\n      <th>the_geom</th>\n      <th>BoroCode</th>\n      <th>BoroName</th>\n      <th>CountyFIPS</th>\n      <th>NTACode</th>\n      <th>NTAName</th>\n      <th>Shape_Leng</th>\n      <th>Shape_Area</th>\n    </tr>\n  </thead>\n  <tbody>\n    <tr>\n      <th>0</th>\n      <td>MULTIPOLYGON (((-73.75205066516907 40.70522802...</td>\n      <td>4</td>\n      <td>Queens</td>\n      <td>81</td>\n      <td>QN08</td>\n      <td>St. Albans</td>\n      <td>45401.316803</td>\n      <td>7.741275e+07</td>\n    </tr>\n    <tr>\n      <th>1</th>\n      <td>MULTIPOLYGON (((-73.8870514253612 40.884349575...</td>\n      <td>2</td>\n      <td>Bronx</td>\n      <td>5</td>\n      <td>BX28</td>\n      <td>Van Cortlandt Village</td>\n      <td>21945.719299</td>\n      <td>2.566612e+07</td>\n    </tr>\n    <tr>\n      <th>2</th>\n      <td>MULTIPOLYGON (((-73.80576840191371 40.68293239...</td>\n      <td>4</td>\n      <td>Queens</td>\n      <td>81</td>\n      <td>QN55</td>\n      <td>South Ozone Park</td>\n      <td>36708.169305</td>\n      <td>8.246139e+07</td>\n    </tr>\n    <tr>\n      <th>3</th>\n      <td>MULTIPOLYGON (((-73.88833929256353 40.64671022...</td>\n      <td>3</td>\n      <td>Brooklyn</td>\n      <td>47</td>\n      <td>BK50</td>\n      <td>Canarsie</td>\n      <td>43703.609666</td>\n      <td>8.208968e+07</td>\n    </tr>\n    <tr>\n      <th>4</th>\n      <td>MULTIPOLYGON (((-73.8956088328007 40.854570369...</td>\n      <td>2</td>\n      <td>Bronx</td>\n      <td>5</td>\n      <td>BX41</td>\n      <td>Mount Hope</td>\n      <td>18937.247819</td>\n      <td>1.471671e+07</td>\n    </tr>\n    <tr>\n      <th>...</th>\n      <td>...</td>\n      <td>...</td>\n      <td>...</td>\n      <td>...</td>\n      <td>...</td>\n      <td>...</td>\n      <td>...</td>\n      <td>...</td>\n    </tr>\n    <tr>\n      <th>190</th>\n      <td>MULTIPOLYGON (((-73.88828531356056 40.64672241...</td>\n      <td>3</td>\n      <td>Brooklyn</td>\n      <td>47</td>\n      <td>BK93</td>\n      <td>Starrett City</td>\n      <td>17414.782656</td>\n      <td>1.159895e+07</td>\n    </tr>\n    <tr>\n      <th>191</th>\n      <td>MULTIPOLYGON (((-73.95814292441024 40.72440428...</td>\n      <td>3</td>\n      <td>Brooklyn</td>\n      <td>47</td>\n      <td>BK73</td>\n      <td>North Side-South Side</td>\n      <td>28099.984508</td>\n      <td>2.885436e+07</td>\n    </tr>\n    <tr>\n      <th>192</th>\n      <td>MULTIPOLYGON (((-73.98237340505953 40.70554335...</td>\n      <td>1</td>\n      <td>Manhattan</td>\n      <td>61</td>\n      <td>MN28</td>\n      <td>Lower East Side</td>\n      <td>26879.113421</td>\n      <td>2.330069e+07</td>\n    </tr>\n    <tr>\n      <th>193</th>\n      <td>MULTIPOLYGON (((-73.98017161103701 40.66115465...</td>\n      <td>3</td>\n      <td>Brooklyn</td>\n      <td>47</td>\n      <td>BK40</td>\n      <td>Windsor Terrace</td>\n      <td>19033.671554</td>\n      <td>1.404167e+07</td>\n    </tr>\n    <tr>\n      <th>194</th>\n      <td>MULTIPOLYGON (((-73.91513331918196 40.58626938...</td>\n      <td>3</td>\n      <td>Brooklyn</td>\n      <td>47</td>\n      <td>BK99</td>\n      <td>park-cemetery-etc-Brooklyn</td>\n      <td>385416.939727</td>\n      <td>2.253711e+08</td>\n    </tr>\n  </tbody>\n</table>\n<p>195 rows × 8 columns</p>\n</div>"
     },
     "execution_count": 2,
     "metadata": {},
     "output_type": "execute_result"
    }
   ],
   "source": [
    "from sodapy import Socrata\n",
    "import numpy as np\n",
    "import pandas as pd\n",
    "import geopandas as gpd\n",
    "\n",
    "nta_tab_areas_endpt = 'q2z5-ai38'\n",
    "nta_tab_areas = pd.read_csv('https://data.cityofnewyork.us/api/views/' + nta_tab_areas_endpt + '/rows.csv?accessType=DOWNLOAD')\n",
    "nta_tab_areas\n"
   ]
  },
  {
   "cell_type": "code",
   "execution_count": 3,
   "outputs": [
    {
     "data": {
      "text/plain": "   BoroCode  BoroName  CountyFIPS NTACode                NTAName  \\\n0         4    Queens          81    QN08             St. Albans   \n1         2     Bronx           5    BX28  Van Cortlandt Village   \n2         4    Queens          81    QN55       South Ozone Park   \n3         3  Brooklyn          47    BK50               Canarsie   \n4         2     Bronx           5    BX41             Mount Hope   \n\n     Shape_Leng    Shape_Area  \\\n0  45401.316803  7.741275e+07   \n1  21945.719299  2.566612e+07   \n2  36708.169305  8.246139e+07   \n3  43703.609666  8.208968e+07   \n4  18937.247819  1.471671e+07   \n\n                                            geometry  \n0  MULTIPOLYGON (((-73.75205 40.70523, -73.75174 ...  \n1  MULTIPOLYGON (((-73.88705 40.88435, -73.88705 ...  \n2  MULTIPOLYGON (((-73.80577 40.68293, -73.80552 ...  \n3  MULTIPOLYGON (((-73.88834 40.64671, -73.88835 ...  \n4  MULTIPOLYGON (((-73.89561 40.85457, -73.89662 ...  ",
      "text/html": "<div>\n<style scoped>\n    .dataframe tbody tr th:only-of-type {\n        vertical-align: middle;\n    }\n\n    .dataframe tbody tr th {\n        vertical-align: top;\n    }\n\n    .dataframe thead th {\n        text-align: right;\n    }\n</style>\n<table border=\"1\" class=\"dataframe\">\n  <thead>\n    <tr style=\"text-align: right;\">\n      <th></th>\n      <th>BoroCode</th>\n      <th>BoroName</th>\n      <th>CountyFIPS</th>\n      <th>NTACode</th>\n      <th>NTAName</th>\n      <th>Shape_Leng</th>\n      <th>Shape_Area</th>\n      <th>geometry</th>\n    </tr>\n  </thead>\n  <tbody>\n    <tr>\n      <th>0</th>\n      <td>4</td>\n      <td>Queens</td>\n      <td>81</td>\n      <td>QN08</td>\n      <td>St. Albans</td>\n      <td>45401.316803</td>\n      <td>7.741275e+07</td>\n      <td>MULTIPOLYGON (((-73.75205 40.70523, -73.75174 ...</td>\n    </tr>\n    <tr>\n      <th>1</th>\n      <td>2</td>\n      <td>Bronx</td>\n      <td>5</td>\n      <td>BX28</td>\n      <td>Van Cortlandt Village</td>\n      <td>21945.719299</td>\n      <td>2.566612e+07</td>\n      <td>MULTIPOLYGON (((-73.88705 40.88435, -73.88705 ...</td>\n    </tr>\n    <tr>\n      <th>2</th>\n      <td>4</td>\n      <td>Queens</td>\n      <td>81</td>\n      <td>QN55</td>\n      <td>South Ozone Park</td>\n      <td>36708.169305</td>\n      <td>8.246139e+07</td>\n      <td>MULTIPOLYGON (((-73.80577 40.68293, -73.80552 ...</td>\n    </tr>\n    <tr>\n      <th>3</th>\n      <td>3</td>\n      <td>Brooklyn</td>\n      <td>47</td>\n      <td>BK50</td>\n      <td>Canarsie</td>\n      <td>43703.609666</td>\n      <td>8.208968e+07</td>\n      <td>MULTIPOLYGON (((-73.88834 40.64671, -73.88835 ...</td>\n    </tr>\n    <tr>\n      <th>4</th>\n      <td>2</td>\n      <td>Bronx</td>\n      <td>5</td>\n      <td>BX41</td>\n      <td>Mount Hope</td>\n      <td>18937.247819</td>\n      <td>1.471671e+07</td>\n      <td>MULTIPOLYGON (((-73.89561 40.85457, -73.89662 ...</td>\n    </tr>\n  </tbody>\n</table>\n</div>"
     },
     "execution_count": 3,
     "metadata": {},
     "output_type": "execute_result"
    }
   ],
   "source": [
    "gpd.options.use_pygeos = False  # Ensure compatibility for geometries conversion\n",
    "nta_geometries = gpd.GeoSeries.from_wkt(nta_tab_areas['the_geom'])\n",
    "\n",
    "# Create a GeoDataFrame\n",
    "nta_gdf = gpd.GeoDataFrame(nta_tab_areas, geometry=nta_geometries)\n",
    "\n",
    "# Drop the old 'the_geom' column as it's no longer needed\n",
    "nta_gdf = nta_gdf.drop(columns=['the_geom'])\n",
    "\n",
    "# Set the CRS (Coordinate Reference System) for the GeoDataFrame\n",
    "# Assuming the geometry is in WGS 84 / Lat Long as it's the most common, EPSG:4326\n",
    "nta_gdf.crs = \"EPSG:4326\"\n",
    "\n",
    "nta_gdf.head()"
   ],
   "metadata": {
    "collapsed": false,
    "ExecuteTime": {
     "end_time": "2023-11-30T20:31:08.657256Z",
     "start_time": "2023-11-30T20:31:08.648990Z"
    }
   },
   "id": "a96064684dadb128"
  }
 ],
 "metadata": {
  "kernelspec": {
   "display_name": "Python 3",
   "language": "python",
   "name": "python3"
  },
  "language_info": {
   "codemirror_mode": {
    "name": "ipython",
    "version": 2
   },
   "file_extension": ".py",
   "mimetype": "text/x-python",
   "name": "python",
   "nbconvert_exporter": "python",
   "pygments_lexer": "ipython2",
   "version": "2.7.6"
  }
 },
 "nbformat": 4,
 "nbformat_minor": 5
}
