{
 "cells": [
  {
   "cell_type": "code",
   "execution_count": 6,
   "id": "initial_id",
   "metadata": {
    "collapsed": true,
    "ExecuteTime": {
     "end_time": "2023-11-28T16:12:36.207Z",
     "start_time": "2023-11-28T16:12:34.548549Z"
    }
   },
   "outputs": [],
   "source": [
    "from sodapy import Socrata\n",
    "import numpy as np\n",
    "import pandas as pd\n",
    "import geopandas as gpd\n",
    "\n",
    "nta_tab_areas_endpt = '9nt8-h7nd'\n",
    "nta_tab_areas = pd.read_csv('https://data.cityofnewyork.us/api/views/' + nta_tab_areas_endpt + '/rows.csv?accessType=DOWNLOAD')\n"
   ]
  },
  {
   "cell_type": "code",
   "execution_count": 7,
   "outputs": [
    {
     "data": {
      "text/plain": "   BoroCode   BoroName  CountyFIPS NTA2020                NTAName   NTAAbbrev  \\\n0         1  Manhattan          61  MN6491           Central Park     CntrlPk   \n1         1  Manhattan          61  MN0401   Chelsea-Hudson Yards  Chls_HdsYd   \n2         1  Manhattan          61  MN0301  Chinatown-Two Bridges      Chntwn   \n3         1  Manhattan          61  MN1102    East Harlem (North)   EstHrlm_N   \n4         1  Manhattan          61  MN1101    East Harlem (South)   EstHrlm_S   \n\n   NTAType CDTA2020                                          CDTAName  \\\n0        9     MN64             MN64 Central Park (JIA 64 Equivalent)   \n1        0     MN04  MN04 Chelsea-Hell's Kitchen (CD 4 Approximation)   \n2        0     MN03  MN03 Lower East Side-Chinatown (CD 3 Equivalent)   \n3        0     MN11               MN11 East Harlem (CD 11 Equivalent)   \n4        0     MN11               MN11 East Harlem (CD 11 Equivalent)   \n\n     Shape_Leng    Shape_Area  \\\n0  32721.097429  3.831238e+07   \n1  40095.235570  2.967175e+07   \n2  16464.371337  1.154263e+07   \n3  28710.999462  2.610451e+07   \n4  18682.264948  1.665394e+07   \n\n                                            geometry  \n0  MULTIPOLYGON (((-73.95246 40.79824, -73.95237 ...  \n1  MULTIPOLYGON (((-74.00440 40.76267, -74.00220 ...  \n2  MULTIPOLYGON (((-73.98915 40.71671, -73.98975 ...  \n3  MULTIPOLYGON (((-73.92719 40.79735, -73.92735 ...  \n4  MULTIPOLYGON (((-73.94103 40.79255, -73.93865 ...  ",
      "text/html": "<div>\n<style scoped>\n    .dataframe tbody tr th:only-of-type {\n        vertical-align: middle;\n    }\n\n    .dataframe tbody tr th {\n        vertical-align: top;\n    }\n\n    .dataframe thead th {\n        text-align: right;\n    }\n</style>\n<table border=\"1\" class=\"dataframe\">\n  <thead>\n    <tr style=\"text-align: right;\">\n      <th></th>\n      <th>BoroCode</th>\n      <th>BoroName</th>\n      <th>CountyFIPS</th>\n      <th>NTA2020</th>\n      <th>NTAName</th>\n      <th>NTAAbbrev</th>\n      <th>NTAType</th>\n      <th>CDTA2020</th>\n      <th>CDTAName</th>\n      <th>Shape_Leng</th>\n      <th>Shape_Area</th>\n      <th>geometry</th>\n    </tr>\n  </thead>\n  <tbody>\n    <tr>\n      <th>0</th>\n      <td>1</td>\n      <td>Manhattan</td>\n      <td>61</td>\n      <td>MN6491</td>\n      <td>Central Park</td>\n      <td>CntrlPk</td>\n      <td>9</td>\n      <td>MN64</td>\n      <td>MN64 Central Park (JIA 64 Equivalent)</td>\n      <td>32721.097429</td>\n      <td>3.831238e+07</td>\n      <td>MULTIPOLYGON (((-73.95246 40.79824, -73.95237 ...</td>\n    </tr>\n    <tr>\n      <th>1</th>\n      <td>1</td>\n      <td>Manhattan</td>\n      <td>61</td>\n      <td>MN0401</td>\n      <td>Chelsea-Hudson Yards</td>\n      <td>Chls_HdsYd</td>\n      <td>0</td>\n      <td>MN04</td>\n      <td>MN04 Chelsea-Hell's Kitchen (CD 4 Approximation)</td>\n      <td>40095.235570</td>\n      <td>2.967175e+07</td>\n      <td>MULTIPOLYGON (((-74.00440 40.76267, -74.00220 ...</td>\n    </tr>\n    <tr>\n      <th>2</th>\n      <td>1</td>\n      <td>Manhattan</td>\n      <td>61</td>\n      <td>MN0301</td>\n      <td>Chinatown-Two Bridges</td>\n      <td>Chntwn</td>\n      <td>0</td>\n      <td>MN03</td>\n      <td>MN03 Lower East Side-Chinatown (CD 3 Equivalent)</td>\n      <td>16464.371337</td>\n      <td>1.154263e+07</td>\n      <td>MULTIPOLYGON (((-73.98915 40.71671, -73.98975 ...</td>\n    </tr>\n    <tr>\n      <th>3</th>\n      <td>1</td>\n      <td>Manhattan</td>\n      <td>61</td>\n      <td>MN1102</td>\n      <td>East Harlem (North)</td>\n      <td>EstHrlm_N</td>\n      <td>0</td>\n      <td>MN11</td>\n      <td>MN11 East Harlem (CD 11 Equivalent)</td>\n      <td>28710.999462</td>\n      <td>2.610451e+07</td>\n      <td>MULTIPOLYGON (((-73.92719 40.79735, -73.92735 ...</td>\n    </tr>\n    <tr>\n      <th>4</th>\n      <td>1</td>\n      <td>Manhattan</td>\n      <td>61</td>\n      <td>MN1101</td>\n      <td>East Harlem (South)</td>\n      <td>EstHrlm_S</td>\n      <td>0</td>\n      <td>MN11</td>\n      <td>MN11 East Harlem (CD 11 Equivalent)</td>\n      <td>18682.264948</td>\n      <td>1.665394e+07</td>\n      <td>MULTIPOLYGON (((-73.94103 40.79255, -73.93865 ...</td>\n    </tr>\n  </tbody>\n</table>\n</div>"
     },
     "execution_count": 7,
     "metadata": {},
     "output_type": "execute_result"
    }
   ],
   "source": [
    "gpd.options.use_pygeos = False  # Ensure compatibility for geometries conversion\n",
    "nta_geometries = gpd.GeoSeries.from_wkt(nta_tab_areas['the_geom'])\n",
    "\n",
    "# Create a GeoDataFrame\n",
    "nta_gdf = gpd.GeoDataFrame(nta_tab_areas, geometry=nta_geometries)\n",
    "\n",
    "# Drop the old 'the_geom' column as it's no longer needed\n",
    "nta_gdf = nta_gdf.drop(columns=['the_geom'])\n",
    "\n",
    "# Set the CRS (Coordinate Reference System) for the GeoDataFrame\n",
    "# Assuming the geometry is in WGS 84 / Lat Long as it's the most common, EPSG:4326\n",
    "nta_gdf.crs = \"EPSG:4326\"\n",
    "\n",
    "nta_gdf.head()"
   ],
   "metadata": {
    "collapsed": false,
    "ExecuteTime": {
     "end_time": "2023-11-28T16:12:36.261108Z",
     "start_time": "2023-11-28T16:12:36.231124Z"
    }
   },
   "id": "a96064684dadb128"
  },
  {
   "cell_type": "code",
   "execution_count": 7,
   "outputs": [],
   "source": [],
   "metadata": {
    "collapsed": false,
    "ExecuteTime": {
     "end_time": "2023-11-28T16:12:36.261244Z",
     "start_time": "2023-11-28T16:12:36.250090Z"
    }
   },
   "id": "d23d0d39738abe0b"
  },
  {
   "cell_type": "code",
   "execution_count": null,
   "outputs": [],
   "source": [],
   "metadata": {
    "collapsed": false
   },
   "id": "f942b868f44cab88"
  }
 ],
 "metadata": {
  "kernelspec": {
   "display_name": "Python 3",
   "language": "python",
   "name": "python3"
  },
  "language_info": {
   "codemirror_mode": {
    "name": "ipython",
    "version": 2
   },
   "file_extension": ".py",
   "mimetype": "text/x-python",
   "name": "python",
   "nbconvert_exporter": "python",
   "pygments_lexer": "ipython2",
   "version": "2.7.6"
  }
 },
 "nbformat": 4,
 "nbformat_minor": 5
}
