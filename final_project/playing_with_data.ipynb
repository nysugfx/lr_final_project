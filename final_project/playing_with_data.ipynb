{
 "cells": [
  {
   "cell_type": "code",
   "execution_count": 4,
   "id": "initial_id",
   "metadata": {
    "collapsed": true,
    "ExecuteTime": {
     "end_time": "2023-11-30T20:29:17.852043Z",
     "start_time": "2023-11-30T20:29:10.036Z"
    }
   },
   "outputs": [
    {
     "name": "stderr",
     "output_type": "stream",
     "text": [
      "/Users/alexfriedman/Downloads/lrFinalProject/venv/lib/python3.10/site-packages/openpyxl/reader/workbook.py:118: UserWarning: Print area cannot be set to Defined name: #N/A.\n",
      "  warn(f\"Print area cannot be set to Defined name: {defn.value}.\")\n"
     ]
    },
    {
     "name": "stdout",
     "output_type": "stream",
     "text": [
      "                                            the_geom  BoroCode   BoroName  \\\n",
      "0  MULTIPOLYGON (((-73.9524609285142 40.798242494...         1  Manhattan   \n",
      "1  MULTIPOLYGON (((-74.00439976203518 40.76267135...         1  Manhattan   \n",
      "2  MULTIPOLYGON (((-73.98915463816797 40.71670864...         1  Manhattan   \n",
      "3  MULTIPOLYGON (((-73.9271851477837 40.797349896...         1  Manhattan   \n",
      "4  MULTIPOLYGON (((-73.94103496861398 40.79254666...         1  Manhattan   \n",
      "\n",
      "   CountyFIPS NTA2020                NTAName   NTAAbbrev  NTAType CDTA2020  \\\n",
      "0          61  MN6491           Central Park     CntrlPk        9     MN64   \n",
      "1          61  MN0401   Chelsea-Hudson Yards  Chls_HdsYd        0     MN04   \n",
      "2          61  MN0301  Chinatown-Two Bridges      Chntwn        0     MN03   \n",
      "3          61  MN1102    East Harlem (North)   EstHrlm_N        0     MN11   \n",
      "4          61  MN1101    East Harlem (South)   EstHrlm_S        0     MN11   \n",
      "\n",
      "                                           CDTAName    Shape_Leng  \\\n",
      "0             MN64 Central Park (JIA 64 Equivalent)  32721.097429   \n",
      "1  MN04 Chelsea-Hell's Kitchen (CD 4 Approximation)  40095.235570   \n",
      "2  MN03 Lower East Side-Chinatown (CD 3 Equivalent)  16464.371337   \n",
      "3               MN11 East Harlem (CD 11 Equivalent)  28710.999462   \n",
      "4               MN11 East Harlem (CD 11 Equivalent)  18682.264948   \n",
      "\n",
      "     Shape_Area  \n",
      "0  3.831238e+07  \n",
      "1  2.967175e+07  \n",
      "2  1.154263e+07  \n",
      "3  2.610451e+07  \n",
      "4  1.665394e+07  \n"
     ]
    }
   ],
   "source": [
    "import pandas as pd\n",
    "\n",
    "import data_pull as dp\n",
    "import geopandas as gpd\n",
    "\n",
    "# building_df: pd.DataFrame = dp.get_building_data()\n",
    "# citibike_df: pd.DataFrame = dp.get_citibike_data()\n",
    "nta_demo_df: pd.DataFrame = dp.get_nta_demographics()\n",
    "nta_geodf: gpd.GeoDataFrame = dp.get_nta_geog() # we have our geopandas multipolygon in the column called \"geometry\"\n",
    "\n"
   ]
  },
  {
   "cell_type": "markdown",
   "source": [
    "## Notes:\n",
    "\n",
    "I think we probably don't want to use the NTA column in the building because it uses the NTA name. Let's just use the lat/long to determine the NTA.\n",
    "\n"
   ],
   "metadata": {
    "collapsed": false
   },
   "id": "254b71f0923d7e35"
  },
  {
   "cell_type": "code",
   "execution_count": 3,
   "outputs": [
    {
     "data": {
      "text/plain": "0      MN6491\n1      MN0401\n2      MN0301\n3      MN1102\n4      MN1101\n        ...  \n257    SI0203\n258    SI0102\n259    SI0305\n260    SI0104\n261    SI0105\nName: NTA2020, Length: 262, dtype: object"
     },
     "execution_count": 3,
     "metadata": {},
     "output_type": "execute_result"
    }
   ],
   "source": [
    "nta_geodf['NTA2020']"
   ],
   "metadata": {
    "collapsed": false,
    "ExecuteTime": {
     "end_time": "2023-11-30T20:29:01.891375Z",
     "start_time": "2023-11-30T20:29:01.887490Z"
    }
   },
   "id": "a56aeaa7ec007070"
  },
  {
   "cell_type": "code",
   "execution_count": 5,
   "outputs": [
    {
     "data": {
      "text/plain": "     GeoType                                        GeogName GeoID  \\\n7    NTA2010                    Brooklyn Heights-Cobble Hill  BK09   \n43   NTA2010  Sheepshead Bay-Gerritsen Beach-Manhattan Beach  BK17   \n6    NTA2010                                  Brighton Beach  BK19   \n42   NTA2010                            Seagate-Coney Island  BK21   \n48   NTA2010                                   West Brighton  BK23   \n..       ...                                             ...   ...   \n153  NTA2010                              Stapleton-Rosebank  SI37   \n146  NTA2010                          New Dorp-Midland Beach  SI45   \n139  NTA2010                                   Arden Heights  SI48   \n142  NTA2010                                     Great Kills  SI54   \n150  NTA2010                 park-cemetery-etc-Staten Island  SI99   \n\n           Borough  Pop_1E  Pop_1M  Pop_1C  Pop_1P  Pop_1Z  MaleE  ...  \\\n7         Brooklyn   24140   915.0     2.3   100.0     NaN  12002  ...   \n43        Brooklyn   66293  1721.0     1.6   100.0     NaN  31519  ...   \n6         Brooklyn   34157  1331.0     2.4   100.0     NaN  16234  ...   \n42        Brooklyn   29677  1206.0     2.5   100.0     NaN  13277  ...   \n48        Brooklyn   15754   665.0     2.6   100.0     NaN   6943  ...   \n..             ...     ...     ...     ...     ...     ...    ...  ...   \n153  Staten Island   26247  1046.0     2.4   100.0     NaN  12912  ...   \n146  Staten Island   21358  1151.0     3.3   100.0     NaN  10367  ...   \n139  Staten Island   26482   905.0     2.1   100.0     NaN  13082  ...   \n142  Staten Island   43602  1198.0     1.7   100.0     NaN  21261  ...   \n150  Staten Island       0     NaN     NaN     NaN     NaN      0  ...   \n\n     GRPI50plE  GRPI50plM  GRPI50plC  GRPI50plP  GRPI50plZ  GRPINtCE  \\\n7         1130      239.0       12.8       18.9        3.8       351   \n43        3206      387.0        7.3       28.1        3.2       812   \n6         3445      356.0        6.3       37.2        3.5       450   \n42        1933      306.0        9.6       21.4        3.3       255   \n48        1524      247.0        9.9       33.7        4.9       200   \n..         ...        ...        ...        ...        ...       ...   \n153       1677      238.0        8.6       36.4        4.5       244   \n146        748      212.0       17.2       37.7        9.1       116   \n139        259      126.0       29.5       22.9       10.1        55   \n142        622      185.0       18.1       24.9        6.4       252   \n150          0        NaN        NaN        NaN        NaN         0   \n\n     GRPINtCM  GRPINtCC  GRPINtCP  GRPINtCZ  \n7       154.0      26.6       NaN       NaN  \n43      206.0      15.4       NaN       NaN  \n6       141.0      19.0       NaN       NaN  \n42      118.0      28.2       NaN       NaN  \n48      117.0      35.6       NaN       NaN  \n..        ...       ...       ...       ...  \n153     109.0      27.1       NaN       NaN  \n146      77.0      40.3       NaN       NaN  \n139      58.0      64.1       NaN       NaN  \n142     103.0      24.8       NaN       NaN  \n150       NaN       NaN       NaN       NaN  \n\n[195 rows x 4369 columns]",
      "text/html": "<div>\n<style scoped>\n    .dataframe tbody tr th:only-of-type {\n        vertical-align: middle;\n    }\n\n    .dataframe tbody tr th {\n        vertical-align: top;\n    }\n\n    .dataframe thead th {\n        text-align: right;\n    }\n</style>\n<table border=\"1\" class=\"dataframe\">\n  <thead>\n    <tr style=\"text-align: right;\">\n      <th></th>\n      <th>GeoType</th>\n      <th>GeogName</th>\n      <th>GeoID</th>\n      <th>Borough</th>\n      <th>Pop_1E</th>\n      <th>Pop_1M</th>\n      <th>Pop_1C</th>\n      <th>Pop_1P</th>\n      <th>Pop_1Z</th>\n      <th>MaleE</th>\n      <th>...</th>\n      <th>GRPI50plE</th>\n      <th>GRPI50plM</th>\n      <th>GRPI50plC</th>\n      <th>GRPI50plP</th>\n      <th>GRPI50plZ</th>\n      <th>GRPINtCE</th>\n      <th>GRPINtCM</th>\n      <th>GRPINtCC</th>\n      <th>GRPINtCP</th>\n      <th>GRPINtCZ</th>\n    </tr>\n  </thead>\n  <tbody>\n    <tr>\n      <th>7</th>\n      <td>NTA2010</td>\n      <td>Brooklyn Heights-Cobble Hill</td>\n      <td>BK09</td>\n      <td>Brooklyn</td>\n      <td>24140</td>\n      <td>915.0</td>\n      <td>2.3</td>\n      <td>100.0</td>\n      <td>NaN</td>\n      <td>12002</td>\n      <td>...</td>\n      <td>1130</td>\n      <td>239.0</td>\n      <td>12.8</td>\n      <td>18.9</td>\n      <td>3.8</td>\n      <td>351</td>\n      <td>154.0</td>\n      <td>26.6</td>\n      <td>NaN</td>\n      <td>NaN</td>\n    </tr>\n    <tr>\n      <th>43</th>\n      <td>NTA2010</td>\n      <td>Sheepshead Bay-Gerritsen Beach-Manhattan Beach</td>\n      <td>BK17</td>\n      <td>Brooklyn</td>\n      <td>66293</td>\n      <td>1721.0</td>\n      <td>1.6</td>\n      <td>100.0</td>\n      <td>NaN</td>\n      <td>31519</td>\n      <td>...</td>\n      <td>3206</td>\n      <td>387.0</td>\n      <td>7.3</td>\n      <td>28.1</td>\n      <td>3.2</td>\n      <td>812</td>\n      <td>206.0</td>\n      <td>15.4</td>\n      <td>NaN</td>\n      <td>NaN</td>\n    </tr>\n    <tr>\n      <th>6</th>\n      <td>NTA2010</td>\n      <td>Brighton Beach</td>\n      <td>BK19</td>\n      <td>Brooklyn</td>\n      <td>34157</td>\n      <td>1331.0</td>\n      <td>2.4</td>\n      <td>100.0</td>\n      <td>NaN</td>\n      <td>16234</td>\n      <td>...</td>\n      <td>3445</td>\n      <td>356.0</td>\n      <td>6.3</td>\n      <td>37.2</td>\n      <td>3.5</td>\n      <td>450</td>\n      <td>141.0</td>\n      <td>19.0</td>\n      <td>NaN</td>\n      <td>NaN</td>\n    </tr>\n    <tr>\n      <th>42</th>\n      <td>NTA2010</td>\n      <td>Seagate-Coney Island</td>\n      <td>BK21</td>\n      <td>Brooklyn</td>\n      <td>29677</td>\n      <td>1206.0</td>\n      <td>2.5</td>\n      <td>100.0</td>\n      <td>NaN</td>\n      <td>13277</td>\n      <td>...</td>\n      <td>1933</td>\n      <td>306.0</td>\n      <td>9.6</td>\n      <td>21.4</td>\n      <td>3.3</td>\n      <td>255</td>\n      <td>118.0</td>\n      <td>28.2</td>\n      <td>NaN</td>\n      <td>NaN</td>\n    </tr>\n    <tr>\n      <th>48</th>\n      <td>NTA2010</td>\n      <td>West Brighton</td>\n      <td>BK23</td>\n      <td>Brooklyn</td>\n      <td>15754</td>\n      <td>665.0</td>\n      <td>2.6</td>\n      <td>100.0</td>\n      <td>NaN</td>\n      <td>6943</td>\n      <td>...</td>\n      <td>1524</td>\n      <td>247.0</td>\n      <td>9.9</td>\n      <td>33.7</td>\n      <td>4.9</td>\n      <td>200</td>\n      <td>117.0</td>\n      <td>35.6</td>\n      <td>NaN</td>\n      <td>NaN</td>\n    </tr>\n    <tr>\n      <th>...</th>\n      <td>...</td>\n      <td>...</td>\n      <td>...</td>\n      <td>...</td>\n      <td>...</td>\n      <td>...</td>\n      <td>...</td>\n      <td>...</td>\n      <td>...</td>\n      <td>...</td>\n      <td>...</td>\n      <td>...</td>\n      <td>...</td>\n      <td>...</td>\n      <td>...</td>\n      <td>...</td>\n      <td>...</td>\n      <td>...</td>\n      <td>...</td>\n      <td>...</td>\n      <td>...</td>\n    </tr>\n    <tr>\n      <th>153</th>\n      <td>NTA2010</td>\n      <td>Stapleton-Rosebank</td>\n      <td>SI37</td>\n      <td>Staten Island</td>\n      <td>26247</td>\n      <td>1046.0</td>\n      <td>2.4</td>\n      <td>100.0</td>\n      <td>NaN</td>\n      <td>12912</td>\n      <td>...</td>\n      <td>1677</td>\n      <td>238.0</td>\n      <td>8.6</td>\n      <td>36.4</td>\n      <td>4.5</td>\n      <td>244</td>\n      <td>109.0</td>\n      <td>27.1</td>\n      <td>NaN</td>\n      <td>NaN</td>\n    </tr>\n    <tr>\n      <th>146</th>\n      <td>NTA2010</td>\n      <td>New Dorp-Midland Beach</td>\n      <td>SI45</td>\n      <td>Staten Island</td>\n      <td>21358</td>\n      <td>1151.0</td>\n      <td>3.3</td>\n      <td>100.0</td>\n      <td>NaN</td>\n      <td>10367</td>\n      <td>...</td>\n      <td>748</td>\n      <td>212.0</td>\n      <td>17.2</td>\n      <td>37.7</td>\n      <td>9.1</td>\n      <td>116</td>\n      <td>77.0</td>\n      <td>40.3</td>\n      <td>NaN</td>\n      <td>NaN</td>\n    </tr>\n    <tr>\n      <th>139</th>\n      <td>NTA2010</td>\n      <td>Arden Heights</td>\n      <td>SI48</td>\n      <td>Staten Island</td>\n      <td>26482</td>\n      <td>905.0</td>\n      <td>2.1</td>\n      <td>100.0</td>\n      <td>NaN</td>\n      <td>13082</td>\n      <td>...</td>\n      <td>259</td>\n      <td>126.0</td>\n      <td>29.5</td>\n      <td>22.9</td>\n      <td>10.1</td>\n      <td>55</td>\n      <td>58.0</td>\n      <td>64.1</td>\n      <td>NaN</td>\n      <td>NaN</td>\n    </tr>\n    <tr>\n      <th>142</th>\n      <td>NTA2010</td>\n      <td>Great Kills</td>\n      <td>SI54</td>\n      <td>Staten Island</td>\n      <td>43602</td>\n      <td>1198.0</td>\n      <td>1.7</td>\n      <td>100.0</td>\n      <td>NaN</td>\n      <td>21261</td>\n      <td>...</td>\n      <td>622</td>\n      <td>185.0</td>\n      <td>18.1</td>\n      <td>24.9</td>\n      <td>6.4</td>\n      <td>252</td>\n      <td>103.0</td>\n      <td>24.8</td>\n      <td>NaN</td>\n      <td>NaN</td>\n    </tr>\n    <tr>\n      <th>150</th>\n      <td>NTA2010</td>\n      <td>park-cemetery-etc-Staten Island</td>\n      <td>SI99</td>\n      <td>Staten Island</td>\n      <td>0</td>\n      <td>NaN</td>\n      <td>NaN</td>\n      <td>NaN</td>\n      <td>NaN</td>\n      <td>0</td>\n      <td>...</td>\n      <td>0</td>\n      <td>NaN</td>\n      <td>NaN</td>\n      <td>NaN</td>\n      <td>NaN</td>\n      <td>0</td>\n      <td>NaN</td>\n      <td>NaN</td>\n      <td>NaN</td>\n      <td>NaN</td>\n    </tr>\n  </tbody>\n</table>\n<p>195 rows × 4369 columns</p>\n</div>"
     },
     "execution_count": 5,
     "metadata": {},
     "output_type": "execute_result"
    }
   ],
   "source": [
    "nta_demo_df"
   ],
   "metadata": {
    "collapsed": false,
    "ExecuteTime": {
     "end_time": "2023-11-30T20:29:17.863944Z",
     "start_time": "2023-11-30T20:29:17.850263Z"
    }
   },
   "id": "e81273122319a7c5"
  },
  {
   "cell_type": "code",
   "execution_count": null,
   "outputs": [],
   "source": [],
   "metadata": {
    "collapsed": false
   },
   "id": "a2612cd6c02d9738"
  }
 ],
 "metadata": {
  "kernelspec": {
   "display_name": "Python 3",
   "language": "python",
   "name": "python3"
  },
  "language_info": {
   "codemirror_mode": {
    "name": "ipython",
    "version": 2
   },
   "file_extension": ".py",
   "mimetype": "text/x-python",
   "name": "python",
   "nbconvert_exporter": "python",
   "pygments_lexer": "ipython2",
   "version": "2.7.6"
  }
 },
 "nbformat": 4,
 "nbformat_minor": 5
}
