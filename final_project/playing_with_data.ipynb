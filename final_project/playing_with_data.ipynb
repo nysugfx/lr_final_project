{
 "cells": [
  {
   "cell_type": "code",
   "execution_count": 20,
   "id": "initial_id",
   "metadata": {
    "collapsed": true,
    "ExecuteTime": {
     "end_time": "2023-12-12T17:22:45.908450Z",
     "start_time": "2023-12-12T17:20:42.085157Z"
    }
   },
   "outputs": [
    {
     "name": "stderr",
     "output_type": "stream",
     "text": [
      "WARNING:root:Requests made without an app_token will be subject to strict throttling limits.\n",
      "/Users/alexfriedman/Downloads/lrFinalProject/venv/lib/python3.10/site-packages/openpyxl/reader/workbook.py:118: UserWarning: Print area cannot be set to Defined name: #N/A.\n",
      "  warn(f\"Print area cannot be set to Defined name: {defn.value}.\")\n"
     ]
    }
   ],
   "source": [
    "import pandas as pd\n",
    "import numpy as np\n",
    "\n",
    "import data_pull as dp\n",
    "import geopandas as gpd\n",
    "\n",
    "citibike_df: pd.DataFrame = dp.get_citibike_data()\n",
    "\n",
    "\n",
    "\n"
   ]
  },
  {
   "cell_type": "code",
   "execution_count": 62,
   "outputs": [
    {
     "name": "stderr",
     "output_type": "stream",
     "text": [
      "WARNING:root:Requests made without an app_token will be subject to strict throttling limits.\n",
      "/Users/alexfriedman/Downloads/lrFinalProject/venv/lib/python3.10/site-packages/openpyxl/reader/workbook.py:118: UserWarning: Print area cannot be set to Defined name: #N/A.\n",
      "  warn(f\"Print area cannot be set to Defined name: {defn.value}.\")\n"
     ]
    }
   ],
   "source": [
    "building_df: pd.DataFrame = dp.get_building_data()\n",
    "nta_demo_df: pd.DataFrame = dp.get_nta_demographics()\n",
    "nta_geodf: gpd.GeoDataFrame = dp.get_nta_geog() # we have our geopandas multipolygon in the column called \"geometry\"\n",
    "nta_geodf = nta_geodf[nta_geodf['BoroName'] != 'Staten Island']"
   ],
   "metadata": {
    "collapsed": false,
    "ExecuteTime": {
     "end_time": "2023-12-12T18:09:28.280170Z",
     "start_time": "2023-12-12T18:09:01.081459Z"
    }
   },
   "id": "ed7187cd5984b83b"
  },
  {
   "cell_type": "code",
   "execution_count": 63,
   "outputs": [
    {
     "data": {
      "text/plain": "     GeoType                                        GeogName GeoID  \\\n7    NTA2010                    Brooklyn Heights-Cobble Hill  BK09   \n43   NTA2010  Sheepshead Bay-Gerritsen Beach-Manhattan Beach  BK17   \n6    NTA2010                                  Brighton Beach  BK19   \n42   NTA2010                            Seagate-Coney Island  BK21   \n48   NTA2010                                   West Brighton  BK23   \n..       ...                                             ...   ...   \n153  NTA2010                              Stapleton-Rosebank  SI37   \n146  NTA2010                          New Dorp-Midland Beach  SI45   \n139  NTA2010                                   Arden Heights  SI48   \n142  NTA2010                                     Great Kills  SI54   \n150  NTA2010                 park-cemetery-etc-Staten Island  SI99   \n\n           Borough  Pop_1E  Pop_1M  Pop_1C  Pop_1P  Pop_1Z  MaleE  ...  \\\n7         Brooklyn   24140   915.0     2.3   100.0     NaN  12002  ...   \n43        Brooklyn   66293  1721.0     1.6   100.0     NaN  31519  ...   \n6         Brooklyn   34157  1331.0     2.4   100.0     NaN  16234  ...   \n42        Brooklyn   29677  1206.0     2.5   100.0     NaN  13277  ...   \n48        Brooklyn   15754   665.0     2.6   100.0     NaN   6943  ...   \n..             ...     ...     ...     ...     ...     ...    ...  ...   \n153  Staten Island   26247  1046.0     2.4   100.0     NaN  12912  ...   \n146  Staten Island   21358  1151.0     3.3   100.0     NaN  10367  ...   \n139  Staten Island   26482   905.0     2.1   100.0     NaN  13082  ...   \n142  Staten Island   43602  1198.0     1.7   100.0     NaN  21261  ...   \n150  Staten Island       0     NaN     NaN     NaN     NaN      0  ...   \n\n     GRPI50plE  GRPI50plM  GRPI50plC  GRPI50plP  GRPI50plZ  GRPINtCE  \\\n7         1130      239.0       12.8       18.9        3.8       351   \n43        3206      387.0        7.3       28.1        3.2       812   \n6         3445      356.0        6.3       37.2        3.5       450   \n42        1933      306.0        9.6       21.4        3.3       255   \n48        1524      247.0        9.9       33.7        4.9       200   \n..         ...        ...        ...        ...        ...       ...   \n153       1677      238.0        8.6       36.4        4.5       244   \n146        748      212.0       17.2       37.7        9.1       116   \n139        259      126.0       29.5       22.9       10.1        55   \n142        622      185.0       18.1       24.9        6.4       252   \n150          0        NaN        NaN        NaN        NaN         0   \n\n     GRPINtCM  GRPINtCC  GRPINtCP  GRPINtCZ  \n7       154.0      26.6       NaN       NaN  \n43      206.0      15.4       NaN       NaN  \n6       141.0      19.0       NaN       NaN  \n42      118.0      28.2       NaN       NaN  \n48      117.0      35.6       NaN       NaN  \n..        ...       ...       ...       ...  \n153     109.0      27.1       NaN       NaN  \n146      77.0      40.3       NaN       NaN  \n139      58.0      64.1       NaN       NaN  \n142     103.0      24.8       NaN       NaN  \n150       NaN       NaN       NaN       NaN  \n\n[195 rows x 4369 columns]",
      "text/html": "<div>\n<style scoped>\n    .dataframe tbody tr th:only-of-type {\n        vertical-align: middle;\n    }\n\n    .dataframe tbody tr th {\n        vertical-align: top;\n    }\n\n    .dataframe thead th {\n        text-align: right;\n    }\n</style>\n<table border=\"1\" class=\"dataframe\">\n  <thead>\n    <tr style=\"text-align: right;\">\n      <th></th>\n      <th>GeoType</th>\n      <th>GeogName</th>\n      <th>GeoID</th>\n      <th>Borough</th>\n      <th>Pop_1E</th>\n      <th>Pop_1M</th>\n      <th>Pop_1C</th>\n      <th>Pop_1P</th>\n      <th>Pop_1Z</th>\n      <th>MaleE</th>\n      <th>...</th>\n      <th>GRPI50plE</th>\n      <th>GRPI50plM</th>\n      <th>GRPI50plC</th>\n      <th>GRPI50plP</th>\n      <th>GRPI50plZ</th>\n      <th>GRPINtCE</th>\n      <th>GRPINtCM</th>\n      <th>GRPINtCC</th>\n      <th>GRPINtCP</th>\n      <th>GRPINtCZ</th>\n    </tr>\n  </thead>\n  <tbody>\n    <tr>\n      <th>7</th>\n      <td>NTA2010</td>\n      <td>Brooklyn Heights-Cobble Hill</td>\n      <td>BK09</td>\n      <td>Brooklyn</td>\n      <td>24140</td>\n      <td>915.0</td>\n      <td>2.3</td>\n      <td>100.0</td>\n      <td>NaN</td>\n      <td>12002</td>\n      <td>...</td>\n      <td>1130</td>\n      <td>239.0</td>\n      <td>12.8</td>\n      <td>18.9</td>\n      <td>3.8</td>\n      <td>351</td>\n      <td>154.0</td>\n      <td>26.6</td>\n      <td>NaN</td>\n      <td>NaN</td>\n    </tr>\n    <tr>\n      <th>43</th>\n      <td>NTA2010</td>\n      <td>Sheepshead Bay-Gerritsen Beach-Manhattan Beach</td>\n      <td>BK17</td>\n      <td>Brooklyn</td>\n      <td>66293</td>\n      <td>1721.0</td>\n      <td>1.6</td>\n      <td>100.0</td>\n      <td>NaN</td>\n      <td>31519</td>\n      <td>...</td>\n      <td>3206</td>\n      <td>387.0</td>\n      <td>7.3</td>\n      <td>28.1</td>\n      <td>3.2</td>\n      <td>812</td>\n      <td>206.0</td>\n      <td>15.4</td>\n      <td>NaN</td>\n      <td>NaN</td>\n    </tr>\n    <tr>\n      <th>6</th>\n      <td>NTA2010</td>\n      <td>Brighton Beach</td>\n      <td>BK19</td>\n      <td>Brooklyn</td>\n      <td>34157</td>\n      <td>1331.0</td>\n      <td>2.4</td>\n      <td>100.0</td>\n      <td>NaN</td>\n      <td>16234</td>\n      <td>...</td>\n      <td>3445</td>\n      <td>356.0</td>\n      <td>6.3</td>\n      <td>37.2</td>\n      <td>3.5</td>\n      <td>450</td>\n      <td>141.0</td>\n      <td>19.0</td>\n      <td>NaN</td>\n      <td>NaN</td>\n    </tr>\n    <tr>\n      <th>42</th>\n      <td>NTA2010</td>\n      <td>Seagate-Coney Island</td>\n      <td>BK21</td>\n      <td>Brooklyn</td>\n      <td>29677</td>\n      <td>1206.0</td>\n      <td>2.5</td>\n      <td>100.0</td>\n      <td>NaN</td>\n      <td>13277</td>\n      <td>...</td>\n      <td>1933</td>\n      <td>306.0</td>\n      <td>9.6</td>\n      <td>21.4</td>\n      <td>3.3</td>\n      <td>255</td>\n      <td>118.0</td>\n      <td>28.2</td>\n      <td>NaN</td>\n      <td>NaN</td>\n    </tr>\n    <tr>\n      <th>48</th>\n      <td>NTA2010</td>\n      <td>West Brighton</td>\n      <td>BK23</td>\n      <td>Brooklyn</td>\n      <td>15754</td>\n      <td>665.0</td>\n      <td>2.6</td>\n      <td>100.0</td>\n      <td>NaN</td>\n      <td>6943</td>\n      <td>...</td>\n      <td>1524</td>\n      <td>247.0</td>\n      <td>9.9</td>\n      <td>33.7</td>\n      <td>4.9</td>\n      <td>200</td>\n      <td>117.0</td>\n      <td>35.6</td>\n      <td>NaN</td>\n      <td>NaN</td>\n    </tr>\n    <tr>\n      <th>...</th>\n      <td>...</td>\n      <td>...</td>\n      <td>...</td>\n      <td>...</td>\n      <td>...</td>\n      <td>...</td>\n      <td>...</td>\n      <td>...</td>\n      <td>...</td>\n      <td>...</td>\n      <td>...</td>\n      <td>...</td>\n      <td>...</td>\n      <td>...</td>\n      <td>...</td>\n      <td>...</td>\n      <td>...</td>\n      <td>...</td>\n      <td>...</td>\n      <td>...</td>\n      <td>...</td>\n    </tr>\n    <tr>\n      <th>153</th>\n      <td>NTA2010</td>\n      <td>Stapleton-Rosebank</td>\n      <td>SI37</td>\n      <td>Staten Island</td>\n      <td>26247</td>\n      <td>1046.0</td>\n      <td>2.4</td>\n      <td>100.0</td>\n      <td>NaN</td>\n      <td>12912</td>\n      <td>...</td>\n      <td>1677</td>\n      <td>238.0</td>\n      <td>8.6</td>\n      <td>36.4</td>\n      <td>4.5</td>\n      <td>244</td>\n      <td>109.0</td>\n      <td>27.1</td>\n      <td>NaN</td>\n      <td>NaN</td>\n    </tr>\n    <tr>\n      <th>146</th>\n      <td>NTA2010</td>\n      <td>New Dorp-Midland Beach</td>\n      <td>SI45</td>\n      <td>Staten Island</td>\n      <td>21358</td>\n      <td>1151.0</td>\n      <td>3.3</td>\n      <td>100.0</td>\n      <td>NaN</td>\n      <td>10367</td>\n      <td>...</td>\n      <td>748</td>\n      <td>212.0</td>\n      <td>17.2</td>\n      <td>37.7</td>\n      <td>9.1</td>\n      <td>116</td>\n      <td>77.0</td>\n      <td>40.3</td>\n      <td>NaN</td>\n      <td>NaN</td>\n    </tr>\n    <tr>\n      <th>139</th>\n      <td>NTA2010</td>\n      <td>Arden Heights</td>\n      <td>SI48</td>\n      <td>Staten Island</td>\n      <td>26482</td>\n      <td>905.0</td>\n      <td>2.1</td>\n      <td>100.0</td>\n      <td>NaN</td>\n      <td>13082</td>\n      <td>...</td>\n      <td>259</td>\n      <td>126.0</td>\n      <td>29.5</td>\n      <td>22.9</td>\n      <td>10.1</td>\n      <td>55</td>\n      <td>58.0</td>\n      <td>64.1</td>\n      <td>NaN</td>\n      <td>NaN</td>\n    </tr>\n    <tr>\n      <th>142</th>\n      <td>NTA2010</td>\n      <td>Great Kills</td>\n      <td>SI54</td>\n      <td>Staten Island</td>\n      <td>43602</td>\n      <td>1198.0</td>\n      <td>1.7</td>\n      <td>100.0</td>\n      <td>NaN</td>\n      <td>21261</td>\n      <td>...</td>\n      <td>622</td>\n      <td>185.0</td>\n      <td>18.1</td>\n      <td>24.9</td>\n      <td>6.4</td>\n      <td>252</td>\n      <td>103.0</td>\n      <td>24.8</td>\n      <td>NaN</td>\n      <td>NaN</td>\n    </tr>\n    <tr>\n      <th>150</th>\n      <td>NTA2010</td>\n      <td>park-cemetery-etc-Staten Island</td>\n      <td>SI99</td>\n      <td>Staten Island</td>\n      <td>0</td>\n      <td>NaN</td>\n      <td>NaN</td>\n      <td>NaN</td>\n      <td>NaN</td>\n      <td>0</td>\n      <td>...</td>\n      <td>0</td>\n      <td>NaN</td>\n      <td>NaN</td>\n      <td>NaN</td>\n      <td>NaN</td>\n      <td>0</td>\n      <td>NaN</td>\n      <td>NaN</td>\n      <td>NaN</td>\n      <td>NaN</td>\n    </tr>\n  </tbody>\n</table>\n<p>195 rows × 4369 columns</p>\n</div>"
     },
     "execution_count": 63,
     "metadata": {},
     "output_type": "execute_result"
    }
   ],
   "source": [
    "nta_demo_df"
   ],
   "metadata": {
    "collapsed": false,
    "ExecuteTime": {
     "end_time": "2023-12-12T18:09:28.294456Z",
     "start_time": "2023-12-12T18:09:28.291737Z"
    }
   },
   "id": "b71fb213bea0c07"
  },
  {
   "cell_type": "code",
   "execution_count": 65,
   "outputs": [],
   "source": [
    "data_dict = {\n",
    "'Owner-occupied': 'OOcHU1E',\n",
    "'Renter-occupied': 'ROcHU1E',\n",
    "'Median home value(dollars)': 'MdVlE',\n",
    "'Less than high school graduate': 'EA_LTHSGrE',\n",
    "\"Bachelor's degree or higher\": 'EA_BchDHE',\n",
    "'High school graduate (includes equivalency)': 'EA_HScGrdE',\n",
    "'Management, business, science, and arts': 'MgBSciArtE',\n",
    "'Service': 'SrvcE',\n",
    "'Sales and office': 'SalesOffE',\n",
    "'Natural resources, construction, and maintenance': 'NRCnstMntE',\n",
    "'Production, transportation, and material moving': 'PrdTrnsMME',\n",
    "'Median household income (dollars)': 'MdHHIncE',\n",
    "'Mean household income (dollars)': 'MnHHIncE',\n",
    "'Under .50': 'PvU50E',\n",
    "'.50 to .74': 'Pv50t74E',\n",
    "'.75 to .99': 'Pv75t99E',\n",
    "'1.00 to 1.24': 'Pv100t124E',\n",
    "'1.25 to 1.49': 'Pv125t149E',\n",
    "'1.50 to 1.74': 'Pv150t174E',\n",
    "'1.75 to 1.84': 'Pv175t184E',\n",
    "'1.85 to 1.99': 'Pv185t199E',\n",
    "'2.00 to 2.99': 'Pv200t299E',\n",
    "'3.00 to 3.99': 'Pv300t399E',\n",
    "'4.00 to 4.99': 'Pv400t499E',\n",
    "'5.00 and over': 'Pv500plE',\n",
    "'Total population': 'Pop_1E'\n",
    "}\n",
    "\n",
    "demo_cols = list(data_dict.values()) + ['GeoID']\n",
    "nta_demo_df_final = nta_demo_df[demo_cols].set_index('GeoID')\n",
    "\n"
   ],
   "metadata": {
    "collapsed": false,
    "ExecuteTime": {
     "end_time": "2023-12-12T18:10:26.499761Z",
     "start_time": "2023-12-12T18:10:26.493736Z"
    }
   },
   "id": "5f9ccc99bd6ed27e"
  },
  {
   "cell_type": "code",
   "execution_count": 66,
   "outputs": [
    {
     "name": "stderr",
     "output_type": "stream",
     "text": [
      "/var/folders/sv/b2zydtkj4_14gky1s46kj64c0000gn/T/ipykernel_93924/864184086.py:5: UserWarning: Geometry is in a geographic CRS. Results from 'centroid' are likely incorrect. Use 'GeoSeries.to_crs()' to re-project geometries to a projected CRS before this operation.\n",
      "\n",
      "  nta_geodf['center'] = nta_geodf['geometry'].centroid\n"
     ]
    }
   ],
   "source": [
    "def to_sq_mi(row):\n",
    "    return row.Shape_Area * 3.587e-8\n",
    "\n",
    "nta_geodf['area_sq_mi'] = nta_geodf.apply(to_sq_mi, axis=1)\n",
    "nta_geodf['center'] = nta_geodf['geometry'].centroid\n",
    "nta_geodf['center_lat'] = nta_geodf['center'].apply(lambda x: x.y)\n",
    "nta_geodf['center_lng'] = nta_geodf['center'].apply(lambda x: x.x)\n"
   ],
   "metadata": {
    "collapsed": false,
    "ExecuteTime": {
     "end_time": "2023-12-12T18:10:29.988042Z",
     "start_time": "2023-12-12T18:10:29.953526Z"
    }
   },
   "id": "4017d34043dc7b5c"
  },
  {
   "cell_type": "markdown",
   "source": [],
   "metadata": {
    "collapsed": false
   },
   "id": "f605c5619fbcc0c6"
  },
  {
   "cell_type": "code",
   "execution_count": 67,
   "outputs": [
    {
     "ename": "KeyError",
     "evalue": "'start_lat'",
     "output_type": "error",
     "traceback": [
      "\u001B[0;31m---------------------------------------------------------------------------\u001B[0m",
      "\u001B[0;31mKeyError\u001B[0m                                  Traceback (most recent call last)",
      "Cell \u001B[0;32mIn[67], line 1\u001B[0m\n\u001B[0;32m----> 1\u001B[0m unique_start_stations \u001B[38;5;241m=\u001B[39m \u001B[43mcitibike_df\u001B[49m\u001B[38;5;241;43m.\u001B[39;49m\u001B[43mgroupby\u001B[49m\u001B[43m(\u001B[49m\u001B[43m[\u001B[49m\u001B[38;5;124;43m'\u001B[39;49m\u001B[38;5;124;43mstart_station_id\u001B[39;49m\u001B[38;5;124;43m'\u001B[39;49m\u001B[43m,\u001B[49m\u001B[38;5;124;43m'\u001B[39;49m\u001B[38;5;124;43mstart_lat\u001B[39;49m\u001B[38;5;124;43m'\u001B[39;49m\u001B[43m,\u001B[49m\u001B[43m \u001B[49m\u001B[38;5;124;43m'\u001B[39;49m\u001B[38;5;124;43mstart_lng\u001B[39;49m\u001B[38;5;124;43m'\u001B[39;49m\u001B[43m]\u001B[49m\u001B[43m)\u001B[49m\u001B[38;5;241m.\u001B[39mfirst()\n\u001B[1;32m      2\u001B[0m unique_start_stations \u001B[38;5;241m=\u001B[39m unique_start_stations\u001B[38;5;241m.\u001B[39mreset_index()\n\u001B[1;32m      3\u001B[0m unique_end_stations \u001B[38;5;241m=\u001B[39m citibike_df\u001B[38;5;241m.\u001B[39mgroupby([\u001B[38;5;124m'\u001B[39m\u001B[38;5;124mend_station_id\u001B[39m\u001B[38;5;124m'\u001B[39m,\u001B[38;5;124m'\u001B[39m\u001B[38;5;124mend_lat\u001B[39m\u001B[38;5;124m'\u001B[39m, \u001B[38;5;124m'\u001B[39m\u001B[38;5;124mend_lng\u001B[39m\u001B[38;5;124m'\u001B[39m])\u001B[38;5;241m.\u001B[39mfirst()\n",
      "File \u001B[0;32m~/Downloads/lrFinalProject/venv/lib/python3.10/site-packages/pandas/core/frame.py:8869\u001B[0m, in \u001B[0;36mDataFrame.groupby\u001B[0;34m(self, by, axis, level, as_index, sort, group_keys, observed, dropna)\u001B[0m\n\u001B[1;32m   8866\u001B[0m \u001B[38;5;28;01mif\u001B[39;00m level \u001B[38;5;129;01mis\u001B[39;00m \u001B[38;5;28;01mNone\u001B[39;00m \u001B[38;5;129;01mand\u001B[39;00m by \u001B[38;5;129;01mis\u001B[39;00m \u001B[38;5;28;01mNone\u001B[39;00m:\n\u001B[1;32m   8867\u001B[0m     \u001B[38;5;28;01mraise\u001B[39;00m \u001B[38;5;167;01mTypeError\u001B[39;00m(\u001B[38;5;124m\"\u001B[39m\u001B[38;5;124mYou have to supply one of \u001B[39m\u001B[38;5;124m'\u001B[39m\u001B[38;5;124mby\u001B[39m\u001B[38;5;124m'\u001B[39m\u001B[38;5;124m and \u001B[39m\u001B[38;5;124m'\u001B[39m\u001B[38;5;124mlevel\u001B[39m\u001B[38;5;124m'\u001B[39m\u001B[38;5;124m\"\u001B[39m)\n\u001B[0;32m-> 8869\u001B[0m \u001B[38;5;28;01mreturn\u001B[39;00m \u001B[43mDataFrameGroupBy\u001B[49m\u001B[43m(\u001B[49m\n\u001B[1;32m   8870\u001B[0m \u001B[43m    \u001B[49m\u001B[43mobj\u001B[49m\u001B[38;5;241;43m=\u001B[39;49m\u001B[38;5;28;43mself\u001B[39;49m\u001B[43m,\u001B[49m\n\u001B[1;32m   8871\u001B[0m \u001B[43m    \u001B[49m\u001B[43mkeys\u001B[49m\u001B[38;5;241;43m=\u001B[39;49m\u001B[43mby\u001B[49m\u001B[43m,\u001B[49m\n\u001B[1;32m   8872\u001B[0m \u001B[43m    \u001B[49m\u001B[43maxis\u001B[49m\u001B[38;5;241;43m=\u001B[39;49m\u001B[43maxis\u001B[49m\u001B[43m,\u001B[49m\n\u001B[1;32m   8873\u001B[0m \u001B[43m    \u001B[49m\u001B[43mlevel\u001B[49m\u001B[38;5;241;43m=\u001B[39;49m\u001B[43mlevel\u001B[49m\u001B[43m,\u001B[49m\n\u001B[1;32m   8874\u001B[0m \u001B[43m    \u001B[49m\u001B[43mas_index\u001B[49m\u001B[38;5;241;43m=\u001B[39;49m\u001B[43mas_index\u001B[49m\u001B[43m,\u001B[49m\n\u001B[1;32m   8875\u001B[0m \u001B[43m    \u001B[49m\u001B[43msort\u001B[49m\u001B[38;5;241;43m=\u001B[39;49m\u001B[43msort\u001B[49m\u001B[43m,\u001B[49m\n\u001B[1;32m   8876\u001B[0m \u001B[43m    \u001B[49m\u001B[43mgroup_keys\u001B[49m\u001B[38;5;241;43m=\u001B[39;49m\u001B[43mgroup_keys\u001B[49m\u001B[43m,\u001B[49m\n\u001B[1;32m   8877\u001B[0m \u001B[43m    \u001B[49m\u001B[43mobserved\u001B[49m\u001B[38;5;241;43m=\u001B[39;49m\u001B[43mobserved\u001B[49m\u001B[43m,\u001B[49m\n\u001B[1;32m   8878\u001B[0m \u001B[43m    \u001B[49m\u001B[43mdropna\u001B[49m\u001B[38;5;241;43m=\u001B[39;49m\u001B[43mdropna\u001B[49m\u001B[43m,\u001B[49m\n\u001B[1;32m   8879\u001B[0m \u001B[43m\u001B[49m\u001B[43m)\u001B[49m\n",
      "File \u001B[0;32m~/Downloads/lrFinalProject/venv/lib/python3.10/site-packages/pandas/core/groupby/groupby.py:1278\u001B[0m, in \u001B[0;36mGroupBy.__init__\u001B[0;34m(self, obj, keys, axis, level, grouper, exclusions, selection, as_index, sort, group_keys, observed, dropna)\u001B[0m\n\u001B[1;32m   1275\u001B[0m \u001B[38;5;28mself\u001B[39m\u001B[38;5;241m.\u001B[39mdropna \u001B[38;5;241m=\u001B[39m dropna\n\u001B[1;32m   1277\u001B[0m \u001B[38;5;28;01mif\u001B[39;00m grouper \u001B[38;5;129;01mis\u001B[39;00m \u001B[38;5;28;01mNone\u001B[39;00m:\n\u001B[0;32m-> 1278\u001B[0m     grouper, exclusions, obj \u001B[38;5;241m=\u001B[39m \u001B[43mget_grouper\u001B[49m\u001B[43m(\u001B[49m\n\u001B[1;32m   1279\u001B[0m \u001B[43m        \u001B[49m\u001B[43mobj\u001B[49m\u001B[43m,\u001B[49m\n\u001B[1;32m   1280\u001B[0m \u001B[43m        \u001B[49m\u001B[43mkeys\u001B[49m\u001B[43m,\u001B[49m\n\u001B[1;32m   1281\u001B[0m \u001B[43m        \u001B[49m\u001B[43maxis\u001B[49m\u001B[38;5;241;43m=\u001B[39;49m\u001B[43maxis\u001B[49m\u001B[43m,\u001B[49m\n\u001B[1;32m   1282\u001B[0m \u001B[43m        \u001B[49m\u001B[43mlevel\u001B[49m\u001B[38;5;241;43m=\u001B[39;49m\u001B[43mlevel\u001B[49m\u001B[43m,\u001B[49m\n\u001B[1;32m   1283\u001B[0m \u001B[43m        \u001B[49m\u001B[43msort\u001B[49m\u001B[38;5;241;43m=\u001B[39;49m\u001B[43msort\u001B[49m\u001B[43m,\u001B[49m\n\u001B[1;32m   1284\u001B[0m \u001B[43m        \u001B[49m\u001B[43mobserved\u001B[49m\u001B[38;5;241;43m=\u001B[39;49m\u001B[38;5;28;43;01mFalse\u001B[39;49;00m\u001B[43m \u001B[49m\u001B[38;5;28;43;01mif\u001B[39;49;00m\u001B[43m \u001B[49m\u001B[43mobserved\u001B[49m\u001B[43m \u001B[49m\u001B[38;5;129;43;01mis\u001B[39;49;00m\u001B[43m \u001B[49m\u001B[43mlib\u001B[49m\u001B[38;5;241;43m.\u001B[39;49m\u001B[43mno_default\u001B[49m\u001B[43m \u001B[49m\u001B[38;5;28;43;01melse\u001B[39;49;00m\u001B[43m \u001B[49m\u001B[43mobserved\u001B[49m\u001B[43m,\u001B[49m\n\u001B[1;32m   1285\u001B[0m \u001B[43m        \u001B[49m\u001B[43mdropna\u001B[49m\u001B[38;5;241;43m=\u001B[39;49m\u001B[38;5;28;43mself\u001B[39;49m\u001B[38;5;241;43m.\u001B[39;49m\u001B[43mdropna\u001B[49m\u001B[43m,\u001B[49m\n\u001B[1;32m   1286\u001B[0m \u001B[43m    \u001B[49m\u001B[43m)\u001B[49m\n\u001B[1;32m   1288\u001B[0m \u001B[38;5;28;01mif\u001B[39;00m observed \u001B[38;5;129;01mis\u001B[39;00m lib\u001B[38;5;241m.\u001B[39mno_default:\n\u001B[1;32m   1289\u001B[0m     \u001B[38;5;28;01mif\u001B[39;00m \u001B[38;5;28many\u001B[39m(ping\u001B[38;5;241m.\u001B[39m_passed_categorical \u001B[38;5;28;01mfor\u001B[39;00m ping \u001B[38;5;129;01min\u001B[39;00m grouper\u001B[38;5;241m.\u001B[39mgroupings):\n",
      "File \u001B[0;32m~/Downloads/lrFinalProject/venv/lib/python3.10/site-packages/pandas/core/groupby/grouper.py:1009\u001B[0m, in \u001B[0;36mget_grouper\u001B[0;34m(obj, key, axis, level, sort, observed, validate, dropna)\u001B[0m\n\u001B[1;32m   1007\u001B[0m         in_axis, level, gpr \u001B[38;5;241m=\u001B[39m \u001B[38;5;28;01mFalse\u001B[39;00m, gpr, \u001B[38;5;28;01mNone\u001B[39;00m\n\u001B[1;32m   1008\u001B[0m     \u001B[38;5;28;01melse\u001B[39;00m:\n\u001B[0;32m-> 1009\u001B[0m         \u001B[38;5;28;01mraise\u001B[39;00m \u001B[38;5;167;01mKeyError\u001B[39;00m(gpr)\n\u001B[1;32m   1010\u001B[0m \u001B[38;5;28;01melif\u001B[39;00m \u001B[38;5;28misinstance\u001B[39m(gpr, Grouper) \u001B[38;5;129;01mand\u001B[39;00m gpr\u001B[38;5;241m.\u001B[39mkey \u001B[38;5;129;01mis\u001B[39;00m \u001B[38;5;129;01mnot\u001B[39;00m \u001B[38;5;28;01mNone\u001B[39;00m:\n\u001B[1;32m   1011\u001B[0m     \u001B[38;5;66;03m# Add key to exclusions\u001B[39;00m\n\u001B[1;32m   1012\u001B[0m     exclusions\u001B[38;5;241m.\u001B[39madd(gpr\u001B[38;5;241m.\u001B[39mkey)\n",
      "\u001B[0;31mKeyError\u001B[0m: 'start_lat'"
     ]
    }
   ],
   "source": [
    "unique_start_stations = citibike_df.groupby(['start_station_id','start_lat', 'start_lng']).first()\n",
    "unique_start_stations = unique_start_stations.reset_index()\n",
    "unique_end_stations = citibike_df.groupby(['end_station_id','end_lat', 'end_lng']).first()\n",
    "unique_end_stations = unique_end_stations.reset_index()\n",
    "unique_stations = pd.concat([unique_start_stations, unique_end_stations], axis=0)\n",
    "unique_stations.drop_duplicates(subset=['start_station_id', 'start_lat', 'start_lng'], inplace=True)\n",
    "unique_stations = unique_stations[['start_station_id', 'start_lat', 'start_lng']].dropna()\n",
    "unique_stations.columns = ['station_id', 'lat', 'lng']"
   ],
   "metadata": {
    "collapsed": false,
    "ExecuteTime": {
     "end_time": "2023-12-12T18:10:30.559936Z",
     "start_time": "2023-12-12T18:10:30.524693Z"
    }
   },
   "id": "5e6842aa917961ec"
  },
  {
   "cell_type": "markdown",
   "source": [
    "## Notes:\n",
    "\n",
    "- We need to map CitiBike Stations to NTA 2010\n",
    "- We need to map Buildings to NTA 2010\n",
    "- We need to map CitiBike Stations to Buildings\n",
    "\n",
    "\n",
    "\n"
   ],
   "metadata": {
    "collapsed": false
   },
   "id": "254b71f0923d7e35"
  },
  {
   "cell_type": "code",
   "execution_count": 68,
   "outputs": [
    {
     "name": "stderr",
     "output_type": "stream",
     "text": [
      "/Users/alexfriedman/Downloads/lrFinalProject/venv/lib/python3.10/site-packages/IPython/core/interactiveshell.py:3488: FutureWarning: The `op` parameter is deprecated and will be removed in a future release. Please use the `predicate` parameter instead.\n",
      "  if await self.run_code(code, result, async_=asy):\n"
     ]
    },
    {
     "data": {
      "text/plain": "     station_id        lat        lng                    geometry  \\\n0            72  40.767272 -73.993929  POINT (-73.99393 40.76727)   \n1            79  40.719116 -74.006667  POINT (-74.00667 40.71912)   \n2            82  40.711174 -74.000165  POINT (-74.00017 40.71117)   \n3            83  40.683826 -73.976323  POINT (-73.97632 40.68383)   \n4           116  40.741776 -74.001497  POINT (-74.00150 40.74178)   \n...         ...        ...        ...                         ...   \n6897     SYS033  40.728487 -74.011693  POINT (-74.01169 40.72849)   \n6898     SYS035  40.728660 -74.011980  POINT (-74.01198 40.72866)   \n6899     SYS052  40.604017 -74.019709  POINT (-74.01971 40.60402)   \n6900     SYS052  40.604017 -74.019709  POINT (-74.01971 40.60402)   \n3629  Lab - NYC  40.730000 -74.010000  POINT (-74.01000 40.73000)   \n\n      index_right  BoroCode   BoroName  CountyFIPS NTACode  \\\n0           139.0       1.0  Manhattan        61.0    MN15   \n1           144.0       1.0  Manhattan        61.0    MN24   \n2            85.0       1.0  Manhattan        61.0    MN27   \n3             6.0       3.0   Brooklyn        47.0    BK68   \n4           138.0       1.0  Manhattan        61.0    MN13   \n...           ...       ...        ...         ...     ...   \n6897        179.0       1.0  Manhattan        61.0    MN23   \n6898        179.0       1.0  Manhattan        61.0    MN23   \n6899        194.0       3.0   Brooklyn        47.0    BK99   \n6900        194.0       3.0   Brooklyn        47.0    BK99   \n3629        179.0       1.0  Manhattan        61.0    MN23   \n\n                                         NTAName     Shape_Leng    Shape_Area  \\\n0                                        Clinton   34570.938945  1.837385e+07   \n1         SoHo-TriBeCa-Civic Center-Little Italy   26855.031513  2.503268e+07   \n2                                      Chinatown   20786.254613  1.450188e+07   \n3                                    Fort Greene   19825.520859  1.648282e+07   \n4     Hudson Yards-Chelsea-Flatiron-Union Square   45412.960917  3.705437e+07   \n...                                          ...            ...           ...   \n6897                                West Village   27119.922778  2.488638e+07   \n6898                                West Village   27119.922778  2.488638e+07   \n6899                  park-cemetery-etc-Brooklyn  385416.939727  2.253711e+08   \n6900                  park-cemetery-etc-Brooklyn  385416.939727  2.253711e+08   \n3629                                West Village   27119.922778  2.488638e+07   \n\n      area_sq_mi                      center  center_lat  center_lng  \n0       0.659070  POINT (-73.99240 40.76417)   40.764165  -73.992399  \n1       0.897922  POINT (-74.00475 40.72077)   40.720766  -74.004748  \n2       0.520182  POINT (-73.99463 40.71561)   40.715607  -73.994630  \n3       0.591239  POINT (-73.97488 40.69080)   40.690795  -73.974881  \n4       1.329140  POINT (-73.99902 40.74758)   40.747581  -73.999019  \n...          ...                         ...         ...         ...  \n6897    0.892674  POINT (-74.00152 40.73302)   40.733017  -74.001516  \n6898    0.892674  POINT (-74.00152 40.73302)   40.733017  -74.001516  \n6899    8.084063  POINT (-73.91959 40.62310)   40.623104  -73.919592  \n6900    8.084063  POINT (-73.91959 40.62310)   40.623104  -73.919592  \n3629    0.892674  POINT (-74.00152 40.73302)   40.733017  -74.001516  \n\n[6902 rows x 16 columns]",
      "text/html": "<div>\n<style scoped>\n    .dataframe tbody tr th:only-of-type {\n        vertical-align: middle;\n    }\n\n    .dataframe tbody tr th {\n        vertical-align: top;\n    }\n\n    .dataframe thead th {\n        text-align: right;\n    }\n</style>\n<table border=\"1\" class=\"dataframe\">\n  <thead>\n    <tr style=\"text-align: right;\">\n      <th></th>\n      <th>station_id</th>\n      <th>lat</th>\n      <th>lng</th>\n      <th>geometry</th>\n      <th>index_right</th>\n      <th>BoroCode</th>\n      <th>BoroName</th>\n      <th>CountyFIPS</th>\n      <th>NTACode</th>\n      <th>NTAName</th>\n      <th>Shape_Leng</th>\n      <th>Shape_Area</th>\n      <th>area_sq_mi</th>\n      <th>center</th>\n      <th>center_lat</th>\n      <th>center_lng</th>\n    </tr>\n  </thead>\n  <tbody>\n    <tr>\n      <th>0</th>\n      <td>72</td>\n      <td>40.767272</td>\n      <td>-73.993929</td>\n      <td>POINT (-73.99393 40.76727)</td>\n      <td>139.0</td>\n      <td>1.0</td>\n      <td>Manhattan</td>\n      <td>61.0</td>\n      <td>MN15</td>\n      <td>Clinton</td>\n      <td>34570.938945</td>\n      <td>1.837385e+07</td>\n      <td>0.659070</td>\n      <td>POINT (-73.99240 40.76417)</td>\n      <td>40.764165</td>\n      <td>-73.992399</td>\n    </tr>\n    <tr>\n      <th>1</th>\n      <td>79</td>\n      <td>40.719116</td>\n      <td>-74.006667</td>\n      <td>POINT (-74.00667 40.71912)</td>\n      <td>144.0</td>\n      <td>1.0</td>\n      <td>Manhattan</td>\n      <td>61.0</td>\n      <td>MN24</td>\n      <td>SoHo-TriBeCa-Civic Center-Little Italy</td>\n      <td>26855.031513</td>\n      <td>2.503268e+07</td>\n      <td>0.897922</td>\n      <td>POINT (-74.00475 40.72077)</td>\n      <td>40.720766</td>\n      <td>-74.004748</td>\n    </tr>\n    <tr>\n      <th>2</th>\n      <td>82</td>\n      <td>40.711174</td>\n      <td>-74.000165</td>\n      <td>POINT (-74.00017 40.71117)</td>\n      <td>85.0</td>\n      <td>1.0</td>\n      <td>Manhattan</td>\n      <td>61.0</td>\n      <td>MN27</td>\n      <td>Chinatown</td>\n      <td>20786.254613</td>\n      <td>1.450188e+07</td>\n      <td>0.520182</td>\n      <td>POINT (-73.99463 40.71561)</td>\n      <td>40.715607</td>\n      <td>-73.994630</td>\n    </tr>\n    <tr>\n      <th>3</th>\n      <td>83</td>\n      <td>40.683826</td>\n      <td>-73.976323</td>\n      <td>POINT (-73.97632 40.68383)</td>\n      <td>6.0</td>\n      <td>3.0</td>\n      <td>Brooklyn</td>\n      <td>47.0</td>\n      <td>BK68</td>\n      <td>Fort Greene</td>\n      <td>19825.520859</td>\n      <td>1.648282e+07</td>\n      <td>0.591239</td>\n      <td>POINT (-73.97488 40.69080)</td>\n      <td>40.690795</td>\n      <td>-73.974881</td>\n    </tr>\n    <tr>\n      <th>4</th>\n      <td>116</td>\n      <td>40.741776</td>\n      <td>-74.001497</td>\n      <td>POINT (-74.00150 40.74178)</td>\n      <td>138.0</td>\n      <td>1.0</td>\n      <td>Manhattan</td>\n      <td>61.0</td>\n      <td>MN13</td>\n      <td>Hudson Yards-Chelsea-Flatiron-Union Square</td>\n      <td>45412.960917</td>\n      <td>3.705437e+07</td>\n      <td>1.329140</td>\n      <td>POINT (-73.99902 40.74758)</td>\n      <td>40.747581</td>\n      <td>-73.999019</td>\n    </tr>\n    <tr>\n      <th>...</th>\n      <td>...</td>\n      <td>...</td>\n      <td>...</td>\n      <td>...</td>\n      <td>...</td>\n      <td>...</td>\n      <td>...</td>\n      <td>...</td>\n      <td>...</td>\n      <td>...</td>\n      <td>...</td>\n      <td>...</td>\n      <td>...</td>\n      <td>...</td>\n      <td>...</td>\n      <td>...</td>\n    </tr>\n    <tr>\n      <th>6897</th>\n      <td>SYS033</td>\n      <td>40.728487</td>\n      <td>-74.011693</td>\n      <td>POINT (-74.01169 40.72849)</td>\n      <td>179.0</td>\n      <td>1.0</td>\n      <td>Manhattan</td>\n      <td>61.0</td>\n      <td>MN23</td>\n      <td>West Village</td>\n      <td>27119.922778</td>\n      <td>2.488638e+07</td>\n      <td>0.892674</td>\n      <td>POINT (-74.00152 40.73302)</td>\n      <td>40.733017</td>\n      <td>-74.001516</td>\n    </tr>\n    <tr>\n      <th>6898</th>\n      <td>SYS035</td>\n      <td>40.728660</td>\n      <td>-74.011980</td>\n      <td>POINT (-74.01198 40.72866)</td>\n      <td>179.0</td>\n      <td>1.0</td>\n      <td>Manhattan</td>\n      <td>61.0</td>\n      <td>MN23</td>\n      <td>West Village</td>\n      <td>27119.922778</td>\n      <td>2.488638e+07</td>\n      <td>0.892674</td>\n      <td>POINT (-74.00152 40.73302)</td>\n      <td>40.733017</td>\n      <td>-74.001516</td>\n    </tr>\n    <tr>\n      <th>6899</th>\n      <td>SYS052</td>\n      <td>40.604017</td>\n      <td>-74.019709</td>\n      <td>POINT (-74.01971 40.60402)</td>\n      <td>194.0</td>\n      <td>3.0</td>\n      <td>Brooklyn</td>\n      <td>47.0</td>\n      <td>BK99</td>\n      <td>park-cemetery-etc-Brooklyn</td>\n      <td>385416.939727</td>\n      <td>2.253711e+08</td>\n      <td>8.084063</td>\n      <td>POINT (-73.91959 40.62310)</td>\n      <td>40.623104</td>\n      <td>-73.919592</td>\n    </tr>\n    <tr>\n      <th>6900</th>\n      <td>SYS052</td>\n      <td>40.604017</td>\n      <td>-74.019709</td>\n      <td>POINT (-74.01971 40.60402)</td>\n      <td>194.0</td>\n      <td>3.0</td>\n      <td>Brooklyn</td>\n      <td>47.0</td>\n      <td>BK99</td>\n      <td>park-cemetery-etc-Brooklyn</td>\n      <td>385416.939727</td>\n      <td>2.253711e+08</td>\n      <td>8.084063</td>\n      <td>POINT (-73.91959 40.62310)</td>\n      <td>40.623104</td>\n      <td>-73.919592</td>\n    </tr>\n    <tr>\n      <th>3629</th>\n      <td>Lab - NYC</td>\n      <td>40.730000</td>\n      <td>-74.010000</td>\n      <td>POINT (-74.01000 40.73000)</td>\n      <td>179.0</td>\n      <td>1.0</td>\n      <td>Manhattan</td>\n      <td>61.0</td>\n      <td>MN23</td>\n      <td>West Village</td>\n      <td>27119.922778</td>\n      <td>2.488638e+07</td>\n      <td>0.892674</td>\n      <td>POINT (-74.00152 40.73302)</td>\n      <td>40.733017</td>\n      <td>-74.001516</td>\n    </tr>\n  </tbody>\n</table>\n<p>6902 rows × 16 columns</p>\n</div>"
     },
     "execution_count": 68,
     "metadata": {},
     "output_type": "execute_result"
    }
   ],
   "source": [
    "from shapely.geometry import Point\n",
    "unique_stations.crs = \"EPSG:4326\"  # WGS 84, commonly used for lat/long coordinates\n",
    "geometry = [Point(lon, lat) for lon, lat in zip(unique_stations['lng'], unique_stations['lat'])]\n",
    "unique_stations_gdf = gpd.GeoDataFrame(unique_stations, geometry=geometry, crs='EPSG:4326')\n",
    "unique_stations_gdf = gpd.sjoin(unique_stations_gdf, nta_geodf, how='left', op='within')\n",
    "unique_stations_gdf"
   ],
   "metadata": {
    "collapsed": false,
    "ExecuteTime": {
     "end_time": "2023-12-12T18:10:30.778736Z",
     "start_time": "2023-12-12T18:10:30.696575Z"
    }
   },
   "id": "b96a0375b915166a"
  },
  {
   "cell_type": "code",
   "execution_count": 69,
   "outputs": [
    {
     "name": "stderr",
     "output_type": "stream",
     "text": [
      "/Users/alexfriedman/Downloads/lrFinalProject/venv/lib/python3.10/site-packages/IPython/core/interactiveshell.py:3488: FutureWarning: The `op` parameter is deprecated and will be removed in a future release. Please use the `predicate` parameter instead.\n",
      "  if await self.run_code(code, result, async_=asy):\n"
     ]
    }
   ],
   "source": [
    "building_df.crs = \"EPSG:4326\"\n",
    "geometry = [Point(lon, lat) for lon, lat in zip(building_df['longitude'], building_df['latitude'])]\n",
    "buildings_gdf = gpd.GeoDataFrame(building_df, geometry = geometry, crs='EPSG:4326')\n",
    "\n",
    "buildings_gdf_nta = gpd.sjoin(buildings_gdf, nta_geodf, how='left', op='within')\n"
   ],
   "metadata": {
    "collapsed": false,
    "ExecuteTime": {
     "end_time": "2023-12-12T18:10:31.077609Z",
     "start_time": "2023-12-12T18:10:30.775971Z"
    }
   },
   "id": "6cd4f9a79d30651b"
  },
  {
   "cell_type": "code",
   "execution_count": 70,
   "outputs": [
    {
     "name": "stdout",
     "output_type": "stream",
     "text": [
      "electricity_use_grid_purchase\n",
      "natural_gas_use_therms\n",
      "electricity_use_grid_purchase_1\n",
      "natural_gas_use_kbtu\n"
     ]
    }
   ],
   "source": [
    "import numpy as np\n",
    "\n",
    "cat_cols = [\n",
    "    'primary_property_type',\n",
    "    '_2nd_largest_property_use',\n",
    "    '_3rd_largest_property_use',\n",
    "    'metered_areas_energy',\n",
    "    'metered_areas_water',\n",
    "    #'national_median_reference',\n",
    "    'borough',\n",
    "    #'nta',\n",
    "    'estimated_data_flag',\n",
    "    'estimated_data_flag_natural',\n",
    "    'estimated_data_flag_fuel',\n",
    "    'estimated_data_flag_fuel_1',\n",
    "    'estimated_data_flag_fuel_2',\n",
    "    'estimated_data_flag_fuel_3',\n",
    "    'estimated_data_flag_district',\n",
    "    #'estimated_data_flag_1',\n",
    "    'estimated_values_energy',\n",
    "    'estimated_values_water',\n",
    "    'alert_data_center_issue_with',\n",
    "    'alert_energy_meter_has_less',\n",
    "    'alert_energy_meter_has_gaps',\n",
    "    'alert_energy_meter_has',\n",
    "    'alert_energy_no_meters',\n",
    "    'alert_energy_meter_has_single',\n",
    "    'alert_water_meter_has_less',\n",
    "    'alert_property_has_no_uses'\n",
    "]\n",
    "\n",
    "num_cols = [\n",
    "    'largest_property_use_type_1',\n",
    "    'year_built',\n",
    "    'number_of_buildings',\n",
    "    'occupancy',\n",
    "    #'_3rd_largest_property_use_1',\n",
    "    'property_gfa_calculated_1',\n",
    "\n",
    "    \"energy_star_score\",\n",
    "\n",
    "    'site_eui_kbtu_ft',\n",
    "    'weather_normalized_site_eui',\n",
    "    #'national_median_site_eui',\n",
    "    'site_energy_use_kbtu',\n",
    "    'weather_normalized_site_energy',\n",
    "    'weather_normalized_site',\n",
    "    #'weather_normalized_site_1',\n",
    "    'source_eui_kbtu_ft',\n",
    "    'weather_normalized_source',\n",
    "    'national_median_source_eui',\n",
    "    'source_energy_use_kbtu',\n",
    "    #'weather_normalized_source_1',\n",
    "    'fuel_oil_1_use_kbtu',\n",
    "    #'fuel_oil_2_use_kbtu',\n",
    "    #'fuel_oil_4_use_kbtu',\n",
    "    #'fuel_oil_5_6_use_kbtu',\n",
    "    #'diesel_2_use_kbtu',\n",
    "    'propane_use_kbtu',\n",
    "    'district_steam_use_kbtu',\n",
    "    'district_hot_water_use_kbtu',\n",
    "    'district_chilled_water_use',\n",
    "    'natural_gas_use_kbtu',\n",
    "    'natural_gas_use_therms',\n",
    "    #'weather_normalized_site_2',\n",
    "    'electricity_use_grid_purchase',\n",
    "    'electricity_use_grid_purchase_1',\n",
    "    #'weather_normalized_site_3',\n",
    "    #'electricity_use_grid_purchase_2',\n",
    "    #'electricity_use_grid_purchase_3',\n",
    "    'electricity_use_generated',\n",
    "    'electricity_use_generated_1',\n",
    "    #'electricity_use_generated_2',\n",
    "    #'electricity_use_generated_3',\n",
    "    'green_power_onsite_kwh',\n",
    "    'green_power_offsite_kwh',\n",
    "    'green_power_onsite_and_offsite',\n",
    "    #'total_ghg_emissions_metric',\n",
    "    #'direct_ghg_emissions_metric',\n",
    "    'total_ghg_emissions_intensity',\n",
    "    #'direct_ghg_emissions_intensity',\n",
    "    #'indirect_ghg_emissions_metric',\n",
    "    #'net_emissions_metric_tons',\n",
    "    #'indirect_ghg_emissions',\n",
    "    #'national_median_total_ghg',\n",
    "    'egrid_output_emissions_rate',\n",
    "    'avoided_emissions_onsite',\n",
    "    'avoided_emissions_offsite',\n",
    "    #'avoided_emissions_onsite_1',\n",
    "    'percent_of_electricity_that',\n",
    "    'percent_of_recs_retained',\n",
    "    'percent_of_total_electricity',\n",
    "    'water_use_all_water_sources',\n",
    "    'municipally_supplied_potable',\n",
    "    #'municipally_supplied_potable_1',\n",
    "    #'municipally_supplied_potable_2',\n",
    "    #'municipally_supplied_potable_3'\n",
    "    'multifamily_housing_gross'\n",
    "]\n",
    "\n",
    "other_cols = [\n",
    "    'reason_s_for_no_score',\n",
    "    'energy_star_certification',\n",
    "    'energy_star_certification_1',\n",
    "    'annual_maximum_demand_kw',\n",
    "    'annual_maximum_demand_mm',\n",
    "    'annual_maximum_demand_meter',\n",
    "]\n",
    "\n",
    "date_cols = [\n",
    "    'last_modified_date_property',\n",
    "    'last_modified_date_electric',\n",
    "    'last_modified_date_gas_meters',\n",
    "    'last_modified_date_non',\n",
    "    'last_modified_date_water',\n",
    "    'last_modified_date_property_1'\n",
    "]\n",
    "\n",
    "cat_cols = list(set(cat_cols).intersection(buildings_gdf_nta.columns))\n",
    "num_cols = list(set(num_cols).intersection(buildings_gdf_nta.columns))\n",
    "other_cols = list(set(other_cols).intersection(buildings_gdf_nta.columns))\n",
    "date_cols = list(set(date_cols).intersection(buildings_gdf_nta.columns))\n",
    "for _col in num_cols:\n",
    "    try:\n",
    "        buildings_gdf_nta[_col] = buildings_gdf_nta[_col].astype(np.float64)\n",
    "    except:\n",
    "        print(_col)\n",
    "        \n"
   ],
   "metadata": {
    "collapsed": false,
    "ExecuteTime": {
     "end_time": "2023-12-12T18:10:31.145149Z",
     "start_time": "2023-12-12T18:10:31.103408Z"
    }
   },
   "id": "9979328f3f92b5d0"
  },
  {
   "cell_type": "code",
   "execution_count": 71,
   "outputs": [
    {
     "data": {
      "text/plain": "Index(['property_id', 'latitude', 'longitude', 'borough',\n       'primary_property_type', 'largest_property_use_type',\n       'largest_property_use_type_1', 'year_built', 'construction_status',\n       'number_of_buildings', 'occupancy', 'metered_areas_energy',\n       'metered_areas_water', 'national_median_reference',\n       'property_gfa_calculated_1', 'last_modified_date_property',\n       'last_modified_date_electric', 'last_modified_date_gas_meters',\n       'last_modified_date_non', 'last_modified_date_water',\n       'last_modified_date_property_1', 'multifamily_housing_gross',\n       'energy_star_score', 'energy_star_certification_1', 'site_eui_kbtu_ft',\n       'weather_normalized_site_eui', 'national_median_site_eui',\n       'site_energy_use_kbtu', 'weather_normalized_site_energy',\n       'weather_normalized_site', 'weather_normalized_site_1',\n       'source_eui_kbtu_ft', 'weather_normalized_source',\n       'national_median_source_eui', 'source_energy_use_kbtu',\n       'weather_normalized_source_1', 'fuel_oil_1_use_kbtu',\n       'fuel_oil_2_use_kbtu', 'fuel_oil_4_use_kbtu', 'fuel_oil_5_6_use_kbtu',\n       'diesel_2_use_kbtu', 'propane_use_kbtu', 'natural_gas_use_kbtu',\n       'natural_gas_use_therms', 'weather_normalized_site_2',\n       'electricity_use_grid_purchase', 'electricity_use_grid_purchase_1',\n       'weather_normalized_site_3', 'electricity_use_grid_purchase_2',\n       'electricity_use_grid_purchase_3', 'electricity_use_generated',\n       'electricity_use_generated_1', 'electricity_use_generated_2',\n       'electricity_use_generated_3', 'green_power_onsite_kwh',\n       'green_power_offsite_kwh', 'green_power_onsite_and_offsite',\n       'total_ghg_emissions_metric', 'direct_ghg_emissions_metric',\n       'total_ghg_emissions_intensity', 'direct_ghg_emissions_intensity',\n       'indirect_ghg_emissions_metric', 'net_emissions_metric_tons',\n       'indirect_ghg_emissions', 'national_median_total_ghg',\n       'egrid_output_emissions_rate', 'avoided_emissions_onsite',\n       'avoided_emissions_offsite', 'avoided_emissions_onsite_1',\n       'percent_of_recs_retained', 'percent_of_total_electricity',\n       'water_use_all_water_sources', 'geometry', 'index_right', 'BoroCode',\n       'BoroName', 'CountyFIPS', 'NTACode', 'NTAName', 'Shape_Leng',\n       'Shape_Area', 'area_sq_mi', 'center', 'center_lat', 'center_lng'],\n      dtype='object')"
     },
     "execution_count": 71,
     "metadata": {},
     "output_type": "execute_result"
    }
   ],
   "source": [
    "buildings_gdf_nta.columns"
   ],
   "metadata": {
    "collapsed": false,
    "ExecuteTime": {
     "end_time": "2023-12-12T18:10:31.148458Z",
     "start_time": "2023-12-12T18:10:31.143266Z"
    }
   },
   "id": "2c8826544948ca75"
  },
  {
   "cell_type": "code",
   "execution_count": 72,
   "outputs": [],
   "source": [
    "buildings_gdf_nta['largest_property_use_type_residential'] = buildings_gdf_nta['largest_property_use_type'].apply(lambda x: 1 if x == 'Multifamily Housing' else 0)\n",
    "buildings_gdf_nta['occupancy_residential'] = buildings_gdf_nta['occupancy'] * buildings_gdf_nta['largest_property_use_type_residential']\n",
    "buildings_gdf_nta['occupancy_non_residential'] = buildings_gdf_nta['occupancy'] * (1 - buildings_gdf_nta['largest_property_use_type_residential'])\n",
    "buildings_gdf_nta['year_built_residential'] = buildings_gdf_nta['year_built'] * buildings_gdf_nta['largest_property_use_type_residential']\n",
    "buildings_gdf_nta['year_built_non_residential'] = buildings_gdf_nta['year_built'] * (1 - buildings_gdf_nta['largest_property_use_type_residential'])\n"
   ],
   "metadata": {
    "collapsed": false,
    "ExecuteTime": {
     "end_time": "2023-12-12T18:10:31.157588Z",
     "start_time": "2023-12-12T18:10:31.153657Z"
    }
   },
   "id": "f2bec6b78fd755fe"
  },
  {
   "cell_type": "code",
   "execution_count": 73,
   "outputs": [
    {
     "data": {
      "text/plain": "      property_id   latitude   longitude    borough primary_property_type  \\\n0        21205224  40.769272  -73.913633     QUEENS   Multifamily Housing   \n1         2665352  40.790503   -73.96792  MANHATTAN   Multifamily Housing   \n2         2665400  40.792758  -73.965171  MANHATTAN   Multifamily Housing   \n7         2665443  40.837333   -73.94006  MANHATTAN   Multifamily Housing   \n8         2665447  40.837275   -73.94423  MANHATTAN   Multifamily Housing   \n...           ...        ...         ...        ...                   ...   \n28994     6575086  40.656592  -73.958524   BROOKLYN   Multifamily Housing   \n28995     6575119  40.632396  -73.945691   BROOKLYN   Multifamily Housing   \n28996     6575799   40.66785  -73.958034   BROOKLYN   Multifamily Housing   \n28998    12060686  40.659816  -73.866717   BROOKLYN   Distribution Center   \n28999     2813826  40.667727  -73.929625   BROOKLYN   Multifamily Housing   \n\n      largest_property_use_type  largest_property_use_type_1  year_built  \\\n0           Multifamily Housing                      25000.0      2010.0   \n1           Multifamily Housing                     260780.0      1970.0   \n2           Multifamily Housing                     324378.0      1943.0   \n7           Multifamily Housing                      52428.0      1958.0   \n8           Multifamily Housing                      70384.0      1973.0   \n...                         ...                          ...         ...   \n28994       Multifamily Housing                      38199.0      1931.0   \n28995       Multifamily Housing                      38736.0      1927.0   \n28996       Multifamily Housing                      35824.0      1924.0   \n28998       Distribution Center                     280000.0      2014.0   \n28999       Multifamily Housing                      66010.0      1930.0   \n\n      construction_status  number_of_buildings  ...    Shape_Area area_sq_mi  \\\n0                Existing                  1.0  ...  3.933504e+07   1.410948   \n1                Existing                  1.0  ...  3.437994e+07   1.233209   \n2                Existing                  1.0  ...  3.437994e+07   1.233209   \n7                Existing                  1.0  ...  2.312709e+07   0.829569   \n8                Existing                  1.0  ...  2.312709e+07   0.829569   \n...                   ...                  ...  ...           ...        ...   \n28994            Existing                  1.0  ...  3.163843e+07   1.134871   \n28995            Existing                  1.0  ...  4.524620e+07   1.622981   \n28996            Existing                  1.0  ...  1.597907e+07   0.573169   \n28998            Existing                  1.0  ...  1.170302e+08   4.197873   \n28999            Existing                  1.0  ...  5.162717e+07   1.851867   \n\n                           center center_lat  center_lng  \\\n0      POINT (-73.91970 40.76149)  40.761494  -73.919697   \n1      POINT (-73.97391 40.79038)  40.790380  -73.973908   \n2      POINT (-73.97391 40.79038)  40.790380  -73.973908   \n7      POINT (-73.94141 40.84170)  40.841696  -73.941410   \n8      POINT (-73.94141 40.84170)  40.841696  -73.941410   \n...                           ...        ...         ...   \n28994  POINT (-73.94744 40.65874)  40.658744  -73.947441   \n28995  POINT (-73.96097 40.63790)  40.637900  -73.960970   \n28996  POINT (-73.94878 40.66654)  40.666536  -73.948776   \n28998  POINT (-73.87684 40.66095)  40.660946  -73.876839   \n28999  POINT (-73.93929 40.67447)  40.674469  -73.939291   \n\n      largest_property_use_type_residential occupancy_residential  \\\n0                                         1                 100.0   \n1                                         1                 100.0   \n2                                         1                 100.0   \n7                                         1                 100.0   \n8                                         1                 100.0   \n...                                     ...                   ...   \n28994                                     1                 100.0   \n28995                                     1                 100.0   \n28996                                     1                 100.0   \n28998                                     0                   0.0   \n28999                                     1                 100.0   \n\n      occupancy_non_residential year_built_residential  \\\n0                           0.0                 2010.0   \n1                           0.0                 1970.0   \n2                           0.0                 1943.0   \n7                           0.0                 1958.0   \n8                           0.0                 1973.0   \n...                         ...                    ...   \n28994                       0.0                 1931.0   \n28995                       0.0                 1927.0   \n28996                       0.0                 1924.0   \n28998                     100.0                    0.0   \n28999                       0.0                 1930.0   \n\n      year_built_non_residential  \n0                            0.0  \n1                            0.0  \n2                            0.0  \n7                            0.0  \n8                            0.0  \n...                          ...  \n28994                        0.0  \n28995                        0.0  \n28996                        0.0  \n28998                     2014.0  \n28999                        0.0  \n\n[12652 rows x 90 columns]",
      "text/html": "<div>\n<style scoped>\n    .dataframe tbody tr th:only-of-type {\n        vertical-align: middle;\n    }\n\n    .dataframe tbody tr th {\n        vertical-align: top;\n    }\n\n    .dataframe thead th {\n        text-align: right;\n    }\n</style>\n<table border=\"1\" class=\"dataframe\">\n  <thead>\n    <tr style=\"text-align: right;\">\n      <th></th>\n      <th>property_id</th>\n      <th>latitude</th>\n      <th>longitude</th>\n      <th>borough</th>\n      <th>primary_property_type</th>\n      <th>largest_property_use_type</th>\n      <th>largest_property_use_type_1</th>\n      <th>year_built</th>\n      <th>construction_status</th>\n      <th>number_of_buildings</th>\n      <th>...</th>\n      <th>Shape_Area</th>\n      <th>area_sq_mi</th>\n      <th>center</th>\n      <th>center_lat</th>\n      <th>center_lng</th>\n      <th>largest_property_use_type_residential</th>\n      <th>occupancy_residential</th>\n      <th>occupancy_non_residential</th>\n      <th>year_built_residential</th>\n      <th>year_built_non_residential</th>\n    </tr>\n  </thead>\n  <tbody>\n    <tr>\n      <th>0</th>\n      <td>21205224</td>\n      <td>40.769272</td>\n      <td>-73.913633</td>\n      <td>QUEENS</td>\n      <td>Multifamily Housing</td>\n      <td>Multifamily Housing</td>\n      <td>25000.0</td>\n      <td>2010.0</td>\n      <td>Existing</td>\n      <td>1.0</td>\n      <td>...</td>\n      <td>3.933504e+07</td>\n      <td>1.410948</td>\n      <td>POINT (-73.91970 40.76149)</td>\n      <td>40.761494</td>\n      <td>-73.919697</td>\n      <td>1</td>\n      <td>100.0</td>\n      <td>0.0</td>\n      <td>2010.0</td>\n      <td>0.0</td>\n    </tr>\n    <tr>\n      <th>1</th>\n      <td>2665352</td>\n      <td>40.790503</td>\n      <td>-73.96792</td>\n      <td>MANHATTAN</td>\n      <td>Multifamily Housing</td>\n      <td>Multifamily Housing</td>\n      <td>260780.0</td>\n      <td>1970.0</td>\n      <td>Existing</td>\n      <td>1.0</td>\n      <td>...</td>\n      <td>3.437994e+07</td>\n      <td>1.233209</td>\n      <td>POINT (-73.97391 40.79038)</td>\n      <td>40.790380</td>\n      <td>-73.973908</td>\n      <td>1</td>\n      <td>100.0</td>\n      <td>0.0</td>\n      <td>1970.0</td>\n      <td>0.0</td>\n    </tr>\n    <tr>\n      <th>2</th>\n      <td>2665400</td>\n      <td>40.792758</td>\n      <td>-73.965171</td>\n      <td>MANHATTAN</td>\n      <td>Multifamily Housing</td>\n      <td>Multifamily Housing</td>\n      <td>324378.0</td>\n      <td>1943.0</td>\n      <td>Existing</td>\n      <td>1.0</td>\n      <td>...</td>\n      <td>3.437994e+07</td>\n      <td>1.233209</td>\n      <td>POINT (-73.97391 40.79038)</td>\n      <td>40.790380</td>\n      <td>-73.973908</td>\n      <td>1</td>\n      <td>100.0</td>\n      <td>0.0</td>\n      <td>1943.0</td>\n      <td>0.0</td>\n    </tr>\n    <tr>\n      <th>7</th>\n      <td>2665443</td>\n      <td>40.837333</td>\n      <td>-73.94006</td>\n      <td>MANHATTAN</td>\n      <td>Multifamily Housing</td>\n      <td>Multifamily Housing</td>\n      <td>52428.0</td>\n      <td>1958.0</td>\n      <td>Existing</td>\n      <td>1.0</td>\n      <td>...</td>\n      <td>2.312709e+07</td>\n      <td>0.829569</td>\n      <td>POINT (-73.94141 40.84170)</td>\n      <td>40.841696</td>\n      <td>-73.941410</td>\n      <td>1</td>\n      <td>100.0</td>\n      <td>0.0</td>\n      <td>1958.0</td>\n      <td>0.0</td>\n    </tr>\n    <tr>\n      <th>8</th>\n      <td>2665447</td>\n      <td>40.837275</td>\n      <td>-73.94423</td>\n      <td>MANHATTAN</td>\n      <td>Multifamily Housing</td>\n      <td>Multifamily Housing</td>\n      <td>70384.0</td>\n      <td>1973.0</td>\n      <td>Existing</td>\n      <td>1.0</td>\n      <td>...</td>\n      <td>2.312709e+07</td>\n      <td>0.829569</td>\n      <td>POINT (-73.94141 40.84170)</td>\n      <td>40.841696</td>\n      <td>-73.941410</td>\n      <td>1</td>\n      <td>100.0</td>\n      <td>0.0</td>\n      <td>1973.0</td>\n      <td>0.0</td>\n    </tr>\n    <tr>\n      <th>...</th>\n      <td>...</td>\n      <td>...</td>\n      <td>...</td>\n      <td>...</td>\n      <td>...</td>\n      <td>...</td>\n      <td>...</td>\n      <td>...</td>\n      <td>...</td>\n      <td>...</td>\n      <td>...</td>\n      <td>...</td>\n      <td>...</td>\n      <td>...</td>\n      <td>...</td>\n      <td>...</td>\n      <td>...</td>\n      <td>...</td>\n      <td>...</td>\n      <td>...</td>\n      <td>...</td>\n    </tr>\n    <tr>\n      <th>28994</th>\n      <td>6575086</td>\n      <td>40.656592</td>\n      <td>-73.958524</td>\n      <td>BROOKLYN</td>\n      <td>Multifamily Housing</td>\n      <td>Multifamily Housing</td>\n      <td>38199.0</td>\n      <td>1931.0</td>\n      <td>Existing</td>\n      <td>1.0</td>\n      <td>...</td>\n      <td>3.163843e+07</td>\n      <td>1.134871</td>\n      <td>POINT (-73.94744 40.65874)</td>\n      <td>40.658744</td>\n      <td>-73.947441</td>\n      <td>1</td>\n      <td>100.0</td>\n      <td>0.0</td>\n      <td>1931.0</td>\n      <td>0.0</td>\n    </tr>\n    <tr>\n      <th>28995</th>\n      <td>6575119</td>\n      <td>40.632396</td>\n      <td>-73.945691</td>\n      <td>BROOKLYN</td>\n      <td>Multifamily Housing</td>\n      <td>Multifamily Housing</td>\n      <td>38736.0</td>\n      <td>1927.0</td>\n      <td>Existing</td>\n      <td>1.0</td>\n      <td>...</td>\n      <td>4.524620e+07</td>\n      <td>1.622981</td>\n      <td>POINT (-73.96097 40.63790)</td>\n      <td>40.637900</td>\n      <td>-73.960970</td>\n      <td>1</td>\n      <td>100.0</td>\n      <td>0.0</td>\n      <td>1927.0</td>\n      <td>0.0</td>\n    </tr>\n    <tr>\n      <th>28996</th>\n      <td>6575799</td>\n      <td>40.66785</td>\n      <td>-73.958034</td>\n      <td>BROOKLYN</td>\n      <td>Multifamily Housing</td>\n      <td>Multifamily Housing</td>\n      <td>35824.0</td>\n      <td>1924.0</td>\n      <td>Existing</td>\n      <td>1.0</td>\n      <td>...</td>\n      <td>1.597907e+07</td>\n      <td>0.573169</td>\n      <td>POINT (-73.94878 40.66654)</td>\n      <td>40.666536</td>\n      <td>-73.948776</td>\n      <td>1</td>\n      <td>100.0</td>\n      <td>0.0</td>\n      <td>1924.0</td>\n      <td>0.0</td>\n    </tr>\n    <tr>\n      <th>28998</th>\n      <td>12060686</td>\n      <td>40.659816</td>\n      <td>-73.866717</td>\n      <td>BROOKLYN</td>\n      <td>Distribution Center</td>\n      <td>Distribution Center</td>\n      <td>280000.0</td>\n      <td>2014.0</td>\n      <td>Existing</td>\n      <td>1.0</td>\n      <td>...</td>\n      <td>1.170302e+08</td>\n      <td>4.197873</td>\n      <td>POINT (-73.87684 40.66095)</td>\n      <td>40.660946</td>\n      <td>-73.876839</td>\n      <td>0</td>\n      <td>0.0</td>\n      <td>100.0</td>\n      <td>0.0</td>\n      <td>2014.0</td>\n    </tr>\n    <tr>\n      <th>28999</th>\n      <td>2813826</td>\n      <td>40.667727</td>\n      <td>-73.929625</td>\n      <td>BROOKLYN</td>\n      <td>Multifamily Housing</td>\n      <td>Multifamily Housing</td>\n      <td>66010.0</td>\n      <td>1930.0</td>\n      <td>Existing</td>\n      <td>1.0</td>\n      <td>...</td>\n      <td>5.162717e+07</td>\n      <td>1.851867</td>\n      <td>POINT (-73.93929 40.67447)</td>\n      <td>40.674469</td>\n      <td>-73.939291</td>\n      <td>1</td>\n      <td>100.0</td>\n      <td>0.0</td>\n      <td>1930.0</td>\n      <td>0.0</td>\n    </tr>\n  </tbody>\n</table>\n<p>12652 rows × 90 columns</p>\n</div>"
     },
     "execution_count": 73,
     "metadata": {},
     "output_type": "execute_result"
    }
   ],
   "source": [
    "buildings_gdf_nta"
   ],
   "metadata": {
    "collapsed": false,
    "ExecuteTime": {
     "end_time": "2023-12-12T18:10:31.215922Z",
     "start_time": "2023-12-12T18:10:31.157529Z"
    }
   },
   "id": "abc6b03221e92a7d"
  },
  {
   "cell_type": "code",
   "execution_count": 74,
   "outputs": [],
   "source": [
    "mean_non_zero = lambda x: x[x != 0].mean()\n",
    "\n",
    "buildings_gdf_final = buildings_gdf_nta.groupby('NTACode').agg({\n",
    "    'primary_property_type': 'size',\n",
    "    'multifamily_housing_gross': 'sum', \n",
    "    'site_eui_kbtu_ft': 'mean',\n",
    "    'largest_property_use_type_residential': lambda x: 1 if x.mean() >= 0.5 else 0,\n",
    "    'occupancy_residential': mean_non_zero,\n",
    "    'occupancy_non_residential': mean_non_zero,\n",
    "    'year_built_residential': mean_non_zero,\n",
    "    'year_built_non_residential': mean_non_zero,\n",
    "    'total_ghg_emissions_intensity': 'mean',\n",
    "})"
   ],
   "metadata": {
    "collapsed": false,
    "ExecuteTime": {
     "end_time": "2023-12-12T18:10:31.344739Z",
     "start_time": "2023-12-12T18:10:31.217572Z"
    }
   },
   "id": "dd178f97e096c141"
  },
  {
   "cell_type": "code",
   "execution_count": 75,
   "outputs": [
    {
     "data": {
      "text/plain": "         primary_property_type  multifamily_housing_gross  site_eui_kbtu_ft  \\\nNTACode                                                                       \nBK09                        91                  8641796.0         72.554945   \nBK17                        91                  8491196.0         85.092308   \nBK19                        93                  7225352.0         76.434409   \nBK21                        23                  3043205.0        119.865217   \nBK23                        12                  7340578.0         75.583333   \n...                        ...                        ...               ...   \nQN70                        96                  5494585.0         87.130208   \nQN71                        52                  3202347.0         83.228846   \nQN72                        44                  2491035.0         87.661364   \nQN76                         5                   230000.0         80.000000   \nQN99                         5                        0.0         53.660000   \n\n         largest_property_use_type_residential  occupancy_residential  \\\nNTACode                                                                 \nBK09                                         1              98.525641   \nBK17                                         1              99.358974   \nBK19                                         1              99.619565   \nBK21                                         1              98.529412   \nBK23                                         1              99.444444   \n...                                        ...                    ...   \nQN70                                         1              98.620690   \nQN71                                         1              98.900000   \nQN72                                         1              99.054054   \nQN76                                         0             100.000000   \nQN99                                         0                    NaN   \n\n         occupancy_non_residential  year_built_residential  \\\nNTACode                                                      \nBK09                     88.846154             1941.948718   \nBK17                     95.384615             1954.628205   \nBK19                    100.000000             1950.608696   \nBK21                     96.666667             1974.647059   \nBK23                     98.333333             1959.777778   \n...                            ...                     ...   \nQN70                     98.333333             1947.379310   \nQN71                    100.000000             1976.780000   \nQN72                     95.714286             1947.783784   \nQN76                     95.000000             1962.000000   \nQN99                    100.000000                     NaN   \n\n         year_built_non_residential  total_ghg_emissions_intensity  \nNTACode                                                             \nBK09                    1920.384615                       4.397802  \nBK17                    1979.307692                       5.006593  \nBK19                    1930.000000                       4.324731  \nBK21                    1981.333333                       7.691304  \nBK23                    2008.000000                       4.416667  \n...                             ...                            ...  \nQN70                    1954.222222                       5.363542  \nQN71                    1983.500000                       5.132692  \nQN72                    1960.857143                       5.395455  \nQN76                    1985.500000                       5.120000  \nQN99                    1962.400000                       3.640000  \n\n[173 rows x 9 columns]",
      "text/html": "<div>\n<style scoped>\n    .dataframe tbody tr th:only-of-type {\n        vertical-align: middle;\n    }\n\n    .dataframe tbody tr th {\n        vertical-align: top;\n    }\n\n    .dataframe thead th {\n        text-align: right;\n    }\n</style>\n<table border=\"1\" class=\"dataframe\">\n  <thead>\n    <tr style=\"text-align: right;\">\n      <th></th>\n      <th>primary_property_type</th>\n      <th>multifamily_housing_gross</th>\n      <th>site_eui_kbtu_ft</th>\n      <th>largest_property_use_type_residential</th>\n      <th>occupancy_residential</th>\n      <th>occupancy_non_residential</th>\n      <th>year_built_residential</th>\n      <th>year_built_non_residential</th>\n      <th>total_ghg_emissions_intensity</th>\n    </tr>\n    <tr>\n      <th>NTACode</th>\n      <th></th>\n      <th></th>\n      <th></th>\n      <th></th>\n      <th></th>\n      <th></th>\n      <th></th>\n      <th></th>\n      <th></th>\n    </tr>\n  </thead>\n  <tbody>\n    <tr>\n      <th>BK09</th>\n      <td>91</td>\n      <td>8641796.0</td>\n      <td>72.554945</td>\n      <td>1</td>\n      <td>98.525641</td>\n      <td>88.846154</td>\n      <td>1941.948718</td>\n      <td>1920.384615</td>\n      <td>4.397802</td>\n    </tr>\n    <tr>\n      <th>BK17</th>\n      <td>91</td>\n      <td>8491196.0</td>\n      <td>85.092308</td>\n      <td>1</td>\n      <td>99.358974</td>\n      <td>95.384615</td>\n      <td>1954.628205</td>\n      <td>1979.307692</td>\n      <td>5.006593</td>\n    </tr>\n    <tr>\n      <th>BK19</th>\n      <td>93</td>\n      <td>7225352.0</td>\n      <td>76.434409</td>\n      <td>1</td>\n      <td>99.619565</td>\n      <td>100.000000</td>\n      <td>1950.608696</td>\n      <td>1930.000000</td>\n      <td>4.324731</td>\n    </tr>\n    <tr>\n      <th>BK21</th>\n      <td>23</td>\n      <td>3043205.0</td>\n      <td>119.865217</td>\n      <td>1</td>\n      <td>98.529412</td>\n      <td>96.666667</td>\n      <td>1974.647059</td>\n      <td>1981.333333</td>\n      <td>7.691304</td>\n    </tr>\n    <tr>\n      <th>BK23</th>\n      <td>12</td>\n      <td>7340578.0</td>\n      <td>75.583333</td>\n      <td>1</td>\n      <td>99.444444</td>\n      <td>98.333333</td>\n      <td>1959.777778</td>\n      <td>2008.000000</td>\n      <td>4.416667</td>\n    </tr>\n    <tr>\n      <th>...</th>\n      <td>...</td>\n      <td>...</td>\n      <td>...</td>\n      <td>...</td>\n      <td>...</td>\n      <td>...</td>\n      <td>...</td>\n      <td>...</td>\n      <td>...</td>\n    </tr>\n    <tr>\n      <th>QN70</th>\n      <td>96</td>\n      <td>5494585.0</td>\n      <td>87.130208</td>\n      <td>1</td>\n      <td>98.620690</td>\n      <td>98.333333</td>\n      <td>1947.379310</td>\n      <td>1954.222222</td>\n      <td>5.363542</td>\n    </tr>\n    <tr>\n      <th>QN71</th>\n      <td>52</td>\n      <td>3202347.0</td>\n      <td>83.228846</td>\n      <td>1</td>\n      <td>98.900000</td>\n      <td>100.000000</td>\n      <td>1976.780000</td>\n      <td>1983.500000</td>\n      <td>5.132692</td>\n    </tr>\n    <tr>\n      <th>QN72</th>\n      <td>44</td>\n      <td>2491035.0</td>\n      <td>87.661364</td>\n      <td>1</td>\n      <td>99.054054</td>\n      <td>95.714286</td>\n      <td>1947.783784</td>\n      <td>1960.857143</td>\n      <td>5.395455</td>\n    </tr>\n    <tr>\n      <th>QN76</th>\n      <td>5</td>\n      <td>230000.0</td>\n      <td>80.000000</td>\n      <td>0</td>\n      <td>100.000000</td>\n      <td>95.000000</td>\n      <td>1962.000000</td>\n      <td>1985.500000</td>\n      <td>5.120000</td>\n    </tr>\n    <tr>\n      <th>QN99</th>\n      <td>5</td>\n      <td>0.0</td>\n      <td>53.660000</td>\n      <td>0</td>\n      <td>NaN</td>\n      <td>100.000000</td>\n      <td>NaN</td>\n      <td>1962.400000</td>\n      <td>3.640000</td>\n    </tr>\n  </tbody>\n</table>\n<p>173 rows × 9 columns</p>\n</div>"
     },
     "execution_count": 75,
     "metadata": {},
     "output_type": "execute_result"
    }
   ],
   "source": [
    "buildings_gdf_final"
   ],
   "metadata": {
    "collapsed": false,
    "ExecuteTime": {
     "end_time": "2023-12-12T18:10:31.350008Z",
     "start_time": "2023-12-12T18:10:31.342516Z"
    }
   },
   "id": "d014e2396d3c7823"
  },
  {
   "cell_type": "code",
   "execution_count": 76,
   "outputs": [
    {
     "ename": "NameError",
     "evalue": "name 'nta_energy_score_df' is not defined",
     "output_type": "error",
     "traceback": [
      "\u001B[0;31m---------------------------------------------------------------------------\u001B[0m",
      "\u001B[0;31mNameError\u001B[0m                                 Traceback (most recent call last)",
      "Cell \u001B[0;32mIn[76], line 1\u001B[0m\n\u001B[0;32m----> 1\u001B[0m nta_energy_gdf \u001B[38;5;241m=\u001B[39m nta_geodf\u001B[38;5;241m.\u001B[39mmerge(\u001B[43mnta_energy_score_df\u001B[49m, on\u001B[38;5;241m=\u001B[39m\u001B[38;5;124m'\u001B[39m\u001B[38;5;124mNTACode\u001B[39m\u001B[38;5;124m'\u001B[39m, how\u001B[38;5;241m=\u001B[39m\u001B[38;5;124m'\u001B[39m\u001B[38;5;124mleft\u001B[39m\u001B[38;5;124m'\u001B[39m)\n\u001B[1;32m      2\u001B[0m nta_energy_gdf[nta_energy_gdf[\u001B[38;5;124m'\u001B[39m\u001B[38;5;124mBoroName\u001B[39m\u001B[38;5;124m'\u001B[39m] \u001B[38;5;241m!=\u001B[39m \u001B[38;5;124m'\u001B[39m\u001B[38;5;124mStaten Island\u001B[39m\u001B[38;5;124m'\u001B[39m]\u001B[38;5;241m.\u001B[39mplot(column\u001B[38;5;241m=\u001B[39m\u001B[38;5;124m'\u001B[39m\u001B[38;5;124menergy_star_score\u001B[39m\u001B[38;5;124m'\u001B[39m, legend\u001B[38;5;241m=\u001B[39m\u001B[38;5;28;01mTrue\u001B[39;00m)\n",
      "\u001B[0;31mNameError\u001B[0m: name 'nta_energy_score_df' is not defined"
     ]
    }
   ],
   "source": [
    "nta_energy_gdf = nta_geodf.merge(nta_energy_score_df, on='NTACode', how='left')\n",
    "nta_energy_gdf[nta_energy_gdf['BoroName'] != 'Staten Island'].plot(column='energy_star_score', legend=True)"
   ],
   "metadata": {
    "collapsed": false,
    "ExecuteTime": {
     "end_time": "2023-12-12T18:10:31.866835Z",
     "start_time": "2023-12-12T18:10:31.480284Z"
    }
   },
   "id": "de50f8c6bcc8c12f"
  },
  {
   "cell_type": "code",
   "execution_count": null,
   "outputs": [],
   "source": [
    "import matplotlib.pyplot as plt\n",
    "\n",
    "# n rides start in nta\n",
    "# n rides that end in nta\n",
    "# n rides that start and end in nta\n",
    "# avg length of ride\n",
    "# most popular rideable type\n",
    "# avg distance between start and end \n",
    "\n",
    "\n",
    "nta_stations_count = unique_stations_gdf.groupby('NTACode').size().reset_index()\n",
    "plt.figure(figsize=(12, 12))\n",
    "stations_by_nta_gdf = nta_geodf.merge(nta_stations_count, on='NTACode', how='left')\n",
    "stations_by_nta_gdf.plot(column=0, legend=True)"
   ],
   "metadata": {
    "collapsed": false,
    "ExecuteTime": {
     "start_time": "2023-12-12T18:10:31.488128Z"
    }
   },
   "id": "39c1dec018b5e378"
  },
  {
   "cell_type": "markdown",
   "source": [
    "# TARGET: site_eui_kbtu_ft\n",
    "\n",
    "\n",
    "# FEATURES:\n",
    "1) citibike dataset\n",
    "    - no rides start in nta\n",
    "    - no rides end in nta\n",
    "    - avg duration of ride\n",
    "    - number of stations in nta\n",
    "    - ~~times of trips~~\n",
    "2) map data\n",
    "    - trip distance between center of each nta\n",
    "    - elevation change between center of each nta\n",
    "    - estimated time to bike above distance\n",
    "3) building data (***buildings_gdf_final***)\n",
    "   - [x] property types (top 3? top 1?) Aggregate?\n",
    "        - residential\n",
    "        - non-residential \n",
    "    - [x] occupancy\n",
    "    - [x] average yr built (NOTE: BIGGER BUILDINGS ARE GONNA BE NEWER IN GENERAL)\n",
    "        - residential\n",
    "        - non-residential      \n",
    "    - ~~green energy on/off site (maybe skip?)~~\n",
    "    - ~~ghg emissions intensity (maybe skip?)~~\n",
    "4) soc/econ/hous data (***nta_demo_df_final***)\n",
    "    - ~~population~~\n",
    "    - ~~ethnicity/race~~\n",
    "    - ~~occupation type~~\n",
    "    - ~~median income~~\n",
    "    - ~~mean income~~\n",
    "    - ~~income to poverty level~~\n",
    "    - ~~owner/renter~~\n",
    "        -  ~~median value of owner occupied units~~\n",
    "        - \n",
    "    - ~~education~~\n",
    "    - \n",
    "5) CONTROLS\n",
    "    - borough\n",
    "    - ~~number of buildings~~\n",
    "    - population density metric\n",
    "    - ~~square footage?~~"
   ],
   "metadata": {
    "collapsed": false
   },
   "id": "af9280271c910f6"
  },
  {
   "cell_type": "code",
   "execution_count": 77,
   "outputs": [],
   "source": [
    "citibike_df = citibike_df[['started_at', 'ended_at', 'start_station_id', 'end_station_id', 'ride_duration_secs']]\n",
    "citibike_df_group = citibike_df.groupby(['start_station_id', 'end_station_id']).agg({\n",
    "    'started_at': 'count',\n",
    "    'ended_at': 'count',\n",
    "    'ride_duration_secs': 'mean'\n",
    "}).reset_index()\n",
    "citibike_df_group = citibike_df_group[citibike_df_group['start_station_id'] != citibike_df_group['end_station_id']]\n",
    "citibike_df_group.columns = ['start_station_id', 'end_station_id', 'n_rides_start', 'n_rides_end', 'avg_ride_duration_secs']"
   ],
   "metadata": {
    "collapsed": false,
    "ExecuteTime": {
     "end_time": "2023-12-12T18:10:38.775428Z",
     "start_time": "2023-12-12T18:10:31.797241Z"
    }
   },
   "id": "57b32736dc2d4b0d"
  },
  {
   "cell_type": "code",
   "execution_count": 78,
   "outputs": [
    {
     "data": {
      "text/plain": "        start_station_id end_station_id  n_rides_start  n_rides_end  \\\n1                     72             79              1            1   \n2                     72            116              1            1   \n3                     72            127              1            1   \n4                     72            128              2            2   \n5                     72            146              1            1   \n...                  ...            ...            ...          ...   \n1567357           SYS032        5170.01              1            1   \n1567358           SYS032        5250.05              1            1   \n1567359           SYS032         SYS016              3            3   \n1567362           SYS035        5500.07              1            1   \n1567363           SYS035        5763.03              1            1   \n\n         avg_ride_duration_secs  \n1                   1747.900000  \n2                    840.623000  \n3                   1399.094000  \n4                   1360.311500  \n5                   1244.285000  \n...                         ...  \n1567357             1936.000000  \n1567358              402.000000  \n1567359             1086.666667  \n1567362              377.000000  \n1567363              585.000000  \n\n[1564631 rows x 5 columns]",
      "text/html": "<div>\n<style scoped>\n    .dataframe tbody tr th:only-of-type {\n        vertical-align: middle;\n    }\n\n    .dataframe tbody tr th {\n        vertical-align: top;\n    }\n\n    .dataframe thead th {\n        text-align: right;\n    }\n</style>\n<table border=\"1\" class=\"dataframe\">\n  <thead>\n    <tr style=\"text-align: right;\">\n      <th></th>\n      <th>start_station_id</th>\n      <th>end_station_id</th>\n      <th>n_rides_start</th>\n      <th>n_rides_end</th>\n      <th>avg_ride_duration_secs</th>\n    </tr>\n  </thead>\n  <tbody>\n    <tr>\n      <th>1</th>\n      <td>72</td>\n      <td>79</td>\n      <td>1</td>\n      <td>1</td>\n      <td>1747.900000</td>\n    </tr>\n    <tr>\n      <th>2</th>\n      <td>72</td>\n      <td>116</td>\n      <td>1</td>\n      <td>1</td>\n      <td>840.623000</td>\n    </tr>\n    <tr>\n      <th>3</th>\n      <td>72</td>\n      <td>127</td>\n      <td>1</td>\n      <td>1</td>\n      <td>1399.094000</td>\n    </tr>\n    <tr>\n      <th>4</th>\n      <td>72</td>\n      <td>128</td>\n      <td>2</td>\n      <td>2</td>\n      <td>1360.311500</td>\n    </tr>\n    <tr>\n      <th>5</th>\n      <td>72</td>\n      <td>146</td>\n      <td>1</td>\n      <td>1</td>\n      <td>1244.285000</td>\n    </tr>\n    <tr>\n      <th>...</th>\n      <td>...</td>\n      <td>...</td>\n      <td>...</td>\n      <td>...</td>\n      <td>...</td>\n    </tr>\n    <tr>\n      <th>1567357</th>\n      <td>SYS032</td>\n      <td>5170.01</td>\n      <td>1</td>\n      <td>1</td>\n      <td>1936.000000</td>\n    </tr>\n    <tr>\n      <th>1567358</th>\n      <td>SYS032</td>\n      <td>5250.05</td>\n      <td>1</td>\n      <td>1</td>\n      <td>402.000000</td>\n    </tr>\n    <tr>\n      <th>1567359</th>\n      <td>SYS032</td>\n      <td>SYS016</td>\n      <td>3</td>\n      <td>3</td>\n      <td>1086.666667</td>\n    </tr>\n    <tr>\n      <th>1567362</th>\n      <td>SYS035</td>\n      <td>5500.07</td>\n      <td>1</td>\n      <td>1</td>\n      <td>377.000000</td>\n    </tr>\n    <tr>\n      <th>1567363</th>\n      <td>SYS035</td>\n      <td>5763.03</td>\n      <td>1</td>\n      <td>1</td>\n      <td>585.000000</td>\n    </tr>\n  </tbody>\n</table>\n<p>1564631 rows × 5 columns</p>\n</div>"
     },
     "execution_count": 78,
     "metadata": {},
     "output_type": "execute_result"
    }
   ],
   "source": [
    "citibike_df_group"
   ],
   "metadata": {
    "collapsed": false,
    "ExecuteTime": {
     "end_time": "2023-12-12T18:10:38.838083Z",
     "start_time": "2023-12-12T18:10:38.798050Z"
    }
   },
   "id": "3fdf97b0c1257f25"
  },
  {
   "cell_type": "code",
   "execution_count": 79,
   "outputs": [
    {
     "data": {
      "text/plain": "     station_id        lat        lng                    geometry  \\\n0            72  40.767272 -73.993929  POINT (-73.99393 40.76727)   \n1            79  40.719116 -74.006667  POINT (-74.00667 40.71912)   \n2            82  40.711174 -74.000165  POINT (-74.00017 40.71117)   \n3            83  40.683826 -73.976323  POINT (-73.97632 40.68383)   \n4           116  40.741776 -74.001497  POINT (-74.00150 40.74178)   \n...         ...        ...        ...                         ...   \n6897     SYS033  40.728487 -74.011693  POINT (-74.01169 40.72849)   \n6898     SYS035  40.728660 -74.011980  POINT (-74.01198 40.72866)   \n6899     SYS052  40.604017 -74.019709  POINT (-74.01971 40.60402)   \n6900     SYS052  40.604017 -74.019709  POINT (-74.01971 40.60402)   \n3629  Lab - NYC  40.730000 -74.010000  POINT (-74.01000 40.73000)   \n\n      index_right  BoroCode   BoroName  CountyFIPS NTACode  \\\n0           139.0       1.0  Manhattan        61.0    MN15   \n1           144.0       1.0  Manhattan        61.0    MN24   \n2            85.0       1.0  Manhattan        61.0    MN27   \n3             6.0       3.0   Brooklyn        47.0    BK68   \n4           138.0       1.0  Manhattan        61.0    MN13   \n...           ...       ...        ...         ...     ...   \n6897        179.0       1.0  Manhattan        61.0    MN23   \n6898        179.0       1.0  Manhattan        61.0    MN23   \n6899        194.0       3.0   Brooklyn        47.0    BK99   \n6900        194.0       3.0   Brooklyn        47.0    BK99   \n3629        179.0       1.0  Manhattan        61.0    MN23   \n\n                                         NTAName     Shape_Leng    Shape_Area  \\\n0                                        Clinton   34570.938945  1.837385e+07   \n1         SoHo-TriBeCa-Civic Center-Little Italy   26855.031513  2.503268e+07   \n2                                      Chinatown   20786.254613  1.450188e+07   \n3                                    Fort Greene   19825.520859  1.648282e+07   \n4     Hudson Yards-Chelsea-Flatiron-Union Square   45412.960917  3.705437e+07   \n...                                          ...            ...           ...   \n6897                                West Village   27119.922778  2.488638e+07   \n6898                                West Village   27119.922778  2.488638e+07   \n6899                  park-cemetery-etc-Brooklyn  385416.939727  2.253711e+08   \n6900                  park-cemetery-etc-Brooklyn  385416.939727  2.253711e+08   \n3629                                West Village   27119.922778  2.488638e+07   \n\n      area_sq_mi                      center  center_lat  center_lng  \n0       0.659070  POINT (-73.99240 40.76417)   40.764165  -73.992399  \n1       0.897922  POINT (-74.00475 40.72077)   40.720766  -74.004748  \n2       0.520182  POINT (-73.99463 40.71561)   40.715607  -73.994630  \n3       0.591239  POINT (-73.97488 40.69080)   40.690795  -73.974881  \n4       1.329140  POINT (-73.99902 40.74758)   40.747581  -73.999019  \n...          ...                         ...         ...         ...  \n6897    0.892674  POINT (-74.00152 40.73302)   40.733017  -74.001516  \n6898    0.892674  POINT (-74.00152 40.73302)   40.733017  -74.001516  \n6899    8.084063  POINT (-73.91959 40.62310)   40.623104  -73.919592  \n6900    8.084063  POINT (-73.91959 40.62310)   40.623104  -73.919592  \n3629    0.892674  POINT (-74.00152 40.73302)   40.733017  -74.001516  \n\n[6902 rows x 16 columns]",
      "text/html": "<div>\n<style scoped>\n    .dataframe tbody tr th:only-of-type {\n        vertical-align: middle;\n    }\n\n    .dataframe tbody tr th {\n        vertical-align: top;\n    }\n\n    .dataframe thead th {\n        text-align: right;\n    }\n</style>\n<table border=\"1\" class=\"dataframe\">\n  <thead>\n    <tr style=\"text-align: right;\">\n      <th></th>\n      <th>station_id</th>\n      <th>lat</th>\n      <th>lng</th>\n      <th>geometry</th>\n      <th>index_right</th>\n      <th>BoroCode</th>\n      <th>BoroName</th>\n      <th>CountyFIPS</th>\n      <th>NTACode</th>\n      <th>NTAName</th>\n      <th>Shape_Leng</th>\n      <th>Shape_Area</th>\n      <th>area_sq_mi</th>\n      <th>center</th>\n      <th>center_lat</th>\n      <th>center_lng</th>\n    </tr>\n  </thead>\n  <tbody>\n    <tr>\n      <th>0</th>\n      <td>72</td>\n      <td>40.767272</td>\n      <td>-73.993929</td>\n      <td>POINT (-73.99393 40.76727)</td>\n      <td>139.0</td>\n      <td>1.0</td>\n      <td>Manhattan</td>\n      <td>61.0</td>\n      <td>MN15</td>\n      <td>Clinton</td>\n      <td>34570.938945</td>\n      <td>1.837385e+07</td>\n      <td>0.659070</td>\n      <td>POINT (-73.99240 40.76417)</td>\n      <td>40.764165</td>\n      <td>-73.992399</td>\n    </tr>\n    <tr>\n      <th>1</th>\n      <td>79</td>\n      <td>40.719116</td>\n      <td>-74.006667</td>\n      <td>POINT (-74.00667 40.71912)</td>\n      <td>144.0</td>\n      <td>1.0</td>\n      <td>Manhattan</td>\n      <td>61.0</td>\n      <td>MN24</td>\n      <td>SoHo-TriBeCa-Civic Center-Little Italy</td>\n      <td>26855.031513</td>\n      <td>2.503268e+07</td>\n      <td>0.897922</td>\n      <td>POINT (-74.00475 40.72077)</td>\n      <td>40.720766</td>\n      <td>-74.004748</td>\n    </tr>\n    <tr>\n      <th>2</th>\n      <td>82</td>\n      <td>40.711174</td>\n      <td>-74.000165</td>\n      <td>POINT (-74.00017 40.71117)</td>\n      <td>85.0</td>\n      <td>1.0</td>\n      <td>Manhattan</td>\n      <td>61.0</td>\n      <td>MN27</td>\n      <td>Chinatown</td>\n      <td>20786.254613</td>\n      <td>1.450188e+07</td>\n      <td>0.520182</td>\n      <td>POINT (-73.99463 40.71561)</td>\n      <td>40.715607</td>\n      <td>-73.994630</td>\n    </tr>\n    <tr>\n      <th>3</th>\n      <td>83</td>\n      <td>40.683826</td>\n      <td>-73.976323</td>\n      <td>POINT (-73.97632 40.68383)</td>\n      <td>6.0</td>\n      <td>3.0</td>\n      <td>Brooklyn</td>\n      <td>47.0</td>\n      <td>BK68</td>\n      <td>Fort Greene</td>\n      <td>19825.520859</td>\n      <td>1.648282e+07</td>\n      <td>0.591239</td>\n      <td>POINT (-73.97488 40.69080)</td>\n      <td>40.690795</td>\n      <td>-73.974881</td>\n    </tr>\n    <tr>\n      <th>4</th>\n      <td>116</td>\n      <td>40.741776</td>\n      <td>-74.001497</td>\n      <td>POINT (-74.00150 40.74178)</td>\n      <td>138.0</td>\n      <td>1.0</td>\n      <td>Manhattan</td>\n      <td>61.0</td>\n      <td>MN13</td>\n      <td>Hudson Yards-Chelsea-Flatiron-Union Square</td>\n      <td>45412.960917</td>\n      <td>3.705437e+07</td>\n      <td>1.329140</td>\n      <td>POINT (-73.99902 40.74758)</td>\n      <td>40.747581</td>\n      <td>-73.999019</td>\n    </tr>\n    <tr>\n      <th>...</th>\n      <td>...</td>\n      <td>...</td>\n      <td>...</td>\n      <td>...</td>\n      <td>...</td>\n      <td>...</td>\n      <td>...</td>\n      <td>...</td>\n      <td>...</td>\n      <td>...</td>\n      <td>...</td>\n      <td>...</td>\n      <td>...</td>\n      <td>...</td>\n      <td>...</td>\n      <td>...</td>\n    </tr>\n    <tr>\n      <th>6897</th>\n      <td>SYS033</td>\n      <td>40.728487</td>\n      <td>-74.011693</td>\n      <td>POINT (-74.01169 40.72849)</td>\n      <td>179.0</td>\n      <td>1.0</td>\n      <td>Manhattan</td>\n      <td>61.0</td>\n      <td>MN23</td>\n      <td>West Village</td>\n      <td>27119.922778</td>\n      <td>2.488638e+07</td>\n      <td>0.892674</td>\n      <td>POINT (-74.00152 40.73302)</td>\n      <td>40.733017</td>\n      <td>-74.001516</td>\n    </tr>\n    <tr>\n      <th>6898</th>\n      <td>SYS035</td>\n      <td>40.728660</td>\n      <td>-74.011980</td>\n      <td>POINT (-74.01198 40.72866)</td>\n      <td>179.0</td>\n      <td>1.0</td>\n      <td>Manhattan</td>\n      <td>61.0</td>\n      <td>MN23</td>\n      <td>West Village</td>\n      <td>27119.922778</td>\n      <td>2.488638e+07</td>\n      <td>0.892674</td>\n      <td>POINT (-74.00152 40.73302)</td>\n      <td>40.733017</td>\n      <td>-74.001516</td>\n    </tr>\n    <tr>\n      <th>6899</th>\n      <td>SYS052</td>\n      <td>40.604017</td>\n      <td>-74.019709</td>\n      <td>POINT (-74.01971 40.60402)</td>\n      <td>194.0</td>\n      <td>3.0</td>\n      <td>Brooklyn</td>\n      <td>47.0</td>\n      <td>BK99</td>\n      <td>park-cemetery-etc-Brooklyn</td>\n      <td>385416.939727</td>\n      <td>2.253711e+08</td>\n      <td>8.084063</td>\n      <td>POINT (-73.91959 40.62310)</td>\n      <td>40.623104</td>\n      <td>-73.919592</td>\n    </tr>\n    <tr>\n      <th>6900</th>\n      <td>SYS052</td>\n      <td>40.604017</td>\n      <td>-74.019709</td>\n      <td>POINT (-74.01971 40.60402)</td>\n      <td>194.0</td>\n      <td>3.0</td>\n      <td>Brooklyn</td>\n      <td>47.0</td>\n      <td>BK99</td>\n      <td>park-cemetery-etc-Brooklyn</td>\n      <td>385416.939727</td>\n      <td>2.253711e+08</td>\n      <td>8.084063</td>\n      <td>POINT (-73.91959 40.62310)</td>\n      <td>40.623104</td>\n      <td>-73.919592</td>\n    </tr>\n    <tr>\n      <th>3629</th>\n      <td>Lab - NYC</td>\n      <td>40.730000</td>\n      <td>-74.010000</td>\n      <td>POINT (-74.01000 40.73000)</td>\n      <td>179.0</td>\n      <td>1.0</td>\n      <td>Manhattan</td>\n      <td>61.0</td>\n      <td>MN23</td>\n      <td>West Village</td>\n      <td>27119.922778</td>\n      <td>2.488638e+07</td>\n      <td>0.892674</td>\n      <td>POINT (-74.00152 40.73302)</td>\n      <td>40.733017</td>\n      <td>-74.001516</td>\n    </tr>\n  </tbody>\n</table>\n<p>6902 rows × 16 columns</p>\n</div>"
     },
     "execution_count": 79,
     "metadata": {},
     "output_type": "execute_result"
    }
   ],
   "source": [
    "unique_stations_gdf"
   ],
   "metadata": {
    "collapsed": false,
    "ExecuteTime": {
     "end_time": "2023-12-12T18:10:38.948202Z",
     "start_time": "2023-12-12T18:10:38.870975Z"
    }
   },
   "id": "237098ebb9b68082"
  },
  {
   "cell_type": "code",
   "execution_count": 80,
   "outputs": [
    {
     "data": {
      "text/plain": "        start_station_id end_station_id  n_rides_start  n_rides_end  \\\n0                     72             79              1            1   \n1                     72            116              1            1   \n2                     72            127              1            1   \n3                     72            128              2            2   \n4                     72            146              1            1   \n...                  ...            ...            ...          ...   \n6386212           SYS032        5170.01              1            1   \n6386213           SYS032        5250.05              1            1   \n6386216           SYS032         SYS016              3            3   \n6386217           SYS035        5500.07              1            1   \n6386220           SYS035        5763.03              1            1   \n\n         avg_ride_duration_secs start_nta start_boro end_nta   end_boro  \n0                   1747.900000      MN15  Manhattan    MN24  Manhattan  \n1                    840.623000      MN15  Manhattan    MN13  Manhattan  \n2                   1399.094000      MN15  Manhattan    MN23  Manhattan  \n3                   1360.311500      MN15  Manhattan    MN24  Manhattan  \n4                   1244.285000      MN15  Manhattan    MN24  Manhattan  \n...                         ...       ...        ...     ...        ...  \n6386212             1936.000000      BK78   Brooklyn    BK78   Brooklyn  \n6386213              402.000000      BK78   Brooklyn    BK90   Brooklyn  \n6386216             1086.666667      BK78   Brooklyn    BK90   Brooklyn  \n6386217              377.000000      MN23  Manhattan    MN24  Manhattan  \n6386220              585.000000      MN23  Manhattan    MN23  Manhattan  \n\n[1564631 rows x 9 columns]",
      "text/html": "<div>\n<style scoped>\n    .dataframe tbody tr th:only-of-type {\n        vertical-align: middle;\n    }\n\n    .dataframe tbody tr th {\n        vertical-align: top;\n    }\n\n    .dataframe thead th {\n        text-align: right;\n    }\n</style>\n<table border=\"1\" class=\"dataframe\">\n  <thead>\n    <tr style=\"text-align: right;\">\n      <th></th>\n      <th>start_station_id</th>\n      <th>end_station_id</th>\n      <th>n_rides_start</th>\n      <th>n_rides_end</th>\n      <th>avg_ride_duration_secs</th>\n      <th>start_nta</th>\n      <th>start_boro</th>\n      <th>end_nta</th>\n      <th>end_boro</th>\n    </tr>\n  </thead>\n  <tbody>\n    <tr>\n      <th>0</th>\n      <td>72</td>\n      <td>79</td>\n      <td>1</td>\n      <td>1</td>\n      <td>1747.900000</td>\n      <td>MN15</td>\n      <td>Manhattan</td>\n      <td>MN24</td>\n      <td>Manhattan</td>\n    </tr>\n    <tr>\n      <th>1</th>\n      <td>72</td>\n      <td>116</td>\n      <td>1</td>\n      <td>1</td>\n      <td>840.623000</td>\n      <td>MN15</td>\n      <td>Manhattan</td>\n      <td>MN13</td>\n      <td>Manhattan</td>\n    </tr>\n    <tr>\n      <th>2</th>\n      <td>72</td>\n      <td>127</td>\n      <td>1</td>\n      <td>1</td>\n      <td>1399.094000</td>\n      <td>MN15</td>\n      <td>Manhattan</td>\n      <td>MN23</td>\n      <td>Manhattan</td>\n    </tr>\n    <tr>\n      <th>3</th>\n      <td>72</td>\n      <td>128</td>\n      <td>2</td>\n      <td>2</td>\n      <td>1360.311500</td>\n      <td>MN15</td>\n      <td>Manhattan</td>\n      <td>MN24</td>\n      <td>Manhattan</td>\n    </tr>\n    <tr>\n      <th>4</th>\n      <td>72</td>\n      <td>146</td>\n      <td>1</td>\n      <td>1</td>\n      <td>1244.285000</td>\n      <td>MN15</td>\n      <td>Manhattan</td>\n      <td>MN24</td>\n      <td>Manhattan</td>\n    </tr>\n    <tr>\n      <th>...</th>\n      <td>...</td>\n      <td>...</td>\n      <td>...</td>\n      <td>...</td>\n      <td>...</td>\n      <td>...</td>\n      <td>...</td>\n      <td>...</td>\n      <td>...</td>\n    </tr>\n    <tr>\n      <th>6386212</th>\n      <td>SYS032</td>\n      <td>5170.01</td>\n      <td>1</td>\n      <td>1</td>\n      <td>1936.000000</td>\n      <td>BK78</td>\n      <td>Brooklyn</td>\n      <td>BK78</td>\n      <td>Brooklyn</td>\n    </tr>\n    <tr>\n      <th>6386213</th>\n      <td>SYS032</td>\n      <td>5250.05</td>\n      <td>1</td>\n      <td>1</td>\n      <td>402.000000</td>\n      <td>BK78</td>\n      <td>Brooklyn</td>\n      <td>BK90</td>\n      <td>Brooklyn</td>\n    </tr>\n    <tr>\n      <th>6386216</th>\n      <td>SYS032</td>\n      <td>SYS016</td>\n      <td>3</td>\n      <td>3</td>\n      <td>1086.666667</td>\n      <td>BK78</td>\n      <td>Brooklyn</td>\n      <td>BK90</td>\n      <td>Brooklyn</td>\n    </tr>\n    <tr>\n      <th>6386217</th>\n      <td>SYS035</td>\n      <td>5500.07</td>\n      <td>1</td>\n      <td>1</td>\n      <td>377.000000</td>\n      <td>MN23</td>\n      <td>Manhattan</td>\n      <td>MN24</td>\n      <td>Manhattan</td>\n    </tr>\n    <tr>\n      <th>6386220</th>\n      <td>SYS035</td>\n      <td>5763.03</td>\n      <td>1</td>\n      <td>1</td>\n      <td>585.000000</td>\n      <td>MN23</td>\n      <td>Manhattan</td>\n      <td>MN23</td>\n      <td>Manhattan</td>\n    </tr>\n  </tbody>\n</table>\n<p>1564631 rows × 9 columns</p>\n</div>"
     },
     "execution_count": 80,
     "metadata": {},
     "output_type": "execute_result"
    }
   ],
   "source": [
    "citibike_df_group_mg1 = pd.merge(citibike_df_group, unique_stations_gdf[['station_id', 'NTACode', 'BoroName']], left_on='start_station_id', right_on='station_id', how='left')\n",
    "citibike_df_group_mg1.drop(columns=['station_id'], inplace=True)\n",
    "citibike_df_group_mg1.rename(columns={'NTACode': 'start_nta', 'BoroName': 'start_boro'}, inplace=True)\n",
    "citibike_df_group_mg2 = pd.merge(citibike_df_group_mg1, unique_stations_gdf[['station_id', 'NTACode', 'BoroName']], left_on='end_station_id', right_on='station_id', how='left')\n",
    "citibike_df_group_mg2.drop(columns=['station_id'], inplace=True)\n",
    "citibike_df_group_mg2.rename(columns={'NTACode': 'end_nta', 'BoroName': 'end_boro'}, inplace=True)\n",
    "citibike_df_group_mg2.drop_duplicates(subset=['start_station_id', 'end_station_id'], inplace=True)\n",
    "citibike_df_group_mg2"
   ],
   "metadata": {
    "collapsed": false,
    "ExecuteTime": {
     "end_time": "2023-12-12T18:10:43.828555Z",
     "start_time": "2023-12-12T18:10:38.886865Z"
    }
   },
   "id": "cd6f04866140d1b5"
  },
  {
   "cell_type": "code",
   "execution_count": 94,
   "outputs": [
    {
     "data": {
      "text/plain": "           n_rides_start  avg_ride_duration_secs_start  n_rides_end  \\\nstart_nta                                                             \nBK09              252137                   2181.727413       252301   \nBK31                8651                   4971.726631         9071   \nBK32               83256                   1959.681770        89214   \nBK33              344850                   2085.826814       363347   \nBK34               31154                   1937.807363        27663   \n...                  ...                           ...          ...   \nQN68              153454                   1678.608624       151949   \nQN70              326262                   1800.754455       318447   \nQN71              106531                   1660.924561       111972   \nQN72              153177                   2446.146617       153880   \nQN99               26701                   1774.984745        26612   \n\n           avg_ride_duration_secs_end  \nstart_nta                              \nBK09                      1800.981875  \nBK31                      2947.912716  \nBK32                      2761.422835  \nBK33                      2018.137554  \nBK34                      2446.954809  \n...                               ...  \nQN68                      2395.614926  \nQN70                      1950.728969  \nQN71                      2333.360949  \nQN72                      2914.404306  \nQN99                      2657.061378  \n\n[83 rows x 4 columns]",
      "text/html": "<div>\n<style scoped>\n    .dataframe tbody tr th:only-of-type {\n        vertical-align: middle;\n    }\n\n    .dataframe tbody tr th {\n        vertical-align: top;\n    }\n\n    .dataframe thead th {\n        text-align: right;\n    }\n</style>\n<table border=\"1\" class=\"dataframe\">\n  <thead>\n    <tr style=\"text-align: right;\">\n      <th></th>\n      <th>n_rides_start</th>\n      <th>avg_ride_duration_secs_start</th>\n      <th>n_rides_end</th>\n      <th>avg_ride_duration_secs_end</th>\n    </tr>\n    <tr>\n      <th>start_nta</th>\n      <th></th>\n      <th></th>\n      <th></th>\n      <th></th>\n    </tr>\n  </thead>\n  <tbody>\n    <tr>\n      <th>BK09</th>\n      <td>252137</td>\n      <td>2181.727413</td>\n      <td>252301</td>\n      <td>1800.981875</td>\n    </tr>\n    <tr>\n      <th>BK31</th>\n      <td>8651</td>\n      <td>4971.726631</td>\n      <td>9071</td>\n      <td>2947.912716</td>\n    </tr>\n    <tr>\n      <th>BK32</th>\n      <td>83256</td>\n      <td>1959.681770</td>\n      <td>89214</td>\n      <td>2761.422835</td>\n    </tr>\n    <tr>\n      <th>BK33</th>\n      <td>344850</td>\n      <td>2085.826814</td>\n      <td>363347</td>\n      <td>2018.137554</td>\n    </tr>\n    <tr>\n      <th>BK34</th>\n      <td>31154</td>\n      <td>1937.807363</td>\n      <td>27663</td>\n      <td>2446.954809</td>\n    </tr>\n    <tr>\n      <th>...</th>\n      <td>...</td>\n      <td>...</td>\n      <td>...</td>\n      <td>...</td>\n    </tr>\n    <tr>\n      <th>QN68</th>\n      <td>153454</td>\n      <td>1678.608624</td>\n      <td>151949</td>\n      <td>2395.614926</td>\n    </tr>\n    <tr>\n      <th>QN70</th>\n      <td>326262</td>\n      <td>1800.754455</td>\n      <td>318447</td>\n      <td>1950.728969</td>\n    </tr>\n    <tr>\n      <th>QN71</th>\n      <td>106531</td>\n      <td>1660.924561</td>\n      <td>111972</td>\n      <td>2333.360949</td>\n    </tr>\n    <tr>\n      <th>QN72</th>\n      <td>153177</td>\n      <td>2446.146617</td>\n      <td>153880</td>\n      <td>2914.404306</td>\n    </tr>\n    <tr>\n      <th>QN99</th>\n      <td>26701</td>\n      <td>1774.984745</td>\n      <td>26612</td>\n      <td>2657.061378</td>\n    </tr>\n  </tbody>\n</table>\n<p>83 rows × 4 columns</p>\n</div>"
     },
     "execution_count": 94,
     "metadata": {},
     "output_type": "execute_result"
    }
   ],
   "source": [
    "citibike_start_agg = citibike_df_group_mg2.groupby('start_nta').agg(\n",
    "    {\n",
    "        'n_rides_start': 'sum',\n",
    "        'avg_ride_duration_secs': 'mean'\n",
    "    }\n",
    ")\n",
    "citibike_end_agg = citibike_df_group_mg2.groupby('end_nta').agg(\n",
    "    {\n",
    "        'n_rides_end': 'sum',\n",
    "        'avg_ride_duration_secs': 'mean'\n",
    "    }\n",
    ")\n",
    "citibike_agg = citibike_start_agg.merge(citibike_end_agg, left_index=True, right_index=True, suffixes=('_start', '_end'))\n",
    "citibike_agg"
   ],
   "metadata": {
    "collapsed": false,
    "ExecuteTime": {
     "end_time": "2023-12-12T18:13:40.285374Z",
     "start_time": "2023-12-12T18:13:40.104554Z"
    }
   },
   "id": "26f4acf30c69e1d2"
  },
  {
   "cell_type": "code",
   "execution_count": 95,
   "outputs": [
    {
     "data": {
      "text/plain": "       OOcHU1E  ROcHU1E     MdVlE  EA_LTHSGrE  EA_BchDHE  EA_HScGrdE  \\\nGeoID                                                                  \nBK09      4817     6335  768459.0         562      14542        1739   \nBK17     13992    12206  467326.0        6990      19703       12123   \nBK19      4380     9717  566383.0        3306      10472        6344   \nBK21      1687     9294  433588.0        5532       4594        5653   \nBK23      3404     4728  282390.0         749       6926        2659   \n...        ...      ...       ...         ...        ...         ...   \nSI37      4462     4855  371507.0        3707       4608        5508   \nSI45      5562     2100  435566.0        1322       4624        5176   \nSI48      7911     1184  422899.0        1428       6177        5611   \nSI54     12765     2752  450902.0        2256      10022       10523   \nSI99         0        0       NaN           0          0           0   \n\n       MgBSciArtE  SrvcE  SalesOffE  NRCnstMntE  ...  Pv100t124E  Pv125t149E  \\\nGeoID                                            ...                           \nBK09        10584    753       2089         267  ...         458         362   \nBK17        12523   5691       6605        2109  ...        3392        3287   \nBK19         5165   3561       2463        1323  ...        2359        2139   \nBK21         2462   2907       2215         804  ...        2803        1886   \nBK23         2931   1332       1917         307  ...        1126         364   \n...           ...    ...        ...         ...  ...         ...         ...   \nSI37         3638   3116       2578        1127  ...        1258         726   \nSI45         3876   1823       2092         981  ...         768         597   \nSI48         5328   1970       3111         994  ...         397        1186   \nSI54         8683   3400       5472        1528  ...         963         828   \nSI99            0      0          0           0  ...           0           0   \n\n       Pv150t174E  Pv175t184E  Pv185t199E  Pv200t299E  Pv300t399E  Pv400t499E  \\\nGeoID                                                                           \nBK09          418          89         171        1452        1133        1583   \nBK17         2949         774        1037        9755        8100        7387   \nBK19         1588         559         708        4291        3002        2401   \nBK21         1855         713         454        4289        2683        1552   \nBK23          844         104         313        2032        2127        1677   \n...           ...         ...         ...         ...         ...         ...   \nSI37         1649         340         580        3804        2558        2778   \nSI45          318          46        1070        2155        2981        3108   \nSI48          542         341         276        4243        2732        3333   \nSI54          603         519         663        5652        5703        6455   \nSI99            0           0           0           0           0           0   \n\n       Pv500plE  Pop_1E  \nGeoID                    \nBK09      14382   24140  \nBK17      18824   66293  \nBK19       7733   34157  \nBK21       3473   29677  \nBK23       4687   15754  \n...         ...     ...  \nSI37       6128   26247  \nSI45       8343   21358  \nSI48      11557   26482  \nSI54      19033   43602  \nSI99          0       0  \n\n[195 rows x 26 columns]",
      "text/html": "<div>\n<style scoped>\n    .dataframe tbody tr th:only-of-type {\n        vertical-align: middle;\n    }\n\n    .dataframe tbody tr th {\n        vertical-align: top;\n    }\n\n    .dataframe thead th {\n        text-align: right;\n    }\n</style>\n<table border=\"1\" class=\"dataframe\">\n  <thead>\n    <tr style=\"text-align: right;\">\n      <th></th>\n      <th>OOcHU1E</th>\n      <th>ROcHU1E</th>\n      <th>MdVlE</th>\n      <th>EA_LTHSGrE</th>\n      <th>EA_BchDHE</th>\n      <th>EA_HScGrdE</th>\n      <th>MgBSciArtE</th>\n      <th>SrvcE</th>\n      <th>SalesOffE</th>\n      <th>NRCnstMntE</th>\n      <th>...</th>\n      <th>Pv100t124E</th>\n      <th>Pv125t149E</th>\n      <th>Pv150t174E</th>\n      <th>Pv175t184E</th>\n      <th>Pv185t199E</th>\n      <th>Pv200t299E</th>\n      <th>Pv300t399E</th>\n      <th>Pv400t499E</th>\n      <th>Pv500plE</th>\n      <th>Pop_1E</th>\n    </tr>\n    <tr>\n      <th>GeoID</th>\n      <th></th>\n      <th></th>\n      <th></th>\n      <th></th>\n      <th></th>\n      <th></th>\n      <th></th>\n      <th></th>\n      <th></th>\n      <th></th>\n      <th></th>\n      <th></th>\n      <th></th>\n      <th></th>\n      <th></th>\n      <th></th>\n      <th></th>\n      <th></th>\n      <th></th>\n      <th></th>\n      <th></th>\n    </tr>\n  </thead>\n  <tbody>\n    <tr>\n      <th>BK09</th>\n      <td>4817</td>\n      <td>6335</td>\n      <td>768459.0</td>\n      <td>562</td>\n      <td>14542</td>\n      <td>1739</td>\n      <td>10584</td>\n      <td>753</td>\n      <td>2089</td>\n      <td>267</td>\n      <td>...</td>\n      <td>458</td>\n      <td>362</td>\n      <td>418</td>\n      <td>89</td>\n      <td>171</td>\n      <td>1452</td>\n      <td>1133</td>\n      <td>1583</td>\n      <td>14382</td>\n      <td>24140</td>\n    </tr>\n    <tr>\n      <th>BK17</th>\n      <td>13992</td>\n      <td>12206</td>\n      <td>467326.0</td>\n      <td>6990</td>\n      <td>19703</td>\n      <td>12123</td>\n      <td>12523</td>\n      <td>5691</td>\n      <td>6605</td>\n      <td>2109</td>\n      <td>...</td>\n      <td>3392</td>\n      <td>3287</td>\n      <td>2949</td>\n      <td>774</td>\n      <td>1037</td>\n      <td>9755</td>\n      <td>8100</td>\n      <td>7387</td>\n      <td>18824</td>\n      <td>66293</td>\n    </tr>\n    <tr>\n      <th>BK19</th>\n      <td>4380</td>\n      <td>9717</td>\n      <td>566383.0</td>\n      <td>3306</td>\n      <td>10472</td>\n      <td>6344</td>\n      <td>5165</td>\n      <td>3561</td>\n      <td>2463</td>\n      <td>1323</td>\n      <td>...</td>\n      <td>2359</td>\n      <td>2139</td>\n      <td>1588</td>\n      <td>559</td>\n      <td>708</td>\n      <td>4291</td>\n      <td>3002</td>\n      <td>2401</td>\n      <td>7733</td>\n      <td>34157</td>\n    </tr>\n    <tr>\n      <th>BK21</th>\n      <td>1687</td>\n      <td>9294</td>\n      <td>433588.0</td>\n      <td>5532</td>\n      <td>4594</td>\n      <td>5653</td>\n      <td>2462</td>\n      <td>2907</td>\n      <td>2215</td>\n      <td>804</td>\n      <td>...</td>\n      <td>2803</td>\n      <td>1886</td>\n      <td>1855</td>\n      <td>713</td>\n      <td>454</td>\n      <td>4289</td>\n      <td>2683</td>\n      <td>1552</td>\n      <td>3473</td>\n      <td>29677</td>\n    </tr>\n    <tr>\n      <th>BK23</th>\n      <td>3404</td>\n      <td>4728</td>\n      <td>282390.0</td>\n      <td>749</td>\n      <td>6926</td>\n      <td>2659</td>\n      <td>2931</td>\n      <td>1332</td>\n      <td>1917</td>\n      <td>307</td>\n      <td>...</td>\n      <td>1126</td>\n      <td>364</td>\n      <td>844</td>\n      <td>104</td>\n      <td>313</td>\n      <td>2032</td>\n      <td>2127</td>\n      <td>1677</td>\n      <td>4687</td>\n      <td>15754</td>\n    </tr>\n    <tr>\n      <th>...</th>\n      <td>...</td>\n      <td>...</td>\n      <td>...</td>\n      <td>...</td>\n      <td>...</td>\n      <td>...</td>\n      <td>...</td>\n      <td>...</td>\n      <td>...</td>\n      <td>...</td>\n      <td>...</td>\n      <td>...</td>\n      <td>...</td>\n      <td>...</td>\n      <td>...</td>\n      <td>...</td>\n      <td>...</td>\n      <td>...</td>\n      <td>...</td>\n      <td>...</td>\n      <td>...</td>\n    </tr>\n    <tr>\n      <th>SI37</th>\n      <td>4462</td>\n      <td>4855</td>\n      <td>371507.0</td>\n      <td>3707</td>\n      <td>4608</td>\n      <td>5508</td>\n      <td>3638</td>\n      <td>3116</td>\n      <td>2578</td>\n      <td>1127</td>\n      <td>...</td>\n      <td>1258</td>\n      <td>726</td>\n      <td>1649</td>\n      <td>340</td>\n      <td>580</td>\n      <td>3804</td>\n      <td>2558</td>\n      <td>2778</td>\n      <td>6128</td>\n      <td>26247</td>\n    </tr>\n    <tr>\n      <th>SI45</th>\n      <td>5562</td>\n      <td>2100</td>\n      <td>435566.0</td>\n      <td>1322</td>\n      <td>4624</td>\n      <td>5176</td>\n      <td>3876</td>\n      <td>1823</td>\n      <td>2092</td>\n      <td>981</td>\n      <td>...</td>\n      <td>768</td>\n      <td>597</td>\n      <td>318</td>\n      <td>46</td>\n      <td>1070</td>\n      <td>2155</td>\n      <td>2981</td>\n      <td>3108</td>\n      <td>8343</td>\n      <td>21358</td>\n    </tr>\n    <tr>\n      <th>SI48</th>\n      <td>7911</td>\n      <td>1184</td>\n      <td>422899.0</td>\n      <td>1428</td>\n      <td>6177</td>\n      <td>5611</td>\n      <td>5328</td>\n      <td>1970</td>\n      <td>3111</td>\n      <td>994</td>\n      <td>...</td>\n      <td>397</td>\n      <td>1186</td>\n      <td>542</td>\n      <td>341</td>\n      <td>276</td>\n      <td>4243</td>\n      <td>2732</td>\n      <td>3333</td>\n      <td>11557</td>\n      <td>26482</td>\n    </tr>\n    <tr>\n      <th>SI54</th>\n      <td>12765</td>\n      <td>2752</td>\n      <td>450902.0</td>\n      <td>2256</td>\n      <td>10022</td>\n      <td>10523</td>\n      <td>8683</td>\n      <td>3400</td>\n      <td>5472</td>\n      <td>1528</td>\n      <td>...</td>\n      <td>963</td>\n      <td>828</td>\n      <td>603</td>\n      <td>519</td>\n      <td>663</td>\n      <td>5652</td>\n      <td>5703</td>\n      <td>6455</td>\n      <td>19033</td>\n      <td>43602</td>\n    </tr>\n    <tr>\n      <th>SI99</th>\n      <td>0</td>\n      <td>0</td>\n      <td>NaN</td>\n      <td>0</td>\n      <td>0</td>\n      <td>0</td>\n      <td>0</td>\n      <td>0</td>\n      <td>0</td>\n      <td>0</td>\n      <td>...</td>\n      <td>0</td>\n      <td>0</td>\n      <td>0</td>\n      <td>0</td>\n      <td>0</td>\n      <td>0</td>\n      <td>0</td>\n      <td>0</td>\n      <td>0</td>\n      <td>0</td>\n    </tr>\n  </tbody>\n</table>\n<p>195 rows × 26 columns</p>\n</div>"
     },
     "execution_count": 95,
     "metadata": {},
     "output_type": "execute_result"
    }
   ],
   "source": [
    "nta_demo_df_final"
   ],
   "metadata": {
    "collapsed": false,
    "ExecuteTime": {
     "end_time": "2023-12-12T18:13:41.122906Z",
     "start_time": "2023-12-12T18:13:41.107260Z"
    }
   },
   "id": "26082633ecc90750"
  },
  {
   "cell_type": "code",
   "execution_count": 99,
   "outputs": [],
   "source": [
    "# citibike_agg\n",
    "# buildings_gdf_final\n",
    "# nta_demo_df_final\n",
    "station_count = unique_stations_gdf.groupby('NTACode').size().reset_index().rename({0: 'station_count'}, axis=1).set_index('NTACode')\n",
    "mg1 = citibike_agg.merge(buildings_gdf_final, left_index=True, right_index=True, how='right')\n",
    "mg2 = mg1.merge(nta_demo_df_final, left_index=True, right_index=True, how='left')\n",
    "mg3 = mg2.merge(station_count, left_index=True, right_index=True, how='left')\n",
    "mg3.to_csv('data/final_data.csv')"
   ],
   "metadata": {
    "collapsed": false,
    "ExecuteTime": {
     "end_time": "2023-12-12T18:15:07.796545Z",
     "start_time": "2023-12-12T18:15:07.760201Z"
    }
   },
   "id": "b6b914cb680560b0"
  },
  {
   "cell_type": "code",
   "execution_count": 92,
   "outputs": [
    {
     "data": {
      "text/plain": "   NTACode  station_count\n0     BK09             81\n1     BK31              8\n2     BK32             89\n3     BK33            229\n4     BK34             24\n..     ...            ...\n78    QN68            101\n79    QN70            206\n80    QN71             74\n81    QN72            132\n82    QN99             11\n\n[83 rows x 2 columns]",
      "text/html": "<div>\n<style scoped>\n    .dataframe tbody tr th:only-of-type {\n        vertical-align: middle;\n    }\n\n    .dataframe tbody tr th {\n        vertical-align: top;\n    }\n\n    .dataframe thead th {\n        text-align: right;\n    }\n</style>\n<table border=\"1\" class=\"dataframe\">\n  <thead>\n    <tr style=\"text-align: right;\">\n      <th></th>\n      <th>NTACode</th>\n      <th>station_count</th>\n    </tr>\n  </thead>\n  <tbody>\n    <tr>\n      <th>0</th>\n      <td>BK09</td>\n      <td>81</td>\n    </tr>\n    <tr>\n      <th>1</th>\n      <td>BK31</td>\n      <td>8</td>\n    </tr>\n    <tr>\n      <th>2</th>\n      <td>BK32</td>\n      <td>89</td>\n    </tr>\n    <tr>\n      <th>3</th>\n      <td>BK33</td>\n      <td>229</td>\n    </tr>\n    <tr>\n      <th>4</th>\n      <td>BK34</td>\n      <td>24</td>\n    </tr>\n    <tr>\n      <th>...</th>\n      <td>...</td>\n      <td>...</td>\n    </tr>\n    <tr>\n      <th>78</th>\n      <td>QN68</td>\n      <td>101</td>\n    </tr>\n    <tr>\n      <th>79</th>\n      <td>QN70</td>\n      <td>206</td>\n    </tr>\n    <tr>\n      <th>80</th>\n      <td>QN71</td>\n      <td>74</td>\n    </tr>\n    <tr>\n      <th>81</th>\n      <td>QN72</td>\n      <td>132</td>\n    </tr>\n    <tr>\n      <th>82</th>\n      <td>QN99</td>\n      <td>11</td>\n    </tr>\n  </tbody>\n</table>\n<p>83 rows × 2 columns</p>\n</div>"
     },
     "execution_count": 92,
     "metadata": {},
     "output_type": "execute_result"
    }
   ],
   "source": [
    "station_count = unique_stations_gdf.groupby('NTACode').size().reset_index().rename({0: 'station_count'}, axis=1)\n",
    "station_count"
   ],
   "metadata": {
    "collapsed": false,
    "ExecuteTime": {
     "end_time": "2023-12-12T18:13:14.720611Z",
     "start_time": "2023-12-12T18:13:14.707644Z"
    }
   },
   "id": "63e950de161ebbf7"
  },
  {
   "cell_type": "code",
   "execution_count": null,
   "outputs": [],
   "source": [
    "import googlemaps\n",
    "\n",
    "gmaps = googlemaps.Client(key='INSERT KEY HERE')\n"
   ],
   "metadata": {
    "collapsed": false,
    "ExecuteTime": {
     "start_time": "2023-12-12T18:10:43.884156Z"
    }
   },
   "id": "a2a2643061f6940f"
  },
  {
   "cell_type": "code",
   "execution_count": null,
   "outputs": [],
   "source": [
    "def to_feet(meters):\n",
    "    return meters * 3.28084\n",
    "\n",
    "def get_directions(start_coords: tuple[float, float], end_coords: tuple[float, float]) -> dict[str, float]:\n",
    "    \"\"\"\n",
    "    \n",
    "    :param start_coords: starting coordinates (lat, lng)\n",
    "    :param end_coords: ending coordinates (lat, lng)\n",
    "    :return: dictionary of:\n",
    "        - duration: time in seconds\n",
    "        - distance: distance in feet\n",
    "        - elevation: elevation change in feet\n",
    "    \"\"\"\n",
    "    start_lat, start_lng = start_coords\n",
    "    end_lat, end_lng = end_coords\n",
    "    dirs = gmaps.directions((start_lat, start_lng), (end_lat, end_lng), mode='bicycling')\n",
    "    return parse_directions(dirs)\n",
    "    \n",
    "    \n",
    "def parse_directions(directions):\n",
    "    steps, n_samples = get_steps(directions)\n",
    "    duration = directions[0]['legs'][0]['duration']['value']\n",
    "    distance = directions[0]['legs'][0]['distance']['value']\n",
    "    elevation = get_elevation(steps, n_samples)\n",
    "    return {\n",
    "        'duration': duration,\n",
    "        'distance': round(to_feet(distance), 2),\n",
    "        'elevation': elevation\n",
    "    }\n",
    "    \n",
    "    \n",
    "def get_steps(directions):\n",
    "    steps = []\n",
    "    n_samples = 0\n",
    "    for step in directions[0]['legs'][0]['steps']:\n",
    "        n_samples += 1\n",
    "        steps.append((step['start_location']['lat'], step['start_location']['lng']))\n",
    "        steps.append((step['end_location']['lat'], step['end_location']['lng']))\n",
    "    return steps, n_samples\n",
    "\n",
    "def get_elevation(steps, samples):\n",
    "    elevations = gmaps.elevation_along_path(steps, samples)\n",
    "    return round(to_feet(calc_total_elevation(elevations)), 1)\n",
    "\n",
    "def calc_total_elevation(elevations):\n",
    "    total_elevation = 0\n",
    "    for i in range(len(elevations) - 1):\n",
    "        total_elevation += elevations[i + 1]['elevation'] - elevations[i]['elevation']\n",
    "    return total_elevation\n",
    "\n",
    "get_directions((40.767272, -73.993929), (40.696089, -73.978034))"
   ],
   "metadata": {
    "collapsed": false,
    "ExecuteTime": {
     "start_time": "2023-12-12T18:10:43.885504Z"
    }
   },
   "id": "87a98a267e44bbe4"
  },
  {
   "cell_type": "code",
   "execution_count": null,
   "outputs": [],
   "source": [],
   "metadata": {
    "collapsed": false,
    "ExecuteTime": {
     "start_time": "2023-12-12T18:10:43.887408Z"
    }
   },
   "id": "1a0a67f04762a4d3"
  },
  {
   "cell_type": "code",
   "execution_count": null,
   "outputs": [],
   "source": [
    "len(unique_stations)"
   ],
   "metadata": {
    "collapsed": false,
    "ExecuteTime": {
     "start_time": "2023-12-12T18:10:43.888330Z"
    }
   },
   "id": "9f96fc8efd794886"
  },
  {
   "cell_type": "code",
   "execution_count": null,
   "outputs": [],
   "source": [],
   "metadata": {
    "collapsed": false,
    "ExecuteTime": {
     "start_time": "2023-12-12T17:17:26.014825Z"
    }
   },
   "id": "48d94b0858ea3eb4"
  }
 ],
 "metadata": {
  "kernelspec": {
   "display_name": "Python 3",
   "language": "python",
   "name": "python3"
  },
  "language_info": {
   "codemirror_mode": {
    "name": "ipython",
    "version": 2
   },
   "file_extension": ".py",
   "mimetype": "text/x-python",
   "name": "python",
   "nbconvert_exporter": "python",
   "pygments_lexer": "ipython2",
   "version": "2.7.6"
  }
 },
 "nbformat": 4,
 "nbformat_minor": 5
}
